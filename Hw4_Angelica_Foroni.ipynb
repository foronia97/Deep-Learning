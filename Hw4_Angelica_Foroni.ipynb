{
  "nbformat": 4,
  "nbformat_minor": 0,
  "metadata": {
    "colab": {
      "name": "Hw4_Angelica_Foroni.ipynb",
      "provenance": [],
      "collapsed_sections": [
        "WTXPA4gUKkpp",
        "qZxFjnG7Kuwi",
        "-jLxP0KW1104",
        "eTrvel3KRkYy",
        "BHc_4yOASBXu"
      ],
      "toc_visible": true
    },
    "kernelspec": {
      "display_name": "Python 3",
      "name": "python3"
    }
  },
  "cells": [
    {
      "cell_type": "markdown",
      "metadata": {
        "id": "S4Iui5UetZvC"
      },
      "source": [
        "#**HW4 : Recurrent Neural Networks**\n",
        "In this homework, we will explore how to develop a simple Recurrent Neural Network (RNN) for sentiment analysis. As a dataset, we will use the IMDB dataset. It contains the text of some reviews and the sentiment given by the authors of the reviews (positive review or negative review). The input to the RNN is the sequence of words that compose a review. The learning task consists in predicting the sentiment of the review.\n",
        "In the first part, we will learn how to develop a simple RNN, then we will explore the differences in terms of computational load, number of parameters, and performances with respect to more advanced recurrent models, like LSTM and GRU. Subsequently, we experiment with the bi-directional model to unveil the strengths and the weaknesses of this technique. Finally, we will explore how to face overfitting by Dropout. "
      ]
    },
    {
      "cell_type": "markdown",
      "metadata": {
        "id": "WTXPA4gUKkpp"
      },
      "source": [
        "##[TO COMPLETE] Exercise 4.1: Simple RNN\n",
        "\n",
        "Let's start by importing Tensorflow, Keras and Numpy"
      ]
    },
    {
      "cell_type": "code",
      "metadata": {
        "id": "G-hX557NDQ9s"
      },
      "source": [
        "import numpy as np\n",
        "import tensorflow as tf\n",
        "from tensorflow import keras\n",
        "import matplotlib.pyplot as plt\n",
        "\n",
        "np.random.seed(454545)"
      ],
      "execution_count": 1,
      "outputs": []
    },
    {
      "cell_type": "markdown",
      "metadata": {
        "id": "qZxFjnG7Kuwi"
      },
      "source": [
        "###Load dataset:\n",
        "In this HW, we use the same datset used in the HW2, the IMDB dataset. The dataset contains 50,000 movie reviews from IMDB, labeled by sentiment (positive/negative). Reviews have been preprocessed, and each review is encoded as a sequence of word indexes. For convenience, the words are indexed by the overall frequency in the dataset, so that for example the integer \"3\" encodes the 3rd most frequent word in the data. For testing purposes, we will only consider the first 10,000  most common words.\n",
        "By default, the load_data method returns a breakdown of the dataset into training and test sets. Both these sets contain 25,000 samples. To also have a validation set, we split the test set in half."
      ]
    },
    {
      "cell_type": "code",
      "metadata": {
        "colab": {
          "base_uri": "https://localhost:8080/"
        },
        "id": "NpaX6AGOD77D",
        "outputId": "cc87905f-578f-41b2-f098-fe661687572a"
      },
      "source": [
        "num_words = 10000\n",
        "(X_train, y_train), (X_test, y_test) = keras.datasets.imdb.load_data(num_words=num_words)\n",
        "(X_valid, X_test) = X_test[:12500], X_test[12500:]\n",
        "(y_valid, y_test) = y_test[:12500], y_test[12500:]"
      ],
      "execution_count": 2,
      "outputs": [
        {
          "output_type": "stream",
          "text": [
            "Downloading data from https://storage.googleapis.com/tensorflow/tf-keras-datasets/imdb.npz\n",
            "17465344/17464789 [==============================] - 0s 0us/step\n"
          ],
          "name": "stdout"
        },
        {
          "output_type": "stream",
          "text": [
            "<string>:6: VisibleDeprecationWarning: Creating an ndarray from ragged nested sequences (which is a list-or-tuple of lists-or-tuples-or ndarrays with different lengths or shapes) is deprecated. If you meant to do this, you must specify 'dtype=object' when creating the ndarray\n",
            "/usr/local/lib/python3.7/dist-packages/tensorflow/python/keras/datasets/imdb.py:159: VisibleDeprecationWarning: Creating an ndarray from ragged nested sequences (which is a list-or-tuple of lists-or-tuples-or ndarrays with different lengths or shapes) is deprecated. If you meant to do this, you must specify 'dtype=object' when creating the ndarray\n",
            "  x_train, y_train = np.array(xs[:idx]), np.array(labels[:idx])\n",
            "/usr/local/lib/python3.7/dist-packages/tensorflow/python/keras/datasets/imdb.py:160: VisibleDeprecationWarning: Creating an ndarray from ragged nested sequences (which is a list-or-tuple of lists-or-tuples-or ndarrays with different lengths or shapes) is deprecated. If you meant to do this, you must specify 'dtype=object' when creating the ndarray\n",
            "  x_test, y_test = np.array(xs[idx:]), np.array(labels[idx:])\n"
          ],
          "name": "stderr"
        }
      ]
    },
    {
      "cell_type": "markdown",
      "metadata": {
        "id": "FZHxa95qQ0jb"
      },
      "source": [
        "Let's also get the word indexs (word to word-id)"
      ]
    },
    {
      "cell_type": "code",
      "metadata": {
        "colab": {
          "base_uri": "https://localhost:8080/"
        },
        "id": "LszZMh45X8Wz",
        "outputId": "5e929c3f-409c-452b-c850-d6515aef78c5"
      },
      "source": [
        "word_index = keras.datasets.imdb.get_word_index()"
      ],
      "execution_count": 3,
      "outputs": [
        {
          "output_type": "stream",
          "text": [
            "Downloading data from https://storage.googleapis.com/tensorflow/tf-keras-datasets/imdb_word_index.json\n",
            "1646592/1641221 [==============================] - 0s 0us/step\n"
          ],
          "name": "stdout"
        }
      ]
    },
    {
      "cell_type": "markdown",
      "metadata": {
        "id": "SxLLVb5mRc0v"
      },
      "source": [
        "Now we create a reverse index (word-id to word) method. Moreover, we add three special word-ids to encode:\n",
        "- the padding;\n",
        "- the start of a sequence;\n",
        "- a word that is not in the vocabulary of the first 10,000 most common words.\n",
        "\n",
        "Moreover, we also add an \"unknown\" placeholder for all the other symbols (not words) that may occur.\n",
        "*Please, notice that Keras does not use index 0, so we can shift the indices only by 3 positions.*"
      ]
    },
    {
      "cell_type": "code",
      "metadata": {
        "id": "NeZwDtDjYFt3"
      },
      "source": [
        "reverse_index = {word_id + 3: word for word, word_id in word_index.items()}\n",
        "reverse_index[0] = \"<pad>\" # padding\n",
        "reverse_index[1] = \"<sos>\" # start of sequence\n",
        "reverse_index[2] = \"<oov>\" # out-of-vocabulary\n",
        "reverse_index[3] = \"<unk>\" # unknown\n",
        "\n",
        "def decode_review(word_ids):\n",
        "    return \" \".join([reverse_index.get(word_id, \"<err>\") for word_id in word_ids])"
      ],
      "execution_count": 4,
      "outputs": []
    },
    {
      "cell_type": "markdown",
      "metadata": {
        "id": "iIMY115nRzXQ"
      },
      "source": [
        "Let's print a training sample and its target value"
      ]
    },
    {
      "cell_type": "code",
      "metadata": {
        "colab": {
          "base_uri": "https://localhost:8080/",
          "height": 220
        },
        "id": "jnBRMiZJYQpm",
        "outputId": "35af19bf-7414-4eba-eaf5-b1dcebca8f45"
      },
      "source": [
        "decode_review(X_train[0])"
      ],
      "execution_count": 5,
      "outputs": [
        {
          "output_type": "execute_result",
          "data": {
            "application/vnd.google.colaboratory.intrinsic+json": {
              "type": "string"
            },
            "text/plain": [
              "\"<sos> this film was just brilliant casting location scenery story direction everyone's really suited the part they played and you could just imagine being there robert <oov> is an amazing actor and now the same being director <oov> father came from the same scottish island as myself so i loved the fact there was a real connection with this film the witty remarks throughout the film were great it was just brilliant so much that i bought the film as soon as it was released for <oov> and would recommend it to everyone to watch and the fly fishing was amazing really cried at the end it was so sad and you know what they say if you cry at a film it must have been good and this definitely was also <oov> to the two little boy's that played the <oov> of norman and paul they were just brilliant children are often left out of the <oov> list i think because the stars that play them all grown up are such a big profile for the whole film but these children are amazing and should be praised for what they have done don't you think the whole story was so lovely because it was true and was someone's life after all that was shared with us all\""
            ]
          },
          "metadata": {
            "tags": []
          },
          "execution_count": 5
        }
      ]
    },
    {
      "cell_type": "code",
      "metadata": {
        "colab": {
          "base_uri": "https://localhost:8080/"
        },
        "id": "J1tzUWldYT8X",
        "outputId": "07babbaf-6da6-4f0a-dc59-20fea0518425"
      },
      "source": [
        "y_train[0]"
      ],
      "execution_count": 6,
      "outputs": [
        {
          "output_type": "execute_result",
          "data": {
            "text/plain": [
              "1"
            ]
          },
          "metadata": {
            "tags": []
          },
          "execution_count": 6
        }
      ]
    },
    {
      "cell_type": "markdown",
      "metadata": {
        "id": "0O7x_P0IqihK"
      },
      "source": [
        "Because of a limit of Keras, to feed the input data into an RNN model we have to create sequences that have the same length. We use keras.preprocessing.sequence.pad_sequences() to preprocess X_train: this will create a 2D array of 25,000 rows (one per review) and maxlen=500 columns. Because of that, reviews longer than 500 words will be cut, while reviews shorter than 500 words will be padded with zeros."
      ]
    },
    {
      "cell_type": "code",
      "metadata": {
        "id": "wtMUMGMUYdAA"
      },
      "source": [
        "maxlen = 500\n",
        "X_train_trim = keras.preprocessing.sequence.pad_sequences(X_train, maxlen=maxlen)\n",
        "X_test_trim = keras.preprocessing.sequence.pad_sequences(X_test, maxlen=maxlen)\n",
        "X_valid_trim = keras.preprocessing.sequence.pad_sequences(X_valid, maxlen=maxlen)"
      ],
      "execution_count": 7,
      "outputs": []
    },
    {
      "cell_type": "markdown",
      "metadata": {
        "id": "-jLxP0KW1104"
      },
      "source": [
        "###[TO COMPLETE] Define the model:\n",
        "Let's define the model: \n",
        "- The first layer is an Embedding layer, with input_dim=num_words and output_dim=10. The model will gradually learn to represent each of the 10,000 words as a 10-dimensional vector. So the next layer will receive 3D batches of shape (batch size, 500, 10)\n",
        "- The second layer is the recurrent one. In particular, in this case, we use a [SimpleRNN](https://www.tensorflow.org/api_docs/python/tf/keras/layers/SimpleRNN) \n",
        "- The output layer is a Dense layer with a sigmoid activation function since this is a binary classification problem\n",
        "\n",
        "In the following cell, we already inserted in the model the first Embedding layer. Add the recurrent layer (using 32 units), and the output layer. Select the right activation function for the output layer and motivate your choice. Finally, select the right loss function inserting the right value for the \"loss\" parameter in model.compile() and motivate your choice.\n",
        "Please, insert your answers in a new text cell below this one, immediately before the code."
      ]
    },
    {
      "cell_type": "code",
      "metadata": {
        "id": "xPnihHKiYf__"
      },
      "source": [
        "model = keras.models.Sequential()\n",
        "model.add(keras.layers.Embedding(input_dim=num_words, output_dim=10))\n",
        "model.add(keras.layers.SimpleRNN(32))\n",
        "model.add(keras.layers.Dense(units=1,activation='sigmoid'))\n",
        "\n",
        "model.compile(loss='binary_crossentropy', optimizer=\"adam\", metrics=[\"accuracy\"])"
      ],
      "execution_count": 8,
      "outputs": []
    },
    {
      "cell_type": "markdown",
      "metadata": {
        "id": "TyZbJEOKUA9z"
      },
      "source": [
        "I used the binary crossentropy loss since it is suited use for binary classification proble with target values between 0 and 1, like this case."
      ]
    },
    {
      "cell_type": "markdown",
      "metadata": {
        "id": "9IBNh_o2I2SN"
      },
      "source": [
        "Let's print a summary of the model. Specifically, note the number of parameters of the RNN layer."
      ]
    },
    {
      "cell_type": "code",
      "metadata": {
        "colab": {
          "base_uri": "https://localhost:8080/"
        },
        "id": "6AKJ1qsgYkH7",
        "outputId": "fa3a63f6-2598-4159-fe25-efe4268400f1"
      },
      "source": [
        "model.summary()"
      ],
      "execution_count": 9,
      "outputs": [
        {
          "output_type": "stream",
          "text": [
            "Model: \"sequential\"\n",
            "_________________________________________________________________\n",
            "Layer (type)                 Output Shape              Param #   \n",
            "=================================================================\n",
            "embedding (Embedding)        (None, None, 10)          100000    \n",
            "_________________________________________________________________\n",
            "simple_rnn (SimpleRNN)       (None, 32)                1376      \n",
            "_________________________________________________________________\n",
            "dense (Dense)                (None, 1)                 33        \n",
            "=================================================================\n",
            "Total params: 101,409\n",
            "Trainable params: 101,409\n",
            "Non-trainable params: 0\n",
            "_________________________________________________________________\n"
          ],
          "name": "stdout"
        }
      ]
    },
    {
      "cell_type": "markdown",
      "metadata": {
        "id": "eTrvel3KRkYy"
      },
      "source": [
        "###Train the model:\n",
        "Now we have to train the model"
      ]
    },
    {
      "cell_type": "code",
      "metadata": {
        "colab": {
          "base_uri": "https://localhost:8080/"
        },
        "id": "zCqSgX9WYmaR",
        "outputId": "092edcc0-fae6-48c9-8ec2-57e8d0a864ff"
      },
      "source": [
        "history = model.fit(X_train_trim, y_train,\n",
        "                    epochs=10, batch_size=128, validation_data=(X_valid_trim, y_valid))"
      ],
      "execution_count": null,
      "outputs": [
        {
          "output_type": "stream",
          "text": [
            "Epoch 1/10\n",
            "196/196 [==============================] - 27s 131ms/step - loss: 0.6654 - accuracy: 0.5718 - val_loss: 0.4529 - val_accuracy: 0.8080\n",
            "Epoch 2/10\n",
            "196/196 [==============================] - 24s 124ms/step - loss: 0.4004 - accuracy: 0.8309 - val_loss: 0.6256 - val_accuracy: 0.6876\n",
            "Epoch 3/10\n",
            "196/196 [==============================] - 24s 123ms/step - loss: 0.3575 - accuracy: 0.8526 - val_loss: 0.3807 - val_accuracy: 0.8428\n",
            "Epoch 4/10\n",
            "196/196 [==============================] - 24s 124ms/step - loss: 0.3024 - accuracy: 0.8838 - val_loss: 0.4086 - val_accuracy: 0.8361\n",
            "Epoch 5/10\n",
            "196/196 [==============================] - 24s 124ms/step - loss: 0.2984 - accuracy: 0.8732 - val_loss: 0.3794 - val_accuracy: 0.8482\n",
            "Epoch 6/10\n",
            "196/196 [==============================] - 24s 124ms/step - loss: 0.1964 - accuracy: 0.9278 - val_loss: 0.3730 - val_accuracy: 0.8509\n",
            "Epoch 7/10\n",
            "196/196 [==============================] - 24s 125ms/step - loss: 0.1531 - accuracy: 0.9460 - val_loss: 0.4177 - val_accuracy: 0.8343\n",
            "Epoch 8/10\n",
            "196/196 [==============================] - 24s 124ms/step - loss: 0.1345 - accuracy: 0.9551 - val_loss: 0.4267 - val_accuracy: 0.8495\n",
            "Epoch 9/10\n",
            "196/196 [==============================] - 24s 124ms/step - loss: 0.1059 - accuracy: 0.9659 - val_loss: 0.4264 - val_accuracy: 0.8466\n",
            "Epoch 10/10\n",
            "196/196 [==============================] - 24s 123ms/step - loss: 0.0764 - accuracy: 0.9774 - val_loss: 0.4933 - val_accuracy: 0.8428\n"
          ],
          "name": "stdout"
        }
      ]
    },
    {
      "cell_type": "markdown",
      "metadata": {
        "id": "4Fvscg67R4H1"
      },
      "source": [
        "Print the values of accuracy and the loss , and evaluate the model on the test set"
      ]
    },
    {
      "cell_type": "code",
      "metadata": {
        "id": "GKXRHieZbu-2"
      },
      "source": [
        "def plot_loss(history):\n",
        "  plt.figure(figsize=(10,6))\n",
        "  plt.plot(history.epoch,history.history['loss'])\n",
        "  plt.plot(history.epoch,history.history['val_loss'])\n",
        "  plt.title('loss')\n",
        "\n",
        "def plot_accuracy(history):\n",
        "  plt.figure(figsize=(10,6))\n",
        "  plt.plot(history.epoch,history.history['accuracy'])\n",
        "  plt.plot(history.epoch,history.history['val_accuracy'])\n",
        "  plt.title('accuracy')\n",
        "\n",
        "#plot_loss(history)\n",
        "\n",
        "#plot_accuracy(history)\n",
        "\n",
        "#scores = model.evaluate(X_test_trim, y_test, verbose=2)\n",
        "#print(\"%s: %.2f%%\" % (model.metrics_names[1], scores[1]*100))"
      ],
      "execution_count": 9,
      "outputs": []
    },
    {
      "cell_type": "markdown",
      "metadata": {
        "id": "BHc_4yOASBXu"
      },
      "source": [
        "##[TO COMPLETE] Exercise 4.2: LSTM and GRU\n",
        "In this Exercise, you have to implement 2 models, similar to the previous one that, instead of exploiting the RNN layer, use an LSTM and a GRU Layer, respectively. For each model print the summary. Then, train it and plot the values of accuracy and loss. Finally, discuss the differences in terms of performance, the number of parameters, and training time. Note that you can use a different number of units than the one used in the RNN example.\n",
        "\n",
        "In order to perform a fair comparison (definition of fair: models have to use more or less the same number of parameters) between the given RNN model and the other 2 models (LSTM and GRU), how many units do they have to use, respectively?\n",
        "\n",
        "*insert cells (code and text) with results and discussion immediately after this cell*"
      ]
    },
    {
      "cell_type": "code",
      "metadata": {
        "id": "KaiHAHOdVKCl"
      },
      "source": [
        "#LSTM\n",
        "model_lstm = keras.models.Sequential()\n",
        "model_lstm.add(keras.layers.Embedding(input_dim=num_words, output_dim=10))\n",
        "model_lstm.add(keras.layers.LSTM(16))\n",
        "model_lstm.add(keras.layers.Dense(units=1,activation='sigmoid'))\n",
        "\n",
        "model_lstm.compile(loss='binary_crossentropy', optimizer=\"adam\", metrics=[\"accuracy\"])"
      ],
      "execution_count": null,
      "outputs": []
    },
    {
      "cell_type": "code",
      "metadata": {
        "colab": {
          "base_uri": "https://localhost:8080/"
        },
        "id": "sJaxpD_cVVNV",
        "outputId": "97cfab5e-0811-45fa-af15-b46114d5f41f"
      },
      "source": [
        "model_lstm.summary()"
      ],
      "execution_count": null,
      "outputs": [
        {
          "output_type": "stream",
          "text": [
            "Model: \"sequential_8\"\n",
            "_________________________________________________________________\n",
            "Layer (type)                 Output Shape              Param #   \n",
            "=================================================================\n",
            "embedding_8 (Embedding)      (None, None, 10)          100000    \n",
            "_________________________________________________________________\n",
            "lstm_5 (LSTM)                (None, 16)                1728      \n",
            "_________________________________________________________________\n",
            "dense_8 (Dense)              (None, 1)                 17        \n",
            "=================================================================\n",
            "Total params: 101,745\n",
            "Trainable params: 101,745\n",
            "Non-trainable params: 0\n",
            "_________________________________________________________________\n"
          ],
          "name": "stdout"
        }
      ]
    },
    {
      "cell_type": "code",
      "metadata": {
        "colab": {
          "base_uri": "https://localhost:8080/",
          "height": 1000
        },
        "id": "GOi3ACMMVdxB",
        "outputId": "9b709ce4-7865-4c05-e551-38507c79bdf7"
      },
      "source": [
        "history_lstm = model_lstm.fit(X_train_trim, y_train,\n",
        "                    epochs=10, batch_size=128, validation_data=(X_valid_trim, y_valid))\n",
        "plot_loss(history_lstm)\n",
        "\n",
        "plot_accuracy(history_lstm)\n",
        "\n",
        "scores = model_lstm.evaluate(X_test_trim, y_test, verbose=2)\n",
        "print(\"%s: %.2f%%\" % (model_lstm.metrics_names[1], scores[1]*100))"
      ],
      "execution_count": null,
      "outputs": [
        {
          "output_type": "stream",
          "text": [
            "Epoch 1/10\n",
            "196/196 [==============================] - 48s 236ms/step - loss: 0.6335 - accuracy: 0.6331 - val_loss: 0.3693 - val_accuracy: 0.8468\n",
            "Epoch 2/10\n",
            "196/196 [==============================] - 50s 255ms/step - loss: 0.3010 - accuracy: 0.8873 - val_loss: 0.2953 - val_accuracy: 0.8771\n",
            "Epoch 3/10\n",
            "196/196 [==============================] - 50s 254ms/step - loss: 0.2065 - accuracy: 0.9280 - val_loss: 0.3439 - val_accuracy: 0.8625\n",
            "Epoch 4/10\n",
            "196/196 [==============================] - 49s 251ms/step - loss: 0.1638 - accuracy: 0.9429 - val_loss: 0.3252 - val_accuracy: 0.8705\n",
            "Epoch 5/10\n",
            "196/196 [==============================] - 51s 260ms/step - loss: 0.1317 - accuracy: 0.9597 - val_loss: 0.3411 - val_accuracy: 0.8702\n",
            "Epoch 6/10\n",
            "196/196 [==============================] - 51s 262ms/step - loss: 0.1172 - accuracy: 0.9624 - val_loss: 0.3807 - val_accuracy: 0.8565\n",
            "Epoch 7/10\n",
            "196/196 [==============================] - 52s 267ms/step - loss: 0.0962 - accuracy: 0.9716 - val_loss: 0.4993 - val_accuracy: 0.8575\n",
            "Epoch 8/10\n",
            "196/196 [==============================] - 52s 268ms/step - loss: 0.0853 - accuracy: 0.9744 - val_loss: 0.4589 - val_accuracy: 0.8560\n",
            "Epoch 9/10\n",
            "196/196 [==============================] - 52s 268ms/step - loss: 0.0689 - accuracy: 0.9810 - val_loss: 0.4556 - val_accuracy: 0.8577\n",
            "Epoch 10/10\n",
            "196/196 [==============================] - 53s 268ms/step - loss: 0.0589 - accuracy: 0.9848 - val_loss: 0.5006 - val_accuracy: 0.8568\n",
            "391/391 - 10s - loss: 0.4795 - accuracy: 0.8606\n",
            "accuracy: 86.06%\n"
          ],
          "name": "stdout"
        },
        {
          "output_type": "display_data",
          "data": {
            "image/png": "[encoded data removed]",
            "text/plain": [
              "<Figure size 720x432 with 1 Axes>"
            ]
          },
          "metadata": {
            "tags": []
          }
        },
        {
          "output_type": "display_data",
          "data": {
            "image/png": "[encoded data removed]",
            "text/plain": [
              "<Figure size 720x432 with 1 Axes>"
            ]
          },
          "metadata": {
            "tags": []
          }
        }
      ]
    },
    {
      "cell_type": "code",
      "metadata": {
        "id": "_Bhy5qeGVr_1"
      },
      "source": [
        "#GRU\n",
        "model_gru = keras.models.Sequential()\n",
        "model_gru.add(keras.layers.Embedding(input_dim=num_words, output_dim=10))\n",
        "model_gru.add(keras.layers.GRU(16))\n",
        "model_gru.add(keras.layers.Dense(units=1,activation='sigmoid'))\n",
        "\n",
        "model_gru.compile(loss='binary_crossentropy', optimizer=\"adam\", metrics=[\"accuracy\"])"
      ],
      "execution_count": null,
      "outputs": []
    },
    {
      "cell_type": "code",
      "metadata": {
        "colab": {
          "base_uri": "https://localhost:8080/"
        },
        "id": "fT3Ws4DDVsK8",
        "outputId": "2deb206c-610a-40bc-b822-6eba0547ca04"
      },
      "source": [
        "model_gru.summary()"
      ],
      "execution_count": null,
      "outputs": [
        {
          "output_type": "stream",
          "text": [
            "Model: \"sequential_9\"\n",
            "_________________________________________________________________\n",
            "Layer (type)                 Output Shape              Param #   \n",
            "=================================================================\n",
            "embedding_9 (Embedding)      (None, None, 10)          100000    \n",
            "_________________________________________________________________\n",
            "gru_1 (GRU)                  (None, 16)                1344      \n",
            "_________________________________________________________________\n",
            "dense_9 (Dense)              (None, 1)                 17        \n",
            "=================================================================\n",
            "Total params: 101,361\n",
            "Trainable params: 101,361\n",
            "Non-trainable params: 0\n",
            "_________________________________________________________________\n"
          ],
          "name": "stdout"
        }
      ]
    },
    {
      "cell_type": "code",
      "metadata": {
        "colab": {
          "base_uri": "https://localhost:8080/",
          "height": 1000
        },
        "id": "4Jq7lzlAVsTF",
        "outputId": "05fcd41c-49d3-4013-ff25-1cf3c289bade"
      },
      "source": [
        "history_gru = model_gru.fit(X_train_trim, y_train,\n",
        "                    epochs=10, batch_size=128, validation_data=(X_valid_trim, y_valid))\n",
        "plot_loss(history_gru)\n",
        "plot_accuracy(history_gru)\n",
        "\n",
        "scores = model_gru.evaluate(X_test_trim, y_test, verbose=2)\n",
        "print(\"%s: %.2f%%\" % (model_gru.metrics_names[1], scores[1]*100))"
      ],
      "execution_count": null,
      "outputs": [
        {
          "output_type": "stream",
          "text": [
            "Epoch 1/10\n",
            "196/196 [==============================] - 46s 225ms/step - loss: 0.6536 - accuracy: 0.5939 - val_loss: 0.4497 - val_accuracy: 0.8005\n",
            "Epoch 2/10\n",
            "196/196 [==============================] - 47s 239ms/step - loss: 0.3319 - accuracy: 0.8621 - val_loss: 0.3362 - val_accuracy: 0.8603\n",
            "Epoch 3/10\n",
            "196/196 [==============================] - 47s 241ms/step - loss: 0.2263 - accuracy: 0.9147 - val_loss: 0.3287 - val_accuracy: 0.8673\n",
            "Epoch 4/10\n",
            "196/196 [==============================] - 47s 241ms/step - loss: 0.1784 - accuracy: 0.9382 - val_loss: 0.3589 - val_accuracy: 0.8621\n",
            "Epoch 5/10\n",
            "196/196 [==============================] - 47s 239ms/step - loss: 0.1493 - accuracy: 0.9509 - val_loss: 0.3740 - val_accuracy: 0.8558\n",
            "Epoch 6/10\n",
            "196/196 [==============================] - 47s 239ms/step - loss: 0.1386 - accuracy: 0.9565 - val_loss: 0.4353 - val_accuracy: 0.8587\n",
            "Epoch 7/10\n",
            "196/196 [==============================] - 46s 237ms/step - loss: 0.1209 - accuracy: 0.9614 - val_loss: 0.4272 - val_accuracy: 0.8562\n",
            "Epoch 8/10\n",
            "196/196 [==============================] - 47s 239ms/step - loss: 0.1117 - accuracy: 0.9659 - val_loss: 0.4239 - val_accuracy: 0.8511\n",
            "Epoch 9/10\n",
            "196/196 [==============================] - 47s 239ms/step - loss: 0.1042 - accuracy: 0.9683 - val_loss: 0.4271 - val_accuracy: 0.8536\n",
            "Epoch 10/10\n",
            "196/196 [==============================] - 47s 239ms/step - loss: 0.0889 - accuracy: 0.9743 - val_loss: 0.4570 - val_accuracy: 0.8445\n",
            "391/391 - 9s - loss: 0.4512 - accuracy: 0.8468\n",
            "accuracy: 84.68%\n"
          ],
          "name": "stdout"
        },
        {
          "output_type": "display_data",
          "data": {
            "image/png": "[encoded data removed]",
            "text/plain": [
              "<Figure size 720x432 with 1 Axes>"
            ]
          },
          "metadata": {
            "tags": []
          }
        },
        {
          "output_type": "display_data",
          "data": {
            "image/png": "[encoded data removed]",
            "text/plain": [
              "<Figure size 720x432 with 1 Axes>"
            ]
          },
          "metadata": {
            "tags": []
          }
        }
      ]
    },
    {
      "cell_type": "markdown",
      "metadata": {
        "id": "XQxdHcx0aCRJ"
      },
      "source": [
        "LSTM and GRU are more complex than the simple RNN since their units include a memory cell that can maintain information in memory for long periods of time, so as a consequence with the same number of units it tunes an higher number of parameters. For this reason, in order to have a similar number of parameters, I choose a smaller number of units in these two models layer (16) than the one first one (32).\n",
        "Instead, mantaining the same number of units for all the models, it is possible to observe an evident difference between the first and the other two in terms of number of parameters and training time (both lower for the first) due to the less complexity just mentioned. Regarding the performance it is slightly improved both in LSTM and GRU (a better test evaluation score of almost 2-3%)\n",
        "\n",
        "LSTM and GRU look very similar, their efficiency is comparable for this problem. Also the number of parameters and the training time are very close, the small difference (both are a bit smaller for GRU) is due to the fact that this last layer has fewer gates, so is less complex than the LSTM one.\n",
        "\n",
        "Note that all 3 models show overfitting."
      ]
    },
    {
      "cell_type": "markdown",
      "metadata": {
        "id": "g2JZMtVATw5T"
      },
      "source": [
        "##Bidirectional LSTM\n",
        "Let's modify the previous code by using a bidirectional LSTM instead of a simple LSTM. In Keras, it is possible to define a bidirectional layer by using [tf.keras.layers.Bidirectional](https://www.tensorflow.org/api_docs/python/tf/keras/layers/Bidirectional). Note that this wrapper requires as argument a layer, in our case we use [tf.keras.layers.LSTM](https://www.tensorflow.org/api_docs/python/tf/keras/layers/LSTM)\n"
      ]
    },
    {
      "cell_type": "code",
      "metadata": {
        "colab": {
          "base_uri": "https://localhost:8080/"
        },
        "id": "svybeLNAedBf",
        "outputId": "02d6f832-d64b-4694-e29f-4e165fe453bd"
      },
      "source": [
        "model_bidirectional = keras.models.Sequential()\n",
        "model_bidirectional.add(keras.layers.Embedding(input_dim=num_words, output_dim=10))\n",
        "model_bidirectional.add(keras.layers.Bidirectional(keras.layers.LSTM(32)))\n",
        "model_bidirectional.add(keras.layers.Dense(1, activation=\"sigmoid\"))\n",
        "\n",
        "model_bidirectional.compile(loss=\"binary_crossentropy\", optimizer=\"adam\", metrics=[\"accuracy\"])\n",
        "\n",
        "model_bidirectional.summary()\n",
        "\n",
        "history = model_bidirectional.fit(X_train_trim, y_train,\n",
        "                    epochs=5, batch_size=128, validation_data=(X_valid_trim, y_valid))"
      ],
      "execution_count": null,
      "outputs": [
        {
          "output_type": "stream",
          "text": [
            "Model: \"sequential_2\"\n",
            "_________________________________________________________________\n",
            "Layer (type)                 Output Shape              Param #   \n",
            "=================================================================\n",
            "embedding_2 (Embedding)      (None, None, 10)          100000    \n",
            "_________________________________________________________________\n",
            "bidirectional_1 (Bidirection (None, 64)                11008     \n",
            "_________________________________________________________________\n",
            "dense_2 (Dense)              (None, 1)                 65        \n",
            "=================================================================\n",
            "Total params: 111,073\n",
            "Trainable params: 111,073\n",
            "Non-trainable params: 0\n",
            "_________________________________________________________________\n",
            "Epoch 1/5\n",
            "196/196 [==============================] - 119s 586ms/step - loss: 0.6539 - accuracy: 0.5945 - val_loss: 0.4017 - val_accuracy: 0.8394\n",
            "Epoch 2/5\n",
            "196/196 [==============================] - 113s 576ms/step - loss: 0.3372 - accuracy: 0.8660 - val_loss: 0.3381 - val_accuracy: 0.8590\n",
            "Epoch 3/5\n",
            "196/196 [==============================] - 113s 579ms/step - loss: 0.2499 - accuracy: 0.9080 - val_loss: 0.3220 - val_accuracy: 0.8674\n",
            "Epoch 4/5\n",
            "196/196 [==============================] - 113s 579ms/step - loss: 0.1962 - accuracy: 0.9316 - val_loss: 0.3386 - val_accuracy: 0.8669\n",
            "Epoch 5/5\n",
            "196/196 [==============================] - 114s 583ms/step - loss: 0.1589 - accuracy: 0.9470 - val_loss: 0.3514 - val_accuracy: 0.8659\n"
          ],
          "name": "stdout"
        }
      ]
    },
    {
      "cell_type": "code",
      "metadata": {
        "colab": {
          "base_uri": "https://localhost:8080/",
          "height": 796
        },
        "id": "qICZr3WpfNI8",
        "outputId": "f21e456d-4ca9-4539-fbd2-2d7c692954f9"
      },
      "source": [
        "plot_loss(history)\n",
        "\n",
        "plot_accuracy(history)\n",
        "\n",
        "scores = model_bidirectional.evaluate(X_test_trim, y_test, verbose=2)\n",
        "print(\"%s: %.2f%%\" % (model_bidirectional.metrics_names[1], scores[1]*100))"
      ],
      "execution_count": null,
      "outputs": [
        {
          "output_type": "stream",
          "text": [
            "391/391 - 18s - loss: 0.3457 - accuracy: 0.8697\n",
            "accuracy: 86.97%\n"
          ],
          "name": "stdout"
        },
        {
          "output_type": "display_data",
          "data": {
            "image/png": "[encoded data removed]",
            "text/plain": [
              "<Figure size 720x432 with 1 Axes>"
            ]
          },
          "metadata": {
            "tags": []
          }
        },
        {
          "output_type": "display_data",
          "data": {
            "image/png": "[encoded data removed]",
            "text/plain": [
              "<Figure size 720x432 with 1 Axes>"
            ]
          },
          "metadata": {
            "tags": []
          }
        }
      ]
    },
    {
      "cell_type": "markdown",
      "metadata": {
        "id": "k8hmkhTciu89"
      },
      "source": [
        "##[TO COMPLETE] Exercise 4.3: Dropout\n",
        "In the bi-directional model is it possible to notice that the model overfits the training data.\n",
        "A possible solution to this problem could be applying the dropout technique to input or output layers.\n",
        "\n",
        "In Keras, to apply dropout you have to add a [keras.layers.Dropout](https://www.tensorflow.org/api_docs/python/tf/keras/layers/Dropout) layer.\n",
        "\n",
        "**[TO COMPLETE]**: modify the code of the previous exercise adding the Dropout to the input and/or output layers. Find the Dropout probability that reduces the overfitting issue.\n",
        "\n",
        "**[TO COMPLETE]** Is it possible to modify the values of some other hyper-parameters to mitigate overfitting? And if this is the case, explain why and perform an experimental study demonstrating your point.\n",
        "\n",
        "*insert cells (code and text) with results and discussion immediately after this cell*"
      ]
    },
    {
      "cell_type": "markdown",
      "metadata": {
        "id": "Xq7vn_lK9HZ4"
      },
      "source": [
        "**Dropout**\n",
        "The code below shows an implementation of the previous model using 3 new models with 3 different use of dropout tecnique: applied to input layer, to output layer and to both layers. The chosen dropout probability is set to 20%."
      ]
    },
    {
      "cell_type": "code",
      "metadata": {
        "colab": {
          "base_uri": "https://localhost:8080/"
        },
        "id": "97HgbQCFmV9w",
        "outputId": "e795ad9b-bcda-4e49-c437-a0414feb7be8"
      },
      "source": [
        "  model_bidirectional1 = keras.models.Sequential()\n",
        "  model_bidirectional1.add(keras.layers.Embedding(input_dim=num_words, output_dim=10))\n",
        "  model_bidirectional1.add(keras.layers.Dropout(0.3))\n",
        "  model_bidirectional1.add(keras.layers.Bidirectional(keras.layers.LSTM(16)))\n",
        "  model_bidirectional1.add(keras.layers.Dense(1, activation=\"sigmoid\"))\n",
        "  model_bidirectional1.compile(loss=\"binary_crossentropy\", optimizer=\"adam\", metrics=[\"accuracy\"])\n",
        "\n",
        "  model_bidirectional1.evaluate(X_test_trim, y_test, verbose=2)\n",
        "\n",
        "  model_bidirectional2 = keras.models.Sequential()\n",
        "  model_bidirectional2.add(keras.layers.Embedding(input_dim=num_words, output_dim=10))\n",
        "  model_bidirectional2.add(keras.layers.Bidirectional(keras.layers.LSTM(16)))\n",
        "  model_bidirectional2.add(keras.layers.Dropout(0.3))\n",
        "  model_bidirectional2.add(keras.layers.Dense(1, activation=\"sigmoid\"))\n",
        "  model_bidirectional2.compile(loss=\"binary_crossentropy\", optimizer=\"adam\", metrics=[\"accuracy\"])\n",
        "\n",
        "  model_bidirectional2.evaluate(X_test_trim, y_test, verbose=2)\n",
        "\n",
        "  model_bidirectional3 = keras.models.Sequential()\n",
        "  model_bidirectional3.add(keras.layers.Embedding(input_dim=num_words, output_dim=10))\n",
        "  model_bidirectional3.add(keras.layers.Dropout(0.3))\n",
        "  model_bidirectional3.add(keras.layers.Bidirectional(keras.layers.LSTM(16)))\n",
        "  model_bidirectional3.add(keras.layers.Dropout(0.3))\n",
        "  model_bidirectional3.add(keras.layers.Dense(1, activation=\"sigmoid\"))\n",
        "  model_bidirectional3.compile(loss=\"binary_crossentropy\", optimizer=\"adam\", metrics=[\"accuracy\"])\n",
        "\n",
        "  model_bidirectional3.evaluate(X_test_trim, y_test, verbose=2)\n",
        "\n",
        "  history1 = model_bidirectional1.fit(X_train_trim, y_train, epochs=5, \n",
        "                                      batch_size=128, validation_data=(X_valid_trim, y_valid))\n",
        "  histories = []\n",
        "  histories.append(history1)\n",
        "  history2 = model_bidirectional2.fit(X_train_trim, y_train, epochs=5, \n",
        "                                      batch_size=128, validation_data=(X_valid_trim, y_valid))\n",
        "  histories.append(history2)\n",
        "  history3 = model_bidirectional3.fit(X_train_trim, y_train, epochs=5, \n",
        "                                      batch_size=128, validation_data=(X_valid_trim, y_valid))\n",
        "  histories.append(history3)\n"
      ],
      "execution_count": 23,
      "outputs": [
        {
          "output_type": "stream",
          "text": [
            "391/391 - 18s - loss: 0.6934 - accuracy: 0.4937\n",
            "391/391 - 17s - loss: 0.6932 - accuracy: 0.5010\n",
            "391/391 - 17s - loss: 0.6930 - accuracy: 0.5149\n",
            "Epoch 1/5\n",
            "196/196 [==============================] - 84s 412ms/step - loss: 0.6014 - accuracy: 0.6728 - val_loss: 0.4033 - val_accuracy: 0.8359\n",
            "Epoch 2/5\n",
            "196/196 [==============================] - 81s 414ms/step - loss: 0.3354 - accuracy: 0.8679 - val_loss: 0.3278 - val_accuracy: 0.8662\n",
            "Epoch 3/5\n",
            "196/196 [==============================] - 81s 412ms/step - loss: 0.2421 - accuracy: 0.9101 - val_loss: 0.3109 - val_accuracy: 0.8752\n",
            "Epoch 4/5\n",
            "196/196 [==============================] - 82s 417ms/step - loss: 0.2035 - accuracy: 0.9264 - val_loss: 0.3084 - val_accuracy: 0.8725\n",
            "Epoch 5/5\n",
            "196/196 [==============================] - 82s 416ms/step - loss: 0.1755 - accuracy: 0.9388 - val_loss: 0.3318 - val_accuracy: 0.8758\n",
            "Epoch 1/5\n",
            "196/196 [==============================] - 83s 406ms/step - loss: 0.5911 - accuracy: 0.6868 - val_loss: 0.4549 - val_accuracy: 0.8163\n",
            "Epoch 2/5\n",
            "196/196 [==============================] - 79s 404ms/step - loss: 0.3641 - accuracy: 0.8582 - val_loss: 0.3277 - val_accuracy: 0.8654\n",
            "Epoch 3/5\n",
            "196/196 [==============================] - 79s 405ms/step - loss: 0.2494 - accuracy: 0.9078 - val_loss: 0.3045 - val_accuracy: 0.8702\n",
            "Epoch 4/5\n",
            "196/196 [==============================] - 80s 408ms/step - loss: 0.1937 - accuracy: 0.9334 - val_loss: 0.3052 - val_accuracy: 0.8764\n",
            "Epoch 5/5\n",
            "196/196 [==============================] - 80s 407ms/step - loss: 0.1675 - accuracy: 0.9443 - val_loss: 0.3421 - val_accuracy: 0.8729\n",
            "Epoch 1/5\n",
            "196/196 [==============================] - 84s 414ms/step - loss: 0.6137 - accuracy: 0.6619 - val_loss: 0.4332 - val_accuracy: 0.8088\n",
            "Epoch 2/5\n",
            "196/196 [==============================] - 81s 415ms/step - loss: 0.3342 - accuracy: 0.8697 - val_loss: 0.3057 - val_accuracy: 0.8731\n",
            "Epoch 3/5\n",
            "196/196 [==============================] - 81s 414ms/step - loss: 0.2441 - accuracy: 0.9115 - val_loss: 0.3100 - val_accuracy: 0.8723\n",
            "Epoch 4/5\n",
            "196/196 [==============================] - 81s 414ms/step - loss: 0.2046 - accuracy: 0.9284 - val_loss: 0.2966 - val_accuracy: 0.8802\n",
            "Epoch 5/5\n",
            "196/196 [==============================] - 81s 411ms/step - loss: 0.1783 - accuracy: 0.9385 - val_loss: 0.3140 - val_accuracy: 0.8711\n"
          ],
          "name": "stdout"
        }
      ]
    },
    {
      "cell_type": "code",
      "metadata": {
        "colab": {
          "base_uri": "https://localhost:8080/"
        },
        "id": "8HWfZouvDj8N",
        "outputId": "1e4427e0-a1da-479b-ac94-83ade300dda4"
      },
      "source": [
        "  print(\"evaluation on test set\")\n",
        "  \n",
        "  model_bidirectional1.evaluate(X_test_trim, y_test)\n",
        "  model_bidirectional2.evaluate(X_test_trim, y_test)\n",
        "  model_bidirectional3.evaluate(X_test_trim, y_test)"
      ],
      "execution_count": 24,
      "outputs": [
        {
          "output_type": "stream",
          "text": [
            "evaluation on test set\n",
            "391/391 [==============================] - 18s 45ms/step - loss: 0.3140 - accuracy: 0.8805\n",
            "391/391 [==============================] - 18s 45ms/step - loss: 0.3230 - accuracy: 0.8775\n",
            "391/391 [==============================] - 18s 45ms/step - loss: 0.3028 - accuracy: 0.8778\n"
          ],
          "name": "stdout"
        },
        {
          "output_type": "execute_result",
          "data": {
            "text/plain": [
              "[0.30278417468070984, 0.8777599930763245]"
            ]
          },
          "metadata": {
            "tags": []
          },
          "execution_count": 24
        }
      ]
    },
    {
      "cell_type": "markdown",
      "metadata": {
        "id": "gjH_tcKh9w1Q"
      },
      "source": [
        "The best result is obtained with the first model, with a better result on the test set of almost 2%."
      ]
    },
    {
      "cell_type": "markdown",
      "metadata": {
        "id": "IZ2WfOqw7odZ"
      },
      "source": [
        "**Model selection to avoid overfitting**\n",
        "\n",
        "The following has the aim to study the best hyperparameters to choose in order to remove overfitting. The previous improvement obtained with dropout tell us our model is too complex and needs some regularization or to decrease the number of parameters to be tuned. For this reason I choose two corresponding hyperparameters to test, the learning rate and the number of units.\n",
        "In order to find the best combination I performed Grid-Search method."
      ]
    },
    {
      "cell_type": "code",
      "metadata": {
        "colab": {
          "base_uri": "https://localhost:8080/"
        },
        "id": "ysJ5Rwqu_9Hw",
        "outputId": "fb89cbf1-701b-436c-8e37-6fde07a27b4f"
      },
      "source": [
        "import os\n",
        "import time\n",
        "from tensorflow.keras import regularizers\n",
        "\n",
        "def build_model(n_units=30, learning_rate=1e-3):\n",
        "\n",
        "    model_bidirectional4 = keras.models.Sequential()\n",
        "    model_bidirectional4.add(keras.layers.Embedding(input_dim=num_words, output_dim=10))\n",
        "    model_bidirectional4.add(keras.layers.Bidirectional(keras.layers.LSTM(n_units)))\n",
        "    model_bidirectional4.add(keras.layers.Dense(1, activation=\"sigmoid\"))\n",
        "    model_bidirectional4.compile(loss=\"binary_crossentropy\", \n",
        "                                optimizer=keras.optimizers.Adam(learning_rate=learning_rate), \n",
        "                             metrics=[\"accuracy\"])\n",
        "\n",
        "    return model_bidirectional4\n",
        "\n",
        "keras_reg = keras.wrappers.scikit_learn.KerasRegressor(build_model)\n",
        "\n",
        "param_distribs = {\"n_units\": [8, 16, 32],\n",
        "                  \"learning_rate\": [1e-2, 1e-3, 1e-4]}\n",
        "\n",
        "from sklearn.model_selection import GridSearchCV\n",
        "grid_search = GridSearchCV(keras_reg, param_distribs)\n",
        "\n",
        "logdir = os.path.join(os.curdir, \"my_logs\", \"run_{}\".format(time.time()))\n",
        "callbacks = [keras.callbacks.TensorBoard(logdir),\n",
        "             keras.callbacks.EarlyStopping(patience=5),\n",
        "             keras.callbacks.ModelCheckpoint(\"my_mnist_model.h5\", save_best_only=True)]\n",
        "\n",
        "gs = grid_search.fit(X_train_trim, y_train, callbacks=callbacks,\n",
        "                    epochs=7, batch_size=128, validation_data=(X_valid_trim, y_valid))"
      ],
      "execution_count": 16,
      "outputs": [
        {
          "output_type": "stream",
          "text": [
            "Epoch 1/7\n",
            "157/157 [==============================] - 59s 350ms/step - loss: 0.5773 - accuracy: 0.6736 - val_loss: 0.5028 - val_accuracy: 0.7591\n",
            "Epoch 2/7\n",
            "157/157 [==============================] - 57s 363ms/step - loss: 0.3889 - accuracy: 0.8386 - val_loss: 0.5413 - val_accuracy: 0.7208\n",
            "Epoch 3/7\n",
            "157/157 [==============================] - 54s 346ms/step - loss: 0.3751 - accuracy: 0.8390 - val_loss: 0.4876 - val_accuracy: 0.7891\n",
            "Epoch 4/7\n",
            "157/157 [==============================] - 54s 346ms/step - loss: 0.2857 - accuracy: 0.8833 - val_loss: 0.4223 - val_accuracy: 0.8313\n",
            "Epoch 5/7\n",
            "157/157 [==============================] - 54s 345ms/step - loss: 0.1804 - accuracy: 0.9325 - val_loss: 0.4177 - val_accuracy: 0.8450\n",
            "Epoch 6/7\n",
            "157/157 [==============================] - 54s 345ms/step - loss: 0.1271 - accuracy: 0.9567 - val_loss: 0.5005 - val_accuracy: 0.7978\n",
            "Epoch 7/7\n",
            "157/157 [==============================] - 55s 348ms/step - loss: 0.1499 - accuracy: 0.9466 - val_loss: 0.5198 - val_accuracy: 0.8310\n",
            "157/157 [==============================] - 7s 42ms/step - loss: 0.4919 - accuracy: 0.8378\n",
            "Epoch 1/7\n",
            "157/157 [==============================] - 60s 358ms/step - loss: 0.5770 - accuracy: 0.6745 - val_loss: 0.4485 - val_accuracy: 0.8050\n",
            "Epoch 2/7\n",
            "157/157 [==============================] - 55s 349ms/step - loss: 0.3732 - accuracy: 0.8461 - val_loss: 0.5185 - val_accuracy: 0.7417\n",
            "Epoch 3/7\n",
            "157/157 [==============================] - 56s 358ms/step - loss: 0.3111 - accuracy: 0.8705 - val_loss: 0.3969 - val_accuracy: 0.8314\n",
            "Epoch 4/7\n",
            "157/157 [==============================] - 56s 356ms/step - loss: 0.2202 - accuracy: 0.9215 - val_loss: 0.5968 - val_accuracy: 0.7507\n",
            "Epoch 5/7\n",
            "157/157 [==============================] - 55s 352ms/step - loss: 0.3045 - accuracy: 0.8683 - val_loss: 0.3953 - val_accuracy: 0.8402\n",
            "Epoch 6/7\n",
            "157/157 [==============================] - 56s 355ms/step - loss: 0.1667 - accuracy: 0.9407 - val_loss: 0.4249 - val_accuracy: 0.8410\n",
            "Epoch 7/7\n",
            "157/157 [==============================] - 57s 366ms/step - loss: 0.1236 - accuracy: 0.9579 - val_loss: 0.4328 - val_accuracy: 0.8370\n",
            "157/157 [==============================] - 7s 43ms/step - loss: 0.3854 - accuracy: 0.8500\n",
            "Epoch 1/7\n",
            "157/157 [==============================] - 62s 366ms/step - loss: 0.5911 - accuracy: 0.6668 - val_loss: 0.4388 - val_accuracy: 0.8142\n",
            "Epoch 2/7\n",
            "157/157 [==============================] - 57s 367ms/step - loss: 0.3635 - accuracy: 0.8530 - val_loss: 0.5302 - val_accuracy: 0.7456\n",
            "Epoch 3/7\n",
            "157/157 [==============================] - 57s 360ms/step - loss: 0.3121 - accuracy: 0.8772 - val_loss: 0.4305 - val_accuracy: 0.8176\n",
            "Epoch 4/7\n",
            "157/157 [==============================] - 56s 354ms/step - loss: 0.2705 - accuracy: 0.9003 - val_loss: 0.3924 - val_accuracy: 0.8455\n",
            "Epoch 5/7\n",
            "157/157 [==============================] - 55s 347ms/step - loss: 0.1624 - accuracy: 0.9458 - val_loss: 0.4125 - val_accuracy: 0.8458\n",
            "Epoch 6/7\n",
            "157/157 [==============================] - 54s 346ms/step - loss: 0.1093 - accuracy: 0.9636 - val_loss: 0.4760 - val_accuracy: 0.8420\n",
            "Epoch 7/7\n",
            "157/157 [==============================] - 55s 348ms/step - loss: 0.0839 - accuracy: 0.9731 - val_loss: 0.5536 - val_accuracy: 0.8335\n",
            "157/157 [==============================] - 6s 40ms/step - loss: 0.5061 - accuracy: 0.8502\n",
            "Epoch 1/7\n",
            "157/157 [==============================] - 59s 350ms/step - loss: 0.5748 - accuracy: 0.6899 - val_loss: 0.4046 - val_accuracy: 0.8242\n",
            "Epoch 2/7\n",
            "157/157 [==============================] - 54s 346ms/step - loss: 0.3158 - accuracy: 0.8758 - val_loss: 0.3579 - val_accuracy: 0.8448\n",
            "Epoch 3/7\n",
            "157/157 [==============================] - 54s 347ms/step - loss: 0.2194 - accuracy: 0.9191 - val_loss: 0.3839 - val_accuracy: 0.8453\n",
            "Epoch 4/7\n",
            "157/157 [==============================] - 54s 346ms/step - loss: 0.2258 - accuracy: 0.9148 - val_loss: 0.5203 - val_accuracy: 0.8442\n",
            "Epoch 5/7\n",
            "157/157 [==============================] - 54s 342ms/step - loss: 0.1820 - accuracy: 0.9301 - val_loss: 0.4398 - val_accuracy: 0.8581\n",
            "Epoch 6/7\n",
            "157/157 [==============================] - 54s 343ms/step - loss: 0.1080 - accuracy: 0.9617 - val_loss: 0.4341 - val_accuracy: 0.8567\n",
            "Epoch 7/7\n",
            "157/157 [==============================] - 54s 341ms/step - loss: 0.0992 - accuracy: 0.9641 - val_loss: 0.4960 - val_accuracy: 0.8516\n",
            "157/157 [==============================] - 7s 42ms/step - loss: 0.4699 - accuracy: 0.8644\n",
            "Epoch 1/7\n",
            "157/157 [==============================] - 58s 350ms/step - loss: 0.5779 - accuracy: 0.6913 - val_loss: 0.4528 - val_accuracy: 0.8142\n",
            "Epoch 2/7\n",
            "157/157 [==============================] - 54s 345ms/step - loss: 0.3472 - accuracy: 0.8610 - val_loss: 0.4000 - val_accuracy: 0.8404\n",
            "Epoch 3/7\n",
            "157/157 [==============================] - 54s 345ms/step - loss: 0.2286 - accuracy: 0.9148 - val_loss: 0.3690 - val_accuracy: 0.8407\n",
            "Epoch 4/7\n",
            "157/157 [==============================] - 54s 344ms/step - loss: 0.2095 - accuracy: 0.9205 - val_loss: 0.4185 - val_accuracy: 0.8471\n",
            "Epoch 5/7\n",
            "157/157 [==============================] - 54s 347ms/step - loss: 0.1495 - accuracy: 0.9444 - val_loss: 0.4333 - val_accuracy: 0.8573\n",
            "Epoch 6/7\n",
            "157/157 [==============================] - 54s 345ms/step - loss: 0.1004 - accuracy: 0.9638 - val_loss: 0.4759 - val_accuracy: 0.8444\n",
            "Epoch 7/7\n",
            "157/157 [==============================] - 54s 347ms/step - loss: 0.0976 - accuracy: 0.9659 - val_loss: 0.5030 - val_accuracy: 0.8207\n",
            "157/157 [==============================] - 6s 39ms/step - loss: 0.4895 - accuracy: 0.8206\n",
            "Epoch 1/7\n",
            "157/157 [==============================] - 69s 414ms/step - loss: 0.6015 - accuracy: 0.6699 - val_loss: 0.4434 - val_accuracy: 0.8051\n",
            "Epoch 2/7\n",
            "157/157 [==============================] - 64s 409ms/step - loss: 0.3496 - accuracy: 0.8575 - val_loss: 0.4599 - val_accuracy: 0.7850\n",
            "Epoch 3/7\n",
            "157/157 [==============================] - 64s 409ms/step - loss: 0.2576 - accuracy: 0.8979 - val_loss: 0.3844 - val_accuracy: 0.8456\n",
            "Epoch 4/7\n",
            "157/157 [==============================] - 64s 411ms/step - loss: 0.1607 - accuracy: 0.9405 - val_loss: 0.4315 - val_accuracy: 0.8440\n",
            "Epoch 5/7\n",
            "157/157 [==============================] - 64s 410ms/step - loss: 0.1374 - accuracy: 0.9505 - val_loss: 0.4632 - val_accuracy: 0.8399\n",
            "Epoch 6/7\n",
            "157/157 [==============================] - 65s 415ms/step - loss: 0.1182 - accuracy: 0.9549 - val_loss: 0.5115 - val_accuracy: 0.8497\n",
            "Epoch 7/7\n",
            "157/157 [==============================] - 65s 412ms/step - loss: 0.0681 - accuracy: 0.9772 - val_loss: 0.5634 - val_accuracy: 0.8433\n",
            "157/157 [==============================] - 7s 44ms/step - loss: 0.5310 - accuracy: 0.8502\n",
            "Epoch 1/7\n",
            "157/157 [==============================] - 69s 415ms/step - loss: 0.6171 - accuracy: 0.6527 - val_loss: 0.4590 - val_accuracy: 0.7977\n",
            "Epoch 2/7\n",
            "157/157 [==============================] - 64s 410ms/step - loss: 0.3689 - accuracy: 0.8453 - val_loss: 0.3908 - val_accuracy: 0.8377\n",
            "Epoch 3/7\n",
            "157/157 [==============================] - 64s 409ms/step - loss: 0.2527 - accuracy: 0.9006 - val_loss: 0.4067 - val_accuracy: 0.8257\n",
            "Epoch 4/7\n",
            "157/157 [==============================] - 64s 409ms/step - loss: 0.1883 - accuracy: 0.9317 - val_loss: 0.3916 - val_accuracy: 0.8454\n",
            "Epoch 5/7\n",
            "157/157 [==============================] - 64s 408ms/step - loss: 0.1693 - accuracy: 0.9375 - val_loss: 0.4221 - val_accuracy: 0.8515\n",
            "Epoch 6/7\n",
            "157/157 [==============================] - 64s 407ms/step - loss: 0.1295 - accuracy: 0.9525 - val_loss: 0.4231 - val_accuracy: 0.8441\n",
            "Epoch 7/7\n",
            "157/157 [==============================] - 65s 412ms/step - loss: 0.0999 - accuracy: 0.9656 - val_loss: 0.5714 - val_accuracy: 0.8192\n",
            "157/157 [==============================] - 7s 45ms/step - loss: 0.4969 - accuracy: 0.8456\n",
            "Epoch 1/7\n",
            "157/157 [==============================] - 68s 415ms/step - loss: 0.5826 - accuracy: 0.6814 - val_loss: 0.4130 - val_accuracy: 0.8224\n",
            "Epoch 2/7\n",
            "157/157 [==============================] - 64s 409ms/step - loss: 0.3470 - accuracy: 0.8562 - val_loss: 0.5169 - val_accuracy: 0.7420\n",
            "Epoch 3/7\n",
            "157/157 [==============================] - 64s 408ms/step - loss: 0.3718 - accuracy: 0.8396 - val_loss: 0.6724 - val_accuracy: 0.6629\n",
            "Epoch 4/7\n",
            "157/157 [==============================] - 64s 407ms/step - loss: 0.3666 - accuracy: 0.8431 - val_loss: 0.4685 - val_accuracy: 0.7971\n",
            "Epoch 5/7\n",
            "157/157 [==============================] - 64s 410ms/step - loss: 0.2600 - accuracy: 0.8944 - val_loss: 0.3807 - val_accuracy: 0.8403\n",
            "Epoch 6/7\n",
            "157/157 [==============================] - 65s 413ms/step - loss: 0.1788 - accuracy: 0.9298 - val_loss: 0.3865 - val_accuracy: 0.8593\n",
            "Epoch 7/7\n",
            "157/157 [==============================] - 65s 413ms/step - loss: 0.1260 - accuracy: 0.9525 - val_loss: 0.4393 - val_accuracy: 0.8566\n",
            "157/157 [==============================] - 7s 45ms/step - loss: 0.3946 - accuracy: 0.8732\n",
            "Epoch 1/7\n",
            "157/157 [==============================] - 71s 423ms/step - loss: 0.5661 - accuracy: 0.6894 - val_loss: 0.4085 - val_accuracy: 0.8227\n",
            "Epoch 2/7\n",
            "157/157 [==============================] - 66s 419ms/step - loss: 0.3879 - accuracy: 0.8355 - val_loss: 0.4297 - val_accuracy: 0.8037\n",
            "Epoch 3/7\n",
            "157/157 [==============================] - 65s 417ms/step - loss: 0.2641 - accuracy: 0.8973 - val_loss: 0.3891 - val_accuracy: 0.8426\n",
            "Epoch 4/7\n",
            "157/157 [==============================] - 66s 420ms/step - loss: 0.1944 - accuracy: 0.9252 - val_loss: 0.4174 - val_accuracy: 0.8431\n",
            "Epoch 5/7\n",
            "157/157 [==============================] - 65s 417ms/step - loss: 0.2019 - accuracy: 0.9198 - val_loss: 0.4958 - val_accuracy: 0.8079\n",
            "Epoch 6/7\n",
            "157/157 [==============================] - 65s 417ms/step - loss: 0.2649 - accuracy: 0.8962 - val_loss: 0.5214 - val_accuracy: 0.8049\n",
            "Epoch 7/7\n",
            "157/157 [==============================] - 66s 419ms/step - loss: 0.1452 - accuracy: 0.9493 - val_loss: 0.4729 - val_accuracy: 0.8386\n",
            "157/157 [==============================] - 7s 45ms/step - loss: 0.4373 - accuracy: 0.8532\n",
            "Epoch 1/7\n",
            "157/157 [==============================] - 71s 425ms/step - loss: 0.5958 - accuracy: 0.6738 - val_loss: 0.5314 - val_accuracy: 0.7356\n",
            "Epoch 2/7\n",
            "157/157 [==============================] - 65s 413ms/step - loss: 0.4217 - accuracy: 0.8159 - val_loss: 0.6974 - val_accuracy: 0.6828\n",
            "Epoch 3/7\n",
            "157/157 [==============================] - 65s 413ms/step - loss: 0.3858 - accuracy: 0.8360 - val_loss: 0.3820 - val_accuracy: 0.8469\n",
            "Epoch 4/7\n",
            "157/157 [==============================] - 65s 412ms/step - loss: 0.2250 - accuracy: 0.9154 - val_loss: 0.3859 - val_accuracy: 0.8490\n",
            "Epoch 5/7\n",
            "157/157 [==============================] - 65s 415ms/step - loss: 0.1573 - accuracy: 0.9431 - val_loss: 0.3849 - val_accuracy: 0.8489\n",
            "Epoch 6/7\n",
            "157/157 [==============================] - 65s 414ms/step - loss: 0.1140 - accuracy: 0.9623 - val_loss: 0.4212 - val_accuracy: 0.8477\n",
            "Epoch 7/7\n",
            "157/157 [==============================] - 65s 415ms/step - loss: 0.0712 - accuracy: 0.9787 - val_loss: 0.4983 - val_accuracy: 0.8521\n",
            "157/157 [==============================] - 7s 45ms/step - loss: 0.4737 - accuracy: 0.8628\n",
            "Epoch 1/7\n",
            "157/157 [==============================] - 96s 591ms/step - loss: 0.5870 - accuracy: 0.6688 - val_loss: 0.4773 - val_accuracy: 0.7719\n",
            "Epoch 2/7\n",
            "157/157 [==============================] - 92s 585ms/step - loss: 0.3303 - accuracy: 0.8699 - val_loss: 0.4275 - val_accuracy: 0.8152\n",
            "Epoch 3/7\n",
            "157/157 [==============================] - 91s 582ms/step - loss: 0.2451 - accuracy: 0.9024 - val_loss: 0.3866 - val_accuracy: 0.8429\n",
            "Epoch 4/7\n",
            "157/157 [==============================] - 91s 579ms/step - loss: 0.1952 - accuracy: 0.9272 - val_loss: 0.3997 - val_accuracy: 0.8444\n",
            "Epoch 5/7\n",
            "157/157 [==============================] - 90s 577ms/step - loss: 0.1385 - accuracy: 0.9486 - val_loss: 0.4664 - val_accuracy: 0.8542\n",
            "Epoch 6/7\n",
            "157/157 [==============================] - 91s 582ms/step - loss: 0.0861 - accuracy: 0.9714 - val_loss: 0.5028 - val_accuracy: 0.8347\n",
            "Epoch 7/7\n",
            "157/157 [==============================] - 91s 580ms/step - loss: 0.0652 - accuracy: 0.9769 - val_loss: 0.6022 - val_accuracy: 0.8277\n",
            "157/157 [==============================] - 9s 59ms/step - loss: 0.5442 - accuracy: 0.8428\n",
            "Epoch 1/7\n",
            "157/157 [==============================] - 98s 597ms/step - loss: 0.6020 - accuracy: 0.6593 - val_loss: 0.4311 - val_accuracy: 0.8091\n",
            "Epoch 2/7\n",
            "157/157 [==============================] - 93s 591ms/step - loss: 0.3208 - accuracy: 0.8747 - val_loss: 0.3894 - val_accuracy: 0.8281\n",
            "Epoch 3/7\n",
            "157/157 [==============================] - 93s 594ms/step - loss: 0.2302 - accuracy: 0.9143 - val_loss: 0.3676 - val_accuracy: 0.8429\n",
            "Epoch 4/7\n",
            "157/157 [==============================] - 93s 594ms/step - loss: 0.1535 - accuracy: 0.9444 - val_loss: 0.5219 - val_accuracy: 0.8309\n",
            "Epoch 5/7\n",
            "157/157 [==============================] - 93s 593ms/step - loss: 0.1151 - accuracy: 0.9602 - val_loss: 0.4790 - val_accuracy: 0.8412\n",
            "Epoch 6/7\n",
            "157/157 [==============================] - 93s 591ms/step - loss: 0.1356 - accuracy: 0.9508 - val_loss: 0.5114 - val_accuracy: 0.8474\n",
            "Epoch 7/7\n",
            "157/157 [==============================] - 93s 591ms/step - loss: 0.0784 - accuracy: 0.9724 - val_loss: 0.5955 - val_accuracy: 0.8448\n",
            "157/157 [==============================] - 9s 60ms/step - loss: 0.5164 - accuracy: 0.8642\n",
            "Epoch 1/7\n",
            "157/157 [==============================] - 96s 588ms/step - loss: 0.6198 - accuracy: 0.6493 - val_loss: 0.4276 - val_accuracy: 0.8118\n",
            "Epoch 2/7\n",
            "157/157 [==============================] - 91s 580ms/step - loss: 0.3689 - accuracy: 0.8454 - val_loss: 0.4126 - val_accuracy: 0.8160\n",
            "Epoch 3/7\n",
            "157/157 [==============================] - 91s 582ms/step - loss: 0.4494 - accuracy: 0.7934 - val_loss: 0.3649 - val_accuracy: 0.8576\n",
            "Epoch 4/7\n",
            "157/157 [==============================] - 91s 582ms/step - loss: 0.2184 - accuracy: 0.9163 - val_loss: 0.3940 - val_accuracy: 0.8526\n",
            "Epoch 5/7\n",
            "157/157 [==============================] - 91s 581ms/step - loss: 0.1537 - accuracy: 0.9432 - val_loss: 0.3926 - val_accuracy: 0.8514\n",
            "Epoch 6/7\n",
            "157/157 [==============================] - 91s 579ms/step - loss: 0.1148 - accuracy: 0.9598 - val_loss: 0.4552 - val_accuracy: 0.8587\n",
            "Epoch 7/7\n",
            "157/157 [==============================] - 91s 580ms/step - loss: 0.0897 - accuracy: 0.9700 - val_loss: 0.5344 - val_accuracy: 0.8398\n",
            "157/157 [==============================] - 9s 58ms/step - loss: 0.4798 - accuracy: 0.8596\n",
            "Epoch 1/7\n",
            "157/157 [==============================] - 95s 585ms/step - loss: 0.5888 - accuracy: 0.6638 - val_loss: 0.4548 - val_accuracy: 0.7950\n",
            "Epoch 2/7\n",
            "157/157 [==============================] - 91s 583ms/step - loss: 0.3497 - accuracy: 0.8563 - val_loss: 0.4330 - val_accuracy: 0.8064\n",
            "Epoch 3/7\n",
            "157/157 [==============================] - 91s 579ms/step - loss: 0.2922 - accuracy: 0.8824 - val_loss: 0.4623 - val_accuracy: 0.7803\n",
            "Epoch 4/7\n",
            "157/157 [==============================] - 92s 587ms/step - loss: 0.2373 - accuracy: 0.9088 - val_loss: 0.4556 - val_accuracy: 0.8323\n",
            "Epoch 5/7\n",
            "157/157 [==============================] - 92s 587ms/step - loss: 0.1651 - accuracy: 0.9381 - val_loss: 0.4831 - val_accuracy: 0.8338\n",
            "Epoch 6/7\n",
            "157/157 [==============================] - 92s 589ms/step - loss: 0.1385 - accuracy: 0.9497 - val_loss: 0.5182 - val_accuracy: 0.8294\n",
            "Epoch 7/7\n",
            "157/157 [==============================] - 92s 588ms/step - loss: 0.0934 - accuracy: 0.9678 - val_loss: 0.5222 - val_accuracy: 0.8382\n",
            "157/157 [==============================] - 9s 59ms/step - loss: 0.4674 - accuracy: 0.8534\n",
            "Epoch 1/7\n",
            "157/157 [==============================] - 97s 594ms/step - loss: 0.5891 - accuracy: 0.6713 - val_loss: 0.4031 - val_accuracy: 0.8261\n",
            "Epoch 2/7\n",
            "157/157 [==============================] - 91s 579ms/step - loss: 0.3614 - accuracy: 0.8532 - val_loss: 0.4174 - val_accuracy: 0.8330\n",
            "Epoch 3/7\n",
            "157/157 [==============================] - 91s 578ms/step - loss: 0.2936 - accuracy: 0.8827 - val_loss: 0.4148 - val_accuracy: 0.8274\n",
            "Epoch 4/7\n",
            "157/157 [==============================] - 91s 581ms/step - loss: 0.2065 - accuracy: 0.9210 - val_loss: 0.3937 - val_accuracy: 0.8428\n",
            "Epoch 5/7\n",
            "157/157 [==============================] - 91s 582ms/step - loss: 0.1400 - accuracy: 0.9497 - val_loss: 0.4469 - val_accuracy: 0.8575\n",
            "Epoch 6/7\n",
            "157/157 [==============================] - 91s 579ms/step - loss: 0.1510 - accuracy: 0.9451 - val_loss: 0.5483 - val_accuracy: 0.8436\n",
            "Epoch 7/7\n",
            "157/157 [==============================] - 91s 578ms/step - loss: 0.0795 - accuracy: 0.9719 - val_loss: 0.5217 - val_accuracy: 0.8336\n",
            "157/157 [==============================] - 9s 58ms/step - loss: 0.4930 - accuracy: 0.8402\n",
            "Epoch 1/7\n",
            "157/157 [==============================] - 59s 353ms/step - loss: 0.6720 - accuracy: 0.5680 - val_loss: 0.4782 - val_accuracy: 0.8086\n",
            "Epoch 2/7\n",
            "157/157 [==============================] - 54s 343ms/step - loss: 0.4274 - accuracy: 0.8450 - val_loss: 0.3733 - val_accuracy: 0.8516\n",
            "Epoch 3/7\n",
            "157/157 [==============================] - 54s 343ms/step - loss: 0.3000 - accuracy: 0.8980 - val_loss: 0.3359 - val_accuracy: 0.8622\n",
            "Epoch 4/7\n",
            "157/157 [==============================] - 54s 344ms/step - loss: 0.2363 - accuracy: 0.9228 - val_loss: 0.3743 - val_accuracy: 0.8354\n",
            "Epoch 5/7\n",
            "157/157 [==============================] - 54s 344ms/step - loss: 0.2164 - accuracy: 0.9272 - val_loss: 0.3922 - val_accuracy: 0.8472\n",
            "Epoch 6/7\n",
            "157/157 [==============================] - 54s 344ms/step - loss: 0.1796 - accuracy: 0.9433 - val_loss: 0.3496 - val_accuracy: 0.8626\n",
            "Epoch 7/7\n",
            "157/157 [==============================] - 54s 343ms/step - loss: 0.1395 - accuracy: 0.9603 - val_loss: 0.3742 - val_accuracy: 0.8590\n",
            "157/157 [==============================] - 6s 41ms/step - loss: 0.3454 - accuracy: 0.8724\n",
            "Epoch 1/7\n",
            "157/157 [==============================] - 58s 351ms/step - loss: 0.6694 - accuracy: 0.6001 - val_loss: 0.4984 - val_accuracy: 0.8139\n",
            "Epoch 2/7\n",
            "157/157 [==============================] - 54s 344ms/step - loss: 0.4483 - accuracy: 0.8362 - val_loss: 0.4132 - val_accuracy: 0.8344\n",
            "Epoch 3/7\n",
            "157/157 [==============================] - 54s 343ms/step - loss: 0.3334 - accuracy: 0.8821 - val_loss: 0.3669 - val_accuracy: 0.8494\n",
            "Epoch 4/7\n",
            "157/157 [==============================] - 54s 343ms/step - loss: 0.2730 - accuracy: 0.9081 - val_loss: 0.3503 - val_accuracy: 0.8573\n",
            "Epoch 5/7\n",
            "157/157 [==============================] - 54s 342ms/step - loss: 0.2243 - accuracy: 0.9284 - val_loss: 0.3537 - val_accuracy: 0.8606\n",
            "Epoch 6/7\n",
            "157/157 [==============================] - 54s 344ms/step - loss: 0.1969 - accuracy: 0.9365 - val_loss: 0.3644 - val_accuracy: 0.8577\n",
            "Epoch 7/7\n",
            "157/157 [==============================] - 54s 347ms/step - loss: 0.1638 - accuracy: 0.9501 - val_loss: 0.3716 - val_accuracy: 0.8541\n",
            "157/157 [==============================] - 6s 41ms/step - loss: 0.3387 - accuracy: 0.8666\n",
            "Epoch 1/7\n",
            "157/157 [==============================] - 59s 350ms/step - loss: 0.6696 - accuracy: 0.5859 - val_loss: 0.6066 - val_accuracy: 0.5762\n",
            "Epoch 2/7\n",
            "157/157 [==============================] - 54s 347ms/step - loss: 0.4966 - accuracy: 0.8030 - val_loss: 0.4036 - val_accuracy: 0.8435\n",
            "Epoch 3/7\n",
            "157/157 [==============================] - 55s 348ms/step - loss: 0.3431 - accuracy: 0.8814 - val_loss: 0.3636 - val_accuracy: 0.8535\n",
            "Epoch 4/7\n",
            "157/157 [==============================] - 54s 346ms/step - loss: 0.2708 - accuracy: 0.9094 - val_loss: 0.3523 - val_accuracy: 0.8578\n",
            "Epoch 5/7\n",
            "157/157 [==============================] - 54s 346ms/step - loss: 0.2358 - accuracy: 0.9241 - val_loss: 0.3527 - val_accuracy: 0.8562\n",
            "Epoch 6/7\n",
            "157/157 [==============================] - 54s 347ms/step - loss: 0.2051 - accuracy: 0.9350 - val_loss: 0.3618 - val_accuracy: 0.8530\n",
            "Epoch 7/7\n",
            "157/157 [==============================] - 54s 346ms/step - loss: 0.1880 - accuracy: 0.9419 - val_loss: 0.3723 - val_accuracy: 0.8554\n",
            "157/157 [==============================] - 6s 40ms/step - loss: 0.3561 - accuracy: 0.8666\n",
            "Epoch 1/7\n",
            "157/157 [==============================] - 59s 349ms/step - loss: 0.6775 - accuracy: 0.5785 - val_loss: 0.5142 - val_accuracy: 0.7810\n",
            "Epoch 2/7\n",
            "157/157 [==============================] - 54s 345ms/step - loss: 0.4305 - accuracy: 0.8345 - val_loss: 0.3829 - val_accuracy: 0.8447\n",
            "Epoch 3/7\n",
            "157/157 [==============================] - 54s 343ms/step - loss: 0.3055 - accuracy: 0.8918 - val_loss: 0.3613 - val_accuracy: 0.8569\n",
            "Epoch 4/7\n",
            "157/157 [==============================] - 54s 344ms/step - loss: 0.2436 - accuracy: 0.9183 - val_loss: 0.3428 - val_accuracy: 0.8602\n",
            "Epoch 5/7\n",
            "157/157 [==============================] - 54s 346ms/step - loss: 0.1964 - accuracy: 0.9370 - val_loss: 0.3482 - val_accuracy: 0.8583\n",
            "Epoch 6/7\n",
            "157/157 [==============================] - 54s 344ms/step - loss: 0.1844 - accuracy: 0.9400 - val_loss: 0.3448 - val_accuracy: 0.8614\n",
            "Epoch 7/7\n",
            "157/157 [==============================] - 54s 344ms/step - loss: 0.1525 - accuracy: 0.9545 - val_loss: 0.3593 - val_accuracy: 0.8636\n",
            "157/157 [==============================] - 6s 40ms/step - loss: 0.3385 - accuracy: 0.8726\n",
            "Epoch 1/7\n",
            "157/157 [==============================] - 58s 348ms/step - loss: 0.6786 - accuracy: 0.5782 - val_loss: 0.5108 - val_accuracy: 0.7958\n",
            "Epoch 2/7\n",
            "157/157 [==============================] - 53s 341ms/step - loss: 0.4548 - accuracy: 0.8345 - val_loss: 0.4162 - val_accuracy: 0.8358\n",
            "Epoch 3/7\n",
            "157/157 [==============================] - 54s 341ms/step - loss: 0.3462 - accuracy: 0.8763 - val_loss: 0.3997 - val_accuracy: 0.8332\n",
            "Epoch 4/7\n",
            "157/157 [==============================] - 53s 339ms/step - loss: 0.3632 - accuracy: 0.8479 - val_loss: 0.4241 - val_accuracy: 0.8146\n",
            "Epoch 5/7\n",
            "157/157 [==============================] - 53s 340ms/step - loss: 0.3008 - accuracy: 0.8906 - val_loss: 0.3801 - val_accuracy: 0.8459\n",
            "Epoch 6/7\n",
            "157/157 [==============================] - 54s 344ms/step - loss: 0.2394 - accuracy: 0.9156 - val_loss: 0.3898 - val_accuracy: 0.8362\n",
            "Epoch 7/7\n",
            "157/157 [==============================] - 53s 341ms/step - loss: 0.2162 - accuracy: 0.9272 - val_loss: 0.3923 - val_accuracy: 0.8411\n",
            "157/157 [==============================] - 6s 41ms/step - loss: 0.3730 - accuracy: 0.8532\n",
            "Epoch 1/7\n",
            "157/157 [==============================] - 70s 418ms/step - loss: 0.6734 - accuracy: 0.5612 - val_loss: 0.4244 - val_accuracy: 0.8245\n",
            "Epoch 2/7\n",
            "157/157 [==============================] - 65s 417ms/step - loss: 0.3581 - accuracy: 0.8564 - val_loss: 0.3572 - val_accuracy: 0.8497\n",
            "Epoch 3/7\n",
            "157/157 [==============================] - 65s 413ms/step - loss: 0.2559 - accuracy: 0.9055 - val_loss: 0.3115 - val_accuracy: 0.8680\n",
            "Epoch 4/7\n",
            "157/157 [==============================] - 65s 412ms/step - loss: 0.1854 - accuracy: 0.9369 - val_loss: 0.3162 - val_accuracy: 0.8687\n",
            "Epoch 5/7\n",
            "157/157 [==============================] - 65s 415ms/step - loss: 0.1360 - accuracy: 0.9579 - val_loss: 0.3534 - val_accuracy: 0.8651\n",
            "Epoch 6/7\n",
            "157/157 [==============================] - 65s 415ms/step - loss: 0.1359 - accuracy: 0.9570 - val_loss: 0.3751 - val_accuracy: 0.8580\n",
            "Epoch 7/7\n",
            "157/157 [==============================] - 65s 417ms/step - loss: 0.0980 - accuracy: 0.9719 - val_loss: 0.4232 - val_accuracy: 0.8574\n",
            "157/157 [==============================] - 7s 46ms/step - loss: 0.3836 - accuracy: 0.8698\n",
            "Epoch 1/7\n",
            "157/157 [==============================] - 70s 421ms/step - loss: 0.6651 - accuracy: 0.5937 - val_loss: 0.8499 - val_accuracy: 0.4982\n",
            "Epoch 2/7\n",
            "157/157 [==============================] - 65s 414ms/step - loss: 0.5908 - accuracy: 0.6902 - val_loss: 0.4124 - val_accuracy: 0.8350\n",
            "Epoch 3/7\n",
            "157/157 [==============================] - 65s 413ms/step - loss: 0.3641 - accuracy: 0.8639 - val_loss: 0.3645 - val_accuracy: 0.8470\n",
            "Epoch 4/7\n",
            "157/157 [==============================] - 65s 414ms/step - loss: 0.2668 - accuracy: 0.9051 - val_loss: 0.3533 - val_accuracy: 0.8486\n",
            "Epoch 5/7\n",
            "157/157 [==============================] - 65s 416ms/step - loss: 0.2189 - accuracy: 0.9267 - val_loss: 0.3400 - val_accuracy: 0.8581\n",
            "Epoch 6/7\n",
            "157/157 [==============================] - 66s 419ms/step - loss: 0.1697 - accuracy: 0.9456 - val_loss: 0.3531 - val_accuracy: 0.8595\n",
            "Epoch 7/7\n",
            "157/157 [==============================] - 66s 420ms/step - loss: 0.1461 - accuracy: 0.9555 - val_loss: 0.4000 - val_accuracy: 0.8573\n",
            "157/157 [==============================] - 7s 47ms/step - loss: 0.3474 - accuracy: 0.8780\n",
            "Epoch 1/7\n",
            "157/157 [==============================] - 69s 417ms/step - loss: 0.6620 - accuracy: 0.5887 - val_loss: 0.4356 - val_accuracy: 0.8205\n",
            "Epoch 2/7\n",
            "157/157 [==============================] - 65s 413ms/step - loss: 0.3684 - accuracy: 0.8577 - val_loss: 0.3451 - val_accuracy: 0.8568\n",
            "Epoch 3/7\n",
            "157/157 [==============================] - 65s 416ms/step - loss: 0.2465 - accuracy: 0.9150 - val_loss: 0.3213 - val_accuracy: 0.8671\n",
            "Epoch 4/7\n",
            "157/157 [==============================] - 65s 413ms/step - loss: 0.1905 - accuracy: 0.9364 - val_loss: 0.3237 - val_accuracy: 0.8629\n",
            "Epoch 5/7\n",
            "157/157 [==============================] - 65s 413ms/step - loss: 0.1549 - accuracy: 0.9523 - val_loss: 0.3628 - val_accuracy: 0.8640\n",
            "Epoch 6/7\n",
            "157/157 [==============================] - 65s 414ms/step - loss: 0.1355 - accuracy: 0.9594 - val_loss: 0.3547 - val_accuracy: 0.8498\n",
            "Epoch 7/7\n",
            "157/157 [==============================] - 65s 411ms/step - loss: 0.1167 - accuracy: 0.9649 - val_loss: 0.4140 - val_accuracy: 0.8548\n",
            "157/157 [==============================] - 7s 45ms/step - loss: 0.3685 - accuracy: 0.8750\n",
            "Epoch 1/7\n",
            "157/157 [==============================] - 70s 422ms/step - loss: 0.6596 - accuracy: 0.5728 - val_loss: 0.4151 - val_accuracy: 0.8372\n",
            "Epoch 2/7\n",
            "157/157 [==============================] - 66s 422ms/step - loss: 0.3440 - accuracy: 0.8707 - val_loss: 0.3286 - val_accuracy: 0.8654\n",
            "Epoch 3/7\n",
            "157/157 [==============================] - 66s 423ms/step - loss: 0.2287 - accuracy: 0.9188 - val_loss: 0.3900 - val_accuracy: 0.8373\n",
            "Epoch 4/7\n",
            "157/157 [==============================] - 66s 422ms/step - loss: 0.1924 - accuracy: 0.9323 - val_loss: 0.3362 - val_accuracy: 0.8601\n",
            "Epoch 5/7\n",
            "157/157 [==============================] - 66s 422ms/step - loss: 0.1473 - accuracy: 0.9560 - val_loss: 0.3431 - val_accuracy: 0.8670\n",
            "Epoch 6/7\n",
            "157/157 [==============================] - 66s 422ms/step - loss: 0.1162 - accuracy: 0.9664 - val_loss: 0.3686 - val_accuracy: 0.8646\n",
            "Epoch 7/7\n",
            "157/157 [==============================] - 66s 423ms/step - loss: 0.0877 - accuracy: 0.9771 - val_loss: 0.3901 - val_accuracy: 0.8598\n",
            "157/157 [==============================] - 7s 46ms/step - loss: 0.3564 - accuracy: 0.8730\n",
            "Epoch 1/7\n",
            "157/157 [==============================] - 70s 419ms/step - loss: 0.6720 - accuracy: 0.5737 - val_loss: 0.4618 - val_accuracy: 0.7954\n",
            "Epoch 2/7\n",
            "157/157 [==============================] - 66s 420ms/step - loss: 0.3701 - accuracy: 0.8558 - val_loss: 0.3382 - val_accuracy: 0.8668\n",
            "Epoch 3/7\n",
            "157/157 [==============================] - 66s 420ms/step - loss: 0.2349 - accuracy: 0.9158 - val_loss: 0.3121 - val_accuracy: 0.8738\n",
            "Epoch 4/7\n",
            "157/157 [==============================] - 67s 424ms/step - loss: 0.1721 - accuracy: 0.9421 - val_loss: 0.3443 - val_accuracy: 0.8615\n",
            "Epoch 5/7\n",
            "157/157 [==============================] - 66s 422ms/step - loss: 0.1447 - accuracy: 0.9521 - val_loss: 0.3277 - val_accuracy: 0.8669\n",
            "Epoch 6/7\n",
            "157/157 [==============================] - 66s 421ms/step - loss: 0.1097 - accuracy: 0.9676 - val_loss: 0.4269 - val_accuracy: 0.8571\n",
            "Epoch 7/7\n",
            "157/157 [==============================] - 66s 419ms/step - loss: 0.1025 - accuracy: 0.9683 - val_loss: 0.4117 - val_accuracy: 0.8629\n",
            "157/157 [==============================] - 8s 48ms/step - loss: 0.3806 - accuracy: 0.8754\n",
            "Epoch 1/7\n",
            "157/157 [==============================] - 97s 597ms/step - loss: 0.6484 - accuracy: 0.6121 - val_loss: 0.4192 - val_accuracy: 0.8172\n",
            "Epoch 2/7\n",
            "157/157 [==============================] - 93s 595ms/step - loss: 0.3513 - accuracy: 0.8592 - val_loss: 0.3370 - val_accuracy: 0.8594\n",
            "Epoch 3/7\n",
            "157/157 [==============================] - 93s 596ms/step - loss: 0.2327 - accuracy: 0.9179 - val_loss: 0.3022 - val_accuracy: 0.8766\n",
            "Epoch 4/7\n",
            "157/157 [==============================] - 93s 596ms/step - loss: 0.1685 - accuracy: 0.9428 - val_loss: 0.3223 - val_accuracy: 0.8655\n",
            "Epoch 5/7\n",
            "157/157 [==============================] - 94s 598ms/step - loss: 0.1333 - accuracy: 0.9567 - val_loss: 0.4048 - val_accuracy: 0.8621\n",
            "Epoch 6/7\n",
            "157/157 [==============================] - 94s 597ms/step - loss: 0.1130 - accuracy: 0.9651 - val_loss: 0.3720 - val_accuracy: 0.8600\n",
            "Epoch 7/7\n",
            "157/157 [==============================] - 94s 597ms/step - loss: 0.1014 - accuracy: 0.9692 - val_loss: 0.4593 - val_accuracy: 0.8599\n",
            "157/157 [==============================] - 10s 61ms/step - loss: 0.4058 - accuracy: 0.8750\n",
            "Epoch 1/7\n",
            "157/157 [==============================] - 99s 605ms/step - loss: 0.6582 - accuracy: 0.5852 - val_loss: 0.3712 - val_accuracy: 0.8486\n",
            "Epoch 2/7\n",
            "157/157 [==============================] - 93s 596ms/step - loss: 0.3216 - accuracy: 0.8725 - val_loss: 0.3173 - val_accuracy: 0.8702\n",
            "Epoch 3/7\n",
            "157/157 [==============================] - 93s 594ms/step - loss: 0.2098 - accuracy: 0.9235 - val_loss: 0.3085 - val_accuracy: 0.8692\n",
            "Epoch 4/7\n",
            "157/157 [==============================] - 93s 593ms/step - loss: 0.1598 - accuracy: 0.9487 - val_loss: 0.3287 - val_accuracy: 0.8692\n",
            "Epoch 5/7\n",
            "157/157 [==============================] - 93s 596ms/step - loss: 0.1239 - accuracy: 0.9602 - val_loss: 0.3707 - val_accuracy: 0.8654\n",
            "Epoch 6/7\n",
            "157/157 [==============================] - 93s 593ms/step - loss: 0.1059 - accuracy: 0.9671 - val_loss: 0.3712 - val_accuracy: 0.8660\n",
            "Epoch 7/7\n",
            "157/157 [==============================] - 93s 594ms/step - loss: 0.0922 - accuracy: 0.9729 - val_loss: 0.3949 - val_accuracy: 0.8622\n",
            "157/157 [==============================] - 10s 61ms/step - loss: 0.3477 - accuracy: 0.8774\n",
            "Epoch 1/7\n",
            "157/157 [==============================] - 97s 590ms/step - loss: 0.6427 - accuracy: 0.5941 - val_loss: 0.5586 - val_accuracy: 0.7390\n",
            "Epoch 2/7\n",
            "157/157 [==============================] - 91s 577ms/step - loss: 0.4443 - accuracy: 0.8163 - val_loss: 0.3460 - val_accuracy: 0.8536\n",
            "Epoch 3/7\n",
            "157/157 [==============================] - 91s 580ms/step - loss: 0.2507 - accuracy: 0.9082 - val_loss: 0.3317 - val_accuracy: 0.8607\n",
            "Epoch 4/7\n",
            "157/157 [==============================] - 91s 581ms/step - loss: 0.2116 - accuracy: 0.9229 - val_loss: 0.3390 - val_accuracy: 0.8613\n",
            "Epoch 5/7\n",
            "157/157 [==============================] - 91s 578ms/step - loss: 0.1557 - accuracy: 0.9495 - val_loss: 0.3374 - val_accuracy: 0.8676\n",
            "Epoch 6/7\n",
            "157/157 [==============================] - 91s 581ms/step - loss: 0.1279 - accuracy: 0.9612 - val_loss: 0.3717 - val_accuracy: 0.8653\n",
            "Epoch 7/7\n",
            "157/157 [==============================] - 91s 581ms/step - loss: 0.1116 - accuracy: 0.9686 - val_loss: 0.3929 - val_accuracy: 0.8654\n",
            "157/157 [==============================] - 10s 61ms/step - loss: 0.3557 - accuracy: 0.8790\n",
            "Epoch 1/7\n",
            "157/157 [==============================] - 98s 602ms/step - loss: 0.6621 - accuracy: 0.5961 - val_loss: 0.4368 - val_accuracy: 0.8052\n",
            "Epoch 2/7\n",
            "157/157 [==============================] - 94s 599ms/step - loss: 0.3616 - accuracy: 0.8544 - val_loss: 0.3286 - val_accuracy: 0.8622\n",
            "Epoch 3/7\n",
            "157/157 [==============================] - 92s 588ms/step - loss: 0.2372 - accuracy: 0.9138 - val_loss: 0.3122 - val_accuracy: 0.8690\n",
            "Epoch 4/7\n",
            "157/157 [==============================] - 93s 591ms/step - loss: 0.1772 - accuracy: 0.9401 - val_loss: 0.3292 - val_accuracy: 0.8692\n",
            "Epoch 5/7\n",
            "157/157 [==============================] - 92s 584ms/step - loss: 0.1466 - accuracy: 0.9510 - val_loss: 0.3365 - val_accuracy: 0.8709\n",
            "Epoch 6/7\n",
            "157/157 [==============================] - 92s 586ms/step - loss: 0.1156 - accuracy: 0.9673 - val_loss: 0.3740 - val_accuracy: 0.8654\n",
            "Epoch 7/7\n",
            "157/157 [==============================] - 91s 583ms/step - loss: 0.0959 - accuracy: 0.9725 - val_loss: 0.3744 - val_accuracy: 0.8633\n",
            "157/157 [==============================] - 9s 60ms/step - loss: 0.3379 - accuracy: 0.8732\n",
            "Epoch 1/7\n",
            "157/157 [==============================] - 99s 602ms/step - loss: 0.6504 - accuracy: 0.5960 - val_loss: 0.4217 - val_accuracy: 0.8147\n",
            "Epoch 2/7\n",
            "157/157 [==============================] - 94s 597ms/step - loss: 0.3474 - accuracy: 0.8624 - val_loss: 0.3391 - val_accuracy: 0.8560\n",
            "Epoch 3/7\n",
            "157/157 [==============================] - 94s 596ms/step - loss: 0.2615 - accuracy: 0.9044 - val_loss: 0.3150 - val_accuracy: 0.8661\n",
            "Epoch 4/7\n",
            "157/157 [==============================] - 94s 597ms/step - loss: 0.1907 - accuracy: 0.9331 - val_loss: 0.3202 - val_accuracy: 0.8635\n",
            "Epoch 5/7\n",
            "157/157 [==============================] - 94s 596ms/step - loss: 0.1643 - accuracy: 0.9436 - val_loss: 0.3249 - val_accuracy: 0.8679\n",
            "Epoch 6/7\n",
            "157/157 [==============================] - 93s 596ms/step - loss: 0.1218 - accuracy: 0.9623 - val_loss: 0.3587 - val_accuracy: 0.8676\n",
            "Epoch 7/7\n",
            "157/157 [==============================] - 94s 597ms/step - loss: 0.1032 - accuracy: 0.9684 - val_loss: 0.4737 - val_accuracy: 0.8428\n",
            "157/157 [==============================] - 10s 62ms/step - loss: 0.4102 - accuracy: 0.8618\n",
            "Epoch 1/7\n",
            "157/157 [==============================] - 61s 360ms/step - loss: 0.6929 - accuracy: 0.5194 - val_loss: 0.6919 - val_accuracy: 0.5796\n",
            "Epoch 2/7\n",
            "157/157 [==============================] - 55s 353ms/step - loss: 0.6912 - accuracy: 0.5764 - val_loss: 0.6888 - val_accuracy: 0.6241\n",
            "Epoch 3/7\n",
            "157/157 [==============================] - 56s 356ms/step - loss: 0.6816 - accuracy: 0.6287 - val_loss: 0.6106 - val_accuracy: 0.7678\n",
            "Epoch 4/7\n",
            "157/157 [==============================] - 56s 354ms/step - loss: 0.5902 - accuracy: 0.7848 - val_loss: 0.7722 - val_accuracy: 0.5178\n",
            "Epoch 5/7\n",
            "157/157 [==============================] - 55s 351ms/step - loss: 0.6994 - accuracy: 0.5738 - val_loss: 0.5711 - val_accuracy: 0.7670\n",
            "Epoch 6/7\n",
            "157/157 [==============================] - 55s 352ms/step - loss: 0.5447 - accuracy: 0.7991 - val_loss: 0.5404 - val_accuracy: 0.7746\n",
            "Epoch 7/7\n",
            "157/157 [==============================] - 55s 350ms/step - loss: 0.5116 - accuracy: 0.8098 - val_loss: 0.5248 - val_accuracy: 0.7794\n",
            "157/157 [==============================] - 7s 42ms/step - loss: 0.5252 - accuracy: 0.7816\n",
            "Epoch 1/7\n",
            "157/157 [==============================] - 59s 356ms/step - loss: 0.6929 - accuracy: 0.5105 - val_loss: 0.6922 - val_accuracy: 0.5407\n",
            "Epoch 2/7\n",
            "157/157 [==============================] - 55s 349ms/step - loss: 0.6917 - accuracy: 0.5650 - val_loss: 0.6900 - val_accuracy: 0.6207\n",
            "Epoch 3/7\n",
            "157/157 [==============================] - 55s 350ms/step - loss: 0.6877 - accuracy: 0.6568 - val_loss: 0.6770 - val_accuracy: 0.7106\n",
            "Epoch 4/7\n",
            "157/157 [==============================] - 60s 384ms/step - loss: 0.6434 - accuracy: 0.7486 - val_loss: 0.5798 - val_accuracy: 0.7774\n",
            "Epoch 5/7\n",
            "157/157 [==============================] - 56s 357ms/step - loss: 0.5621 - accuracy: 0.8017 - val_loss: 0.5502 - val_accuracy: 0.8088\n",
            "Epoch 6/7\n",
            "157/157 [==============================] - 56s 356ms/step - loss: 0.5278 - accuracy: 0.8350 - val_loss: 0.5249 - val_accuracy: 0.8157\n",
            "Epoch 7/7\n",
            "157/157 [==============================] - 56s 355ms/step - loss: 0.4996 - accuracy: 0.8495 - val_loss: 0.5005 - val_accuracy: 0.8267\n",
            "157/157 [==============================] - 7s 43ms/step - loss: 0.4939 - accuracy: 0.8390\n",
            "Epoch 1/7\n",
            "157/157 [==============================] - 62s 366ms/step - loss: 0.6932 - accuracy: 0.5017 - val_loss: 0.6927 - val_accuracy: 0.5384\n",
            "Epoch 2/7\n",
            "157/157 [==============================] - 57s 362ms/step - loss: 0.6924 - accuracy: 0.5492 - val_loss: 0.6917 - val_accuracy: 0.6010\n",
            "Epoch 3/7\n",
            "157/157 [==============================] - 56s 360ms/step - loss: 0.6907 - accuracy: 0.6376 - val_loss: 0.6875 - val_accuracy: 0.6822\n",
            "Epoch 4/7\n",
            "157/157 [==============================] - 57s 362ms/step - loss: 0.6762 - accuracy: 0.7143 - val_loss: 0.6414 - val_accuracy: 0.7241\n",
            "Epoch 5/7\n",
            "157/157 [==============================] - 57s 366ms/step - loss: 0.6277 - accuracy: 0.7641 - val_loss: 0.6111 - val_accuracy: 0.7859\n",
            "Epoch 6/7\n",
            "157/157 [==============================] - 57s 363ms/step - loss: 0.5975 - accuracy: 0.8067 - val_loss: 0.5873 - val_accuracy: 0.8006\n",
            "Epoch 7/7\n",
            "157/157 [==============================] - 58s 368ms/step - loss: 0.5714 - accuracy: 0.8272 - val_loss: 0.5668 - val_accuracy: 0.8168\n",
            "157/157 [==============================] - 7s 44ms/step - loss: 0.5626 - accuracy: 0.8238\n",
            "Epoch 1/7\n",
            "157/157 [==============================] - 61s 364ms/step - loss: 0.6925 - accuracy: 0.5102 - val_loss: 0.6918 - val_accuracy: 0.5229\n",
            "Epoch 2/7\n",
            "157/157 [==============================] - 56s 357ms/step - loss: 0.6912 - accuracy: 0.5359 - val_loss: 0.6898 - val_accuracy: 0.6328\n",
            "Epoch 3/7\n",
            "157/157 [==============================] - 57s 361ms/step - loss: 0.6882 - accuracy: 0.6571 - val_loss: 0.6821 - val_accuracy: 0.6406\n",
            "Epoch 4/7\n",
            "157/157 [==============================] - 56s 359ms/step - loss: 0.6610 - accuracy: 0.6455 - val_loss: 0.6038 - val_accuracy: 0.7836\n",
            "Epoch 5/7\n",
            "157/157 [==============================] - 56s 356ms/step - loss: 0.5819 - accuracy: 0.8104 - val_loss: 0.5697 - val_accuracy: 0.7832\n",
            "Epoch 6/7\n",
            "157/157 [==============================] - 57s 360ms/step - loss: 0.5492 - accuracy: 0.8031 - val_loss: 0.5456 - val_accuracy: 0.7914\n",
            "Epoch 7/7\n",
            "157/157 [==============================] - 56s 359ms/step - loss: 0.5169 - accuracy: 0.8265 - val_loss: 0.5302 - val_accuracy: 0.7837\n",
            "157/157 [==============================] - 7s 44ms/step - loss: 0.5192 - accuracy: 0.7988\n",
            "Epoch 1/7\n",
            "157/157 [==============================] - 60s 360ms/step - loss: 0.6929 - accuracy: 0.5118 - val_loss: 0.6919 - val_accuracy: 0.5829\n",
            "Epoch 2/7\n",
            "157/157 [==============================] - 56s 357ms/step - loss: 0.6913 - accuracy: 0.6135 - val_loss: 0.6887 - val_accuracy: 0.6710\n",
            "Epoch 3/7\n",
            "157/157 [==============================] - 56s 355ms/step - loss: 0.6782 - accuracy: 0.6716 - val_loss: 0.6277 - val_accuracy: 0.7174\n",
            "Epoch 4/7\n",
            "157/157 [==============================] - 56s 358ms/step - loss: 0.6014 - accuracy: 0.7814 - val_loss: 0.5739 - val_accuracy: 0.7754\n",
            "Epoch 5/7\n",
            "157/157 [==============================] - 56s 356ms/step - loss: 0.5497 - accuracy: 0.7921 - val_loss: 0.5433 - val_accuracy: 0.7667\n",
            "Epoch 6/7\n",
            "157/157 [==============================] - 56s 357ms/step - loss: 0.5211 - accuracy: 0.7919 - val_loss: 0.5325 - val_accuracy: 0.7707\n",
            "Epoch 7/7\n",
            "157/157 [==============================] - 55s 353ms/step - loss: 0.5024 - accuracy: 0.8059 - val_loss: 0.5210 - val_accuracy: 0.7779\n",
            "157/157 [==============================] - 7s 43ms/step - loss: 0.5082 - accuracy: 0.7920\n",
            "Epoch 1/7\n",
            "157/157 [==============================] - 71s 427ms/step - loss: 0.6929 - accuracy: 0.5218 - val_loss: 0.6923 - val_accuracy: 0.5289\n",
            "Epoch 2/7\n",
            "157/157 [==============================] - 67s 426ms/step - loss: 0.6917 - accuracy: 0.5639 - val_loss: 0.6825 - val_accuracy: 0.7060\n",
            "Epoch 3/7\n",
            "157/157 [==============================] - 67s 430ms/step - loss: 0.6596 - accuracy: 0.6791 - val_loss: 0.6243 - val_accuracy: 0.7361\n",
            "Epoch 4/7\n",
            "157/157 [==============================] - 68s 431ms/step - loss: 0.5885 - accuracy: 0.7441 - val_loss: 0.5676 - val_accuracy: 0.7248\n",
            "Epoch 5/7\n",
            "157/157 [==============================] - 68s 433ms/step - loss: 0.5369 - accuracy: 0.7601 - val_loss: 0.5776 - val_accuracy: 0.6806\n",
            "Epoch 6/7\n",
            "157/157 [==============================] - 68s 432ms/step - loss: 0.5195 - accuracy: 0.7631 - val_loss: 0.5419 - val_accuracy: 0.7490\n",
            "Epoch 7/7\n",
            "157/157 [==============================] - 68s 436ms/step - loss: 0.4878 - accuracy: 0.7911 - val_loss: 0.5314 - val_accuracy: 0.7559\n",
            "157/157 [==============================] - 8s 51ms/step - loss: 0.5198 - accuracy: 0.7672\n",
            "Epoch 1/7\n",
            "157/157 [==============================] - 72s 431ms/step - loss: 0.6930 - accuracy: 0.5128 - val_loss: 0.6920 - val_accuracy: 0.5734\n",
            "Epoch 2/7\n",
            "157/157 [==============================] - 67s 428ms/step - loss: 0.6912 - accuracy: 0.5986 - val_loss: 0.6871 - val_accuracy: 0.6668\n",
            "Epoch 3/7\n",
            "157/157 [==============================] - 68s 432ms/step - loss: 0.6732 - accuracy: 0.6841 - val_loss: 0.5937 - val_accuracy: 0.7686\n",
            "Epoch 4/7\n",
            "157/157 [==============================] - 67s 429ms/step - loss: 0.5874 - accuracy: 0.7606 - val_loss: 0.5483 - val_accuracy: 0.7730\n",
            "Epoch 5/7\n",
            "157/157 [==============================] - 67s 430ms/step - loss: 0.5157 - accuracy: 0.7928 - val_loss: 0.5146 - val_accuracy: 0.7690\n",
            "Epoch 6/7\n",
            "157/157 [==============================] - 67s 429ms/step - loss: 0.4849 - accuracy: 0.7951 - val_loss: 0.5054 - val_accuracy: 0.7756\n",
            "Epoch 7/7\n",
            "157/157 [==============================] - 67s 428ms/step - loss: 0.4578 - accuracy: 0.8130 - val_loss: 0.4963 - val_accuracy: 0.7855\n",
            "157/157 [==============================] - 8s 50ms/step - loss: 0.4839 - accuracy: 0.7910\n",
            "Epoch 1/7\n",
            "157/157 [==============================] - 70s 426ms/step - loss: 0.6930 - accuracy: 0.5101 - val_loss: 0.6918 - val_accuracy: 0.5825\n",
            "Epoch 2/7\n",
            "157/157 [==============================] - 66s 423ms/step - loss: 0.6911 - accuracy: 0.6027 - val_loss: 0.6868 - val_accuracy: 0.6593\n",
            "Epoch 3/7\n",
            "157/157 [==============================] - 67s 428ms/step - loss: 0.6691 - accuracy: 0.6927 - val_loss: 0.5888 - val_accuracy: 0.7639\n",
            "Epoch 4/7\n",
            "157/157 [==============================] - 67s 427ms/step - loss: 0.5580 - accuracy: 0.7952 - val_loss: 0.5318 - val_accuracy: 0.7676\n",
            "Epoch 5/7\n",
            "157/157 [==============================] - 68s 432ms/step - loss: 0.4924 - accuracy: 0.7941 - val_loss: 0.4992 - val_accuracy: 0.7886\n",
            "Epoch 6/7\n",
            "157/157 [==============================] - 67s 429ms/step - loss: 0.4608 - accuracy: 0.8082 - val_loss: 0.4928 - val_accuracy: 0.7991\n",
            "Epoch 7/7\n",
            "157/157 [==============================] - 68s 431ms/step - loss: 0.4362 - accuracy: 0.8212 - val_loss: 0.4742 - val_accuracy: 0.7952\n",
            "157/157 [==============================] - 8s 53ms/step - loss: 0.4658 - accuracy: 0.7984\n",
            "Epoch 1/7\n",
            "157/157 [==============================] - 74s 446ms/step - loss: 0.6930 - accuracy: 0.5067 - val_loss: 0.6921 - val_accuracy: 0.5573\n",
            "Epoch 2/7\n",
            "157/157 [==============================] - 69s 442ms/step - loss: 0.6912 - accuracy: 0.6058 - val_loss: 0.6766 - val_accuracy: 0.5204\n",
            "Epoch 3/7\n",
            "157/157 [==============================] - 68s 432ms/step - loss: 0.6457 - accuracy: 0.6464 - val_loss: 0.5778 - val_accuracy: 0.7796\n",
            "Epoch 4/7\n",
            "157/157 [==============================] - 68s 434ms/step - loss: 0.5595 - accuracy: 0.7690 - val_loss: 0.5275 - val_accuracy: 0.7742\n",
            "Epoch 5/7\n",
            "157/157 [==============================] - 68s 436ms/step - loss: 0.5013 - accuracy: 0.7906 - val_loss: 0.5080 - val_accuracy: 0.7787\n",
            "Epoch 6/7\n",
            "157/157 [==============================] - 68s 432ms/step - loss: 0.4742 - accuracy: 0.8026 - val_loss: 0.5169 - val_accuracy: 0.7766\n",
            "Epoch 7/7\n",
            "157/157 [==============================] - 68s 431ms/step - loss: 0.4596 - accuracy: 0.8125 - val_loss: 0.4929 - val_accuracy: 0.7798\n",
            "157/157 [==============================] - 9s 54ms/step - loss: 0.4676 - accuracy: 0.7994\n",
            "Epoch 1/7\n",
            "157/157 [==============================] - 72s 434ms/step - loss: 0.6930 - accuracy: 0.5061 - val_loss: 0.6925 - val_accuracy: 0.5319\n",
            "Epoch 2/7\n",
            "157/157 [==============================] - 66s 423ms/step - loss: 0.6919 - accuracy: 0.5753 - val_loss: 0.6897 - val_accuracy: 0.6126\n",
            "Epoch 3/7\n",
            "157/157 [==============================] - 67s 427ms/step - loss: 0.6828 - accuracy: 0.6590 - val_loss: 0.5983 - val_accuracy: 0.7419\n",
            "Epoch 4/7\n",
            "157/157 [==============================] - 66s 421ms/step - loss: 0.5754 - accuracy: 0.7665 - val_loss: 0.5804 - val_accuracy: 0.7354\n",
            "Epoch 5/7\n",
            "157/157 [==============================] - 67s 427ms/step - loss: 0.5312 - accuracy: 0.7553 - val_loss: 0.5307 - val_accuracy: 0.7448\n",
            "Epoch 6/7\n",
            "157/157 [==============================] - 66s 422ms/step - loss: 0.5002 - accuracy: 0.7728 - val_loss: 0.5105 - val_accuracy: 0.7639\n",
            "Epoch 7/7\n",
            "157/157 [==============================] - 67s 424ms/step - loss: 0.4707 - accuracy: 0.7981 - val_loss: 0.4934 - val_accuracy: 0.7726\n",
            "157/157 [==============================] - 8s 51ms/step - loss: 0.4722 - accuracy: 0.7878\n",
            "Epoch 1/7\n",
            "157/157 [==============================] - 99s 606ms/step - loss: 0.6929 - accuracy: 0.5152 - val_loss: 0.6923 - val_accuracy: 0.5596\n",
            "Epoch 2/7\n",
            "157/157 [==============================] - 95s 607ms/step - loss: 0.6911 - accuracy: 0.5956 - val_loss: 0.6559 - val_accuracy: 0.6606\n",
            "Epoch 3/7\n",
            "157/157 [==============================] - 98s 624ms/step - loss: 0.6168 - accuracy: 0.7071 - val_loss: 0.5620 - val_accuracy: 0.7662\n",
            "Epoch 4/7\n",
            "157/157 [==============================] - 97s 616ms/step - loss: 0.5142 - accuracy: 0.7911 - val_loss: 0.4920 - val_accuracy: 0.7803\n",
            "Epoch 5/7\n",
            "157/157 [==============================] - 97s 619ms/step - loss: 0.4625 - accuracy: 0.8016 - val_loss: 0.4564 - val_accuracy: 0.8074\n",
            "Epoch 6/7\n",
            "157/157 [==============================] - 96s 611ms/step - loss: 0.4082 - accuracy: 0.8369 - val_loss: 0.4601 - val_accuracy: 0.7755\n",
            "Epoch 7/7\n",
            "157/157 [==============================] - 96s 612ms/step - loss: 0.3794 - accuracy: 0.8551 - val_loss: 0.3886 - val_accuracy: 0.8412\n",
            "157/157 [==============================] - 10s 64ms/step - loss: 0.3769 - accuracy: 0.8448\n",
            "Epoch 1/7\n",
            "157/157 [==============================] - 100s 611ms/step - loss: 0.6930 - accuracy: 0.5087 - val_loss: 0.6924 - val_accuracy: 0.5546\n",
            "Epoch 2/7\n",
            "157/157 [==============================] - 96s 609ms/step - loss: 0.6912 - accuracy: 0.5904 - val_loss: 0.6646 - val_accuracy: 0.6494\n",
            "Epoch 3/7\n",
            "157/157 [==============================] - 96s 610ms/step - loss: 0.6497 - accuracy: 0.6826 - val_loss: 0.6341 - val_accuracy: 0.6523\n",
            "Epoch 4/7\n",
            "157/157 [==============================] - 94s 600ms/step - loss: 0.5927 - accuracy: 0.7363 - val_loss: 0.5734 - val_accuracy: 0.7478\n",
            "Epoch 5/7\n",
            "157/157 [==============================] - 94s 598ms/step - loss: 0.5547 - accuracy: 0.7471 - val_loss: 0.5486 - val_accuracy: 0.7250\n",
            "Epoch 6/7\n",
            "157/157 [==============================] - 96s 610ms/step - loss: 0.5072 - accuracy: 0.7614 - val_loss: 0.5151 - val_accuracy: 0.7509\n",
            "Epoch 7/7\n",
            "157/157 [==============================] - 94s 599ms/step - loss: 0.4988 - accuracy: 0.7704 - val_loss: 0.5036 - val_accuracy: 0.7620\n",
            "157/157 [==============================] - 10s 64ms/step - loss: 0.4927 - accuracy: 0.7710\n",
            "Epoch 1/7\n",
            "157/157 [==============================] - 99s 609ms/step - loss: 0.6931 - accuracy: 0.4986 - val_loss: 0.6925 - val_accuracy: 0.5759\n",
            "Epoch 2/7\n",
            "157/157 [==============================] - 95s 605ms/step - loss: 0.6916 - accuracy: 0.6098 - val_loss: 0.6695 - val_accuracy: 0.5879\n",
            "Epoch 3/7\n",
            "157/157 [==============================] - 96s 609ms/step - loss: 0.6217 - accuracy: 0.6956 - val_loss: 0.5277 - val_accuracy: 0.7914\n",
            "Epoch 4/7\n",
            "157/157 [==============================] - 95s 603ms/step - loss: 0.4812 - accuracy: 0.8210 - val_loss: 0.4698 - val_accuracy: 0.8010\n",
            "Epoch 5/7\n",
            "157/157 [==============================] - 96s 612ms/step - loss: 0.3980 - accuracy: 0.8605 - val_loss: 0.4215 - val_accuracy: 0.8402\n",
            "Epoch 6/7\n",
            "157/157 [==============================] - 96s 612ms/step - loss: 0.3626 - accuracy: 0.8770 - val_loss: 0.4120 - val_accuracy: 0.8402\n",
            "Epoch 7/7\n",
            "157/157 [==============================] - 96s 610ms/step - loss: 0.3611 - accuracy: 0.8606 - val_loss: 0.5317 - val_accuracy: 0.7464\n",
            "157/157 [==============================] - 10s 65ms/step - loss: 0.5269 - accuracy: 0.7546\n",
            "Epoch 1/7\n",
            "157/157 [==============================] - 100s 610ms/step - loss: 0.6930 - accuracy: 0.5236 - val_loss: 0.6924 - val_accuracy: 0.5897\n",
            "Epoch 2/7\n",
            "157/157 [==============================] - 94s 600ms/step - loss: 0.6913 - accuracy: 0.6099 - val_loss: 0.6598 - val_accuracy: 0.6364\n",
            "Epoch 3/7\n",
            "157/157 [==============================] - 94s 600ms/step - loss: 0.6289 - accuracy: 0.6891 - val_loss: 0.5775 - val_accuracy: 0.7698\n",
            "Epoch 4/7\n",
            "157/157 [==============================] - 94s 599ms/step - loss: 0.5512 - accuracy: 0.7678 - val_loss: 0.5615 - val_accuracy: 0.6906\n",
            "Epoch 5/7\n",
            "157/157 [==============================] - 94s 597ms/step - loss: 0.5031 - accuracy: 0.7798 - val_loss: 0.5116 - val_accuracy: 0.7666\n",
            "Epoch 6/7\n",
            "157/157 [==============================] - 94s 602ms/step - loss: 0.4682 - accuracy: 0.8017 - val_loss: 0.4859 - val_accuracy: 0.7790\n",
            "Epoch 7/7\n",
            "157/157 [==============================] - 94s 600ms/step - loss: 0.4308 - accuracy: 0.8253 - val_loss: 0.4513 - val_accuracy: 0.8034\n",
            "157/157 [==============================] - 10s 64ms/step - loss: 0.4348 - accuracy: 0.8140\n",
            "Epoch 1/7\n",
            "157/157 [==============================] - 101s 619ms/step - loss: 0.6930 - accuracy: 0.5212 - val_loss: 0.6924 - val_accuracy: 0.5927\n",
            "Epoch 2/7\n",
            "157/157 [==============================] - 95s 603ms/step - loss: 0.6908 - accuracy: 0.5932 - val_loss: 0.6637 - val_accuracy: 0.5468\n",
            "Epoch 3/7\n",
            "157/157 [==============================] - 96s 610ms/step - loss: 0.6194 - accuracy: 0.6849 - val_loss: 0.5491 - val_accuracy: 0.7494\n",
            "Epoch 4/7\n",
            "157/157 [==============================] - 97s 617ms/step - loss: 0.5130 - accuracy: 0.7742 - val_loss: 0.5190 - val_accuracy: 0.7754\n",
            "Epoch 5/7\n",
            "157/157 [==============================] - 96s 612ms/step - loss: 0.4789 - accuracy: 0.7990 - val_loss: 0.4833 - val_accuracy: 0.7963\n",
            "Epoch 6/7\n",
            "157/157 [==============================] - 96s 613ms/step - loss: 0.4465 - accuracy: 0.8107 - val_loss: 0.4667 - val_accuracy: 0.8044\n",
            "Epoch 7/7\n",
            "157/157 [==============================] - 96s 613ms/step - loss: 0.4314 - accuracy: 0.8190 - val_loss: 0.6067 - val_accuracy: 0.6270\n",
            "157/157 [==============================] - 10s 66ms/step - loss: 0.5957 - accuracy: 0.6406\n",
            "Epoch 1/7\n",
            "196/196 [==============================] - 73s 354ms/step - loss: 0.6706 - accuracy: 0.5875 - val_loss: 0.4876 - val_accuracy: 0.8146\n",
            "Epoch 2/7\n",
            "196/196 [==============================] - 69s 354ms/step - loss: 0.4200 - accuracy: 0.8421 - val_loss: 0.3458 - val_accuracy: 0.8619\n",
            "Epoch 3/7\n",
            "196/196 [==============================] - 70s 357ms/step - loss: 0.2689 - accuracy: 0.9060 - val_loss: 0.3147 - val_accuracy: 0.8699\n",
            "Epoch 4/7\n",
            "196/196 [==============================] - 70s 357ms/step - loss: 0.2255 - accuracy: 0.9222 - val_loss: 0.3551 - val_accuracy: 0.8625\n",
            "Epoch 5/7\n",
            "196/196 [==============================] - 71s 360ms/step - loss: 0.1793 - accuracy: 0.9419 - val_loss: 0.3230 - val_accuracy: 0.8710\n",
            "Epoch 6/7\n",
            "196/196 [==============================] - 70s 358ms/step - loss: 0.1532 - accuracy: 0.9532 - val_loss: 0.3350 - val_accuracy: 0.8666\n",
            "Epoch 7/7\n",
            "196/196 [==============================] - 70s 358ms/step - loss: 0.1284 - accuracy: 0.9631 - val_loss: 0.3630 - val_accuracy: 0.8401\n"
          ],
          "name": "stdout"
        }
      ]
    },
    {
      "cell_type": "code",
      "metadata": {
        "colab": {
          "base_uri": "https://localhost:8080/",
          "height": 637
        },
        "id": "6qFinjaatuGF",
        "outputId": "0442ab96-1c75-4600-95db-2cc1125c1192"
      },
      "source": [
        "import pandas as pd\n",
        "df = pd.DataFrame.from_dict(gs.cv_results_) \n",
        "df"
      ],
      "execution_count": 19,
      "outputs": [
        {
          "output_type": "execute_result",
          "data": {
            "text/html": [
              "<div>\n",
              "<style scoped>\n",
              "    .dataframe tbody tr th:only-of-type {\n",
              "        vertical-align: middle;\n",
              "    }\n",
              "\n",
              "    .dataframe tbody tr th {\n",
              "        vertical-align: top;\n",
              "    }\n",
              "\n",
              "    .dataframe thead th {\n",
              "        text-align: right;\n",
              "    }\n",
              "</style>\n",
              "<table border=\"1\" class=\"dataframe\">\n",
              "  <thead>\n",
              "    <tr style=\"text-align: right;\">\n",
              "      <th></th>\n",
              "      <th>mean_fit_time</th>\n",
              "      <th>std_fit_time</th>\n",
              "      <th>mean_score_time</th>\n",
              "      <th>std_score_time</th>\n",
              "      <th>param_learning_rate</th>\n",
              "      <th>param_n_units</th>\n",
              "      <th>params</th>\n",
              "      <th>split0_test_score</th>\n",
              "      <th>split1_test_score</th>\n",
              "      <th>split2_test_score</th>\n",
              "      <th>split3_test_score</th>\n",
              "      <th>split4_test_score</th>\n",
              "      <th>mean_test_score</th>\n",
              "      <th>std_test_score</th>\n",
              "      <th>rank_test_score</th>\n",
              "    </tr>\n",
              "  </thead>\n",
              "  <tbody>\n",
              "    <tr>\n",
              "      <th>0</th>\n",
              "      <td>389.231311</td>\n",
              "      <td>5.233967</td>\n",
              "      <td>6.506233</td>\n",
              "      <td>0.175182</td>\n",
              "      <td>0.01</td>\n",
              "      <td>8</td>\n",
              "      <td>{'learning_rate': 0.01, 'n_units': 8}</td>\n",
              "      <td>-0.491938</td>\n",
              "      <td>-0.385403</td>\n",
              "      <td>-0.506114</td>\n",
              "      <td>-0.469913</td>\n",
              "      <td>-0.489472</td>\n",
              "      <td>-0.468568</td>\n",
              "      <td>0.043154</td>\n",
              "      <td>5</td>\n",
              "    </tr>\n",
              "    <tr>\n",
              "      <th>1</th>\n",
              "      <td>458.416715</td>\n",
              "      <td>3.844083</td>\n",
              "      <td>7.084309</td>\n",
              "      <td>0.051534</td>\n",
              "      <td>0.01</td>\n",
              "      <td>16</td>\n",
              "      <td>{'learning_rate': 0.01, 'n_units': 16}</td>\n",
              "      <td>-0.530995</td>\n",
              "      <td>-0.496942</td>\n",
              "      <td>-0.394648</td>\n",
              "      <td>-0.437299</td>\n",
              "      <td>-0.473653</td>\n",
              "      <td>-0.466707</td>\n",
              "      <td>0.047228</td>\n",
              "      <td>4</td>\n",
              "    </tr>\n",
              "    <tr>\n",
              "      <th>2</th>\n",
              "      <td>646.583957</td>\n",
              "      <td>4.829770</td>\n",
              "      <td>9.251132</td>\n",
              "      <td>0.100379</td>\n",
              "      <td>0.01</td>\n",
              "      <td>32</td>\n",
              "      <td>{'learning_rate': 0.01, 'n_units': 32}</td>\n",
              "      <td>-0.544180</td>\n",
              "      <td>-0.516401</td>\n",
              "      <td>-0.479775</td>\n",
              "      <td>-0.467408</td>\n",
              "      <td>-0.493036</td>\n",
              "      <td>-0.500160</td>\n",
              "      <td>0.027352</td>\n",
              "      <td>8</td>\n",
              "    </tr>\n",
              "    <tr>\n",
              "      <th>3</th>\n",
              "      <td>382.975840</td>\n",
              "      <td>2.072368</td>\n",
              "      <td>6.412871</td>\n",
              "      <td>0.015623</td>\n",
              "      <td>0.001</td>\n",
              "      <td>8</td>\n",
              "      <td>{'learning_rate': 0.001, 'n_units': 8}</td>\n",
              "      <td>-0.345381</td>\n",
              "      <td>-0.338659</td>\n",
              "      <td>-0.356145</td>\n",
              "      <td>-0.338473</td>\n",
              "      <td>-0.373041</td>\n",
              "      <td>-0.350340</td>\n",
              "      <td>0.013045</td>\n",
              "      <td>1</td>\n",
              "    </tr>\n",
              "    <tr>\n",
              "      <th>4</th>\n",
              "      <td>463.255901</td>\n",
              "      <td>3.720378</td>\n",
              "      <td>7.351508</td>\n",
              "      <td>0.131801</td>\n",
              "      <td>0.001</td>\n",
              "      <td>16</td>\n",
              "      <td>{'learning_rate': 0.001, 'n_units': 16}</td>\n",
              "      <td>-0.383645</td>\n",
              "      <td>-0.347431</td>\n",
              "      <td>-0.368468</td>\n",
              "      <td>-0.356438</td>\n",
              "      <td>-0.380602</td>\n",
              "      <td>-0.367317</td>\n",
              "      <td>0.013844</td>\n",
              "      <td>2</td>\n",
              "    </tr>\n",
              "    <tr>\n",
              "      <th>5</th>\n",
              "      <td>654.969758</td>\n",
              "      <td>6.662110</td>\n",
              "      <td>9.637877</td>\n",
              "      <td>0.114859</td>\n",
              "      <td>0.001</td>\n",
              "      <td>32</td>\n",
              "      <td>{'learning_rate': 0.001, 'n_units': 32}</td>\n",
              "      <td>-0.405825</td>\n",
              "      <td>-0.347719</td>\n",
              "      <td>-0.355681</td>\n",
              "      <td>-0.337948</td>\n",
              "      <td>-0.410194</td>\n",
              "      <td>-0.371474</td>\n",
              "      <td>0.030387</td>\n",
              "      <td>3</td>\n",
              "    </tr>\n",
              "    <tr>\n",
              "      <th>6</th>\n",
              "      <td>398.225463</td>\n",
              "      <td>4.002884</td>\n",
              "      <td>6.804452</td>\n",
              "      <td>0.133747</td>\n",
              "      <td>0.0001</td>\n",
              "      <td>8</td>\n",
              "      <td>{'learning_rate': 0.0001, 'n_units': 8}</td>\n",
              "      <td>-0.525155</td>\n",
              "      <td>-0.493885</td>\n",
              "      <td>-0.562569</td>\n",
              "      <td>-0.519246</td>\n",
              "      <td>-0.508165</td>\n",
              "      <td>-0.521804</td>\n",
              "      <td>0.023000</td>\n",
              "      <td>9</td>\n",
              "    </tr>\n",
              "    <tr>\n",
              "      <th>7</th>\n",
              "      <td>476.840946</td>\n",
              "      <td>4.218322</td>\n",
              "      <td>8.173575</td>\n",
              "      <td>0.224660</td>\n",
              "      <td>0.0001</td>\n",
              "      <td>16</td>\n",
              "      <td>{'learning_rate': 0.0001, 'n_units': 16}</td>\n",
              "      <td>-0.519812</td>\n",
              "      <td>-0.483869</td>\n",
              "      <td>-0.465758</td>\n",
              "      <td>-0.467551</td>\n",
              "      <td>-0.472204</td>\n",
              "      <td>-0.481839</td>\n",
              "      <td>0.020008</td>\n",
              "      <td>6</td>\n",
              "    </tr>\n",
              "    <tr>\n",
              "      <th>8</th>\n",
              "      <td>672.646820</td>\n",
              "      <td>4.763177</td>\n",
              "      <td>10.157246</td>\n",
              "      <td>0.122700</td>\n",
              "      <td>0.0001</td>\n",
              "      <td>32</td>\n",
              "      <td>{'learning_rate': 0.0001, 'n_units': 32}</td>\n",
              "      <td>-0.376877</td>\n",
              "      <td>-0.492698</td>\n",
              "      <td>-0.526870</td>\n",
              "      <td>-0.434762</td>\n",
              "      <td>-0.595669</td>\n",
              "      <td>-0.485375</td>\n",
              "      <td>0.075198</td>\n",
              "      <td>7</td>\n",
              "    </tr>\n",
              "  </tbody>\n",
              "</table>\n",
              "</div>"
            ],
            "text/plain": [
              "   mean_fit_time  std_fit_time  ...  std_test_score  rank_test_score\n",
              "0     389.231311      5.233967  ...        0.043154                5\n",
              "1     458.416715      3.844083  ...        0.047228                4\n",
              "2     646.583957      4.829770  ...        0.027352                8\n",
              "3     382.975840      2.072368  ...        0.013045                1\n",
              "4     463.255901      3.720378  ...        0.013844                2\n",
              "5     654.969758      6.662110  ...        0.030387                3\n",
              "6     398.225463      4.002884  ...        0.023000                9\n",
              "7     476.840946      4.218322  ...        0.020008                6\n",
              "8     672.646820      4.763177  ...        0.075198                7\n",
              "\n",
              "[9 rows x 15 columns]"
            ]
          },
          "metadata": {
            "tags": []
          },
          "execution_count": 19
        }
      ]
    },
    {
      "cell_type": "code",
      "metadata": {
        "colab": {
          "base_uri": "https://localhost:8080/",
          "height": 1000
        },
        "id": "xpSikIOHSMBo",
        "outputId": "a73a3b04-9603-4a4d-d7b0-9587fcaaf553"
      },
      "source": [
        "import os\n",
        "import time\n",
        "\n",
        "best_model = keras.models.Sequential()\n",
        "best_model.add(keras.layers.Embedding(input_dim=num_words, output_dim=10))\n",
        "best_model.add(keras.layers.Bidirectional(keras.layers.LSTM(8)))\n",
        "best_model.add(keras.layers.Dense(1, activation=\"sigmoid\"))\n",
        "best_model.compile(loss=\"binary_crossentropy\", \n",
        "                   optimizer=keras.optimizers.Adam(learning_rate=0.0001), \n",
        "                             metrics=[\"accuracy\"])\n",
        "\n",
        "logdir = os.path.join(os.curdir, \"my_logs\", \"run_{}\".format(time.time()))\n",
        "callbacks = [keras.callbacks.TensorBoard(logdir),\n",
        "             keras.callbacks.EarlyStopping(patience=5),\n",
        "             keras.callbacks.ModelCheckpoint(\"my_mnist_model.h5\", save_best_only=True)]\n",
        "\n",
        "history_b = best_model.fit(X_train_trim, y_train, callbacks=callbacks,\n",
        "                    epochs=20, batch_size=128, validation_data=(X_valid_trim, y_valid))\n",
        "\n",
        "plot_loss(history_b)\n",
        "\n",
        "plot_accuracy(history_b)\n",
        "\n",
        "scores = best_model.evaluate(X_test_trim, y_test, verbose=2)"
      ],
      "execution_count": 22,
      "outputs": [
        {
          "output_type": "stream",
          "text": [
            "Epoch 1/20\n",
            "196/196 [==============================] - 72s 349ms/step - loss: 0.6931 - accuracy: 0.5064 - val_loss: 0.6926 - val_accuracy: 0.5590\n",
            "Epoch 2/20\n",
            "196/196 [==============================] - 68s 346ms/step - loss: 0.6921 - accuracy: 0.5905 - val_loss: 0.6909 - val_accuracy: 0.6347\n",
            "Epoch 3/20\n",
            "196/196 [==============================] - 69s 352ms/step - loss: 0.6893 - accuracy: 0.6695 - val_loss: 0.6840 - val_accuracy: 0.6872\n",
            "Epoch 4/20\n",
            "196/196 [==============================] - 69s 352ms/step - loss: 0.6678 - accuracy: 0.7150 - val_loss: 0.5749 - val_accuracy: 0.7772\n",
            "Epoch 5/20\n",
            "196/196 [==============================] - 69s 352ms/step - loss: 0.5611 - accuracy: 0.7890 - val_loss: 0.5488 - val_accuracy: 0.7492\n",
            "Epoch 6/20\n",
            "196/196 [==============================] - 70s 355ms/step - loss: 0.5197 - accuracy: 0.7913 - val_loss: 0.5177 - val_accuracy: 0.7821\n",
            "Epoch 7/20\n",
            "196/196 [==============================] - 70s 356ms/step - loss: 0.4937 - accuracy: 0.8036 - val_loss: 0.5058 - val_accuracy: 0.7849\n",
            "Epoch 8/20\n",
            "196/196 [==============================] - 71s 364ms/step - loss: 0.4780 - accuracy: 0.8101 - val_loss: 0.5033 - val_accuracy: 0.7762\n",
            "Epoch 9/20\n",
            "196/196 [==============================] - 72s 369ms/step - loss: 0.4653 - accuracy: 0.8157 - val_loss: 0.4910 - val_accuracy: 0.7883\n",
            "Epoch 10/20\n",
            "196/196 [==============================] - 75s 382ms/step - loss: 0.4504 - accuracy: 0.8266 - val_loss: 0.4846 - val_accuracy: 0.7909\n",
            "Epoch 11/20\n",
            "196/196 [==============================] - 73s 374ms/step - loss: 0.4405 - accuracy: 0.8323 - val_loss: 0.4803 - val_accuracy: 0.7937\n",
            "Epoch 12/20\n",
            "196/196 [==============================] - 72s 367ms/step - loss: 0.4315 - accuracy: 0.8354 - val_loss: 0.4778 - val_accuracy: 0.7946\n",
            "Epoch 13/20\n",
            "196/196 [==============================] - 72s 368ms/step - loss: 0.4223 - accuracy: 0.8410 - val_loss: 0.4751 - val_accuracy: 0.7960\n",
            "Epoch 14/20\n",
            "196/196 [==============================] - 70s 359ms/step - loss: 0.4302 - accuracy: 0.8319 - val_loss: 0.4768 - val_accuracy: 0.7817\n",
            "Epoch 15/20\n",
            "196/196 [==============================] - 70s 356ms/step - loss: 0.4347 - accuracy: 0.8219 - val_loss: 0.4729 - val_accuracy: 0.7920\n",
            "Epoch 16/20\n",
            "196/196 [==============================] - 71s 363ms/step - loss: 0.4096 - accuracy: 0.8417 - val_loss: 0.4717 - val_accuracy: 0.7940\n",
            "Epoch 17/20\n",
            "196/196 [==============================] - 70s 358ms/step - loss: 0.4106 - accuracy: 0.8424 - val_loss: 0.4754 - val_accuracy: 0.7935\n",
            "Epoch 18/20\n",
            "196/196 [==============================] - 69s 354ms/step - loss: 0.4122 - accuracy: 0.8402 - val_loss: 0.4693 - val_accuracy: 0.7963\n",
            "Epoch 19/20\n",
            "196/196 [==============================] - 69s 354ms/step - loss: 0.4016 - accuracy: 0.8476 - val_loss: 0.4720 - val_accuracy: 0.7956\n",
            "Epoch 20/20\n",
            "196/196 [==============================] - 69s 351ms/step - loss: 0.3994 - accuracy: 0.8483 - val_loss: 0.4732 - val_accuracy: 0.7950\n",
            "391/391 - 14s - loss: 0.4645 - accuracy: 0.8018\n"
          ],
          "name": "stdout"
        },
        {
          "output_type": "display_data",
          "data": {
            "image/png": "[encoded data removed]",
            "text/plain": [
              "<Figure size 720x432 with 1 Axes>"
            ]
          },
          "metadata": {
            "tags": [],
            "needs_background": "light"
          }
        },
        {
          "output_type": "display_data",
          "data": {
            "image/png": "[encoded data removed]",
            "text/plain": [
              "<Figure size 720x432 with 1 Axes>"
            ]
          },
          "metadata": {
            "tags": [],
            "needs_background": "light"
          }
        }
      ]
    },
    {
      "cell_type": "code",
      "metadata": {
        "colab": {
          "base_uri": "https://localhost:8080/"
        },
        "id": "vm3iXVOdQnTx",
        "outputId": "80977791-7ade-443c-b4df-244c032e2c7d"
      },
      "source": [
        "print(\"%s: %.2f%%\" % (best_model.metrics_names[1], scores[1]*100))"
      ],
      "execution_count": 15,
      "outputs": [
        {
          "output_type": "stream",
          "text": [
            "accuracy: 86.80%\n"
          ],
          "name": "stdout"
        }
      ]
    },
    {
      "cell_type": "markdown",
      "metadata": {
        "id": "6Fyzcp79-WZG"
      },
      "source": [
        "The best model I have chosen is the one that shows a smaller difference between accuracied of different sets, in order to choose the one that overfits less. Note it doesn't correspond to the one with the best test evaluation, meaning an improvement of the model is possible.\n",
        "Also these last representations show the overfitting reduction with respect to the original model. The final results are improved even if still comparable to the first ones."
      ]
    }
  ]
}