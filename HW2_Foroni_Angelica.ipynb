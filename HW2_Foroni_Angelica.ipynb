{
  "nbformat": 4,
  "nbformat_minor": 0,
  "metadata": {
    "colab": {
      "name": "HW2.ipynb",
      "provenance": [],
      "collapsed_sections": []
    },
    "kernelspec": {
      "display_name": "Python 3",
      "name": "python3"
    }
  },
  "cells": [
    {
      "cell_type": "markdown",
      "metadata": {
        "id": "QUc9frYnVBI_"
      },
      "source": [
        "#**HW 2: Optimize and train Deep Models**\n",
        "\n",
        "In this homework, we will explore how to develop a simple Deep Neural Network for a classification problem. We will explore two common libraries: TensorFlow and Keras.\n",
        "Then we will explore how to face a well known problem that is common to encounter during the training phase: the Overfitting.\n",
        "Finally, we will study how to perform a fair model selection.\n",
        "Hint: Before starting the exercise take a look at how Tensorflow and Keras are designed.  https://keras.io/"
      ]
    },
    {
      "cell_type": "markdown",
      "metadata": {
        "id": "e-Nc7mFSVEiU"
      },
      "source": [
        "##Exercise 2.1: Image Classficiation with Tensorflow and Keras\n",
        "\n",
        "In this first exercise we will develop a 3 layers Neural Network to perfrom classification.\n",
        "\n",
        "Let's start importing the libraries we will need and setting a couple of environmental variables.\n"
      ]
    },
    {
      "cell_type": "code",
      "metadata": {
        "id": "bWn9FzneVqJo"
      },
      "source": [
        "import matplotlib as mpl\n",
        "import matplotlib.pyplot as plt\n",
        "import numpy as np\n",
        "import os\n",
        "import pandas as pd\n",
        "import sklearn\n",
        "import sys\n",
        "import tensorflow as tf\n",
        "from tensorflow import keras  # tf.keras\n",
        "import time\n",
        "\n",
        "import logging\n",
        "logging.disable(logging.WARNING)\n",
        "os.environ[\"TF_CPP_MIN_LOG_LEVEL\"] = \"3\" \n",
        "\n",
        "\n",
        "\n",
        "tf.random.set_seed(42)\n",
        "# os.environ['TF_DETERMINISTIC_OPS']='1'"
      ],
      "execution_count": 1,
      "outputs": []
    },
    {
      "cell_type": "markdown",
      "metadata": {
        "id": "LT2HMYDEXcx0"
      },
      "source": [
        "### Load Data: IMDB dataset\n",
        "\n",
        "In this HW, we use the IMDB dataset that can be easily downloaded using Keras. The dataset contains 50,000 movie reviews from IMDB, labeled by sentiment (positive/negative). Reviews have been preprocessed, and each review is encoded as a sequence of word indexes. For convenience, the words are indexed by the overall frequency in the dataset, so that for example the integer \"3\" encodes the 3rd most frequent word in the data. For testing purposes, we will only consider the first 10,000  most common words.\n",
        "By default, the load_data method returns a breakdown of the dataset into training and test sets. Both these sets contain 25,000 samples. To also have a validation set, we split the test set in half.\n",
        "\n"
      ]
    },
    {
      "cell_type": "code",
      "metadata": {
        "id": "JZv86gBLXj-D",
        "colab": {
          "base_uri": "https://localhost:8080/"
        },
        "outputId": "e26c8733-8fe8-438b-ca01-9350cc17b40d"
      },
      "source": [
        "num_words = 1000\n",
        "(X_train, y_train), (X_test, y_test) = keras.datasets.imdb.load_data(num_words=num_words)\n",
        "(X_valid, X_test) = X_test[:12500], X_test[12500:]\n",
        "(y_valid, y_test) = y_test[:12500], y_test[12500:]"
      ],
      "execution_count": 2,
      "outputs": [
        {
          "output_type": "stream",
          "text": [
            "Downloading data from https://storage.googleapis.com/tensorflow/tf-keras-datasets/imdb.npz\n",
            "17465344/17464789 [==============================] - 0s 0us/step\n"
          ],
          "name": "stdout"
        },
        {
          "output_type": "stream",
          "text": [
            "<string>:6: VisibleDeprecationWarning: Creating an ndarray from ragged nested sequences (which is a list-or-tuple of lists-or-tuples-or ndarrays with different lengths or shapes) is deprecated. If you meant to do this, you must specify 'dtype=object' when creating the ndarray\n",
            "/usr/local/lib/python3.7/dist-packages/tensorflow/python/keras/datasets/imdb.py:159: VisibleDeprecationWarning: Creating an ndarray from ragged nested sequences (which is a list-or-tuple of lists-or-tuples-or ndarrays with different lengths or shapes) is deprecated. If you meant to do this, you must specify 'dtype=object' when creating the ndarray\n",
            "  x_train, y_train = np.array(xs[:idx]), np.array(labels[:idx])\n",
            "/usr/local/lib/python3.7/dist-packages/tensorflow/python/keras/datasets/imdb.py:160: VisibleDeprecationWarning: Creating an ndarray from ragged nested sequences (which is a list-or-tuple of lists-or-tuples-or ndarrays with different lengths or shapes) is deprecated. If you meant to do this, you must specify 'dtype=object' when creating the ndarray\n",
            "  x_test, y_test = np.array(xs[idx:]), np.array(labels[idx:])\n"
          ],
          "name": "stderr"
        }
      ]
    },
    {
      "cell_type": "markdown",
      "metadata": {
        "id": "TEZHVHpuPdQF"
      },
      "source": [
        "In this HW we will consider a Deep Neural Network. The IMDB data consists in reviews, each one composed by a seqeunce of words. In order to encode each review in a single tensor with a fixed number of elements, we will use multi-hot encoding. Multi-hot-encoding our lists means turning them into vectors of 0s and 1s. Concretely, this would mean for instance turning the sequence [3, 5] into a 10,000-dimensional vector that would be all-zeros except for indices 3 and 5, which would be ones. The obtained input representation indicates which words are present (at least one time) in the sentence.\n",
        "\n",
        " "
      ]
    },
    {
      "cell_type": "code",
      "metadata": {
        "id": "hxE9DhiFPP0T"
      },
      "source": [
        "def multi_hot_encoder(dataset, num_word):\n",
        "  dataset_multi_hot=[]\n",
        "  for sequence in dataset:\n",
        "    index, _ = tf.unique(sequence)\n",
        "    dataset_multi_hot.append(tf.reduce_max(tf.one_hot(index-1, num_word, dtype=tf.int32), axis=0))\n",
        "  dataset_multi_hot = tf.stack(dataset_multi_hot)\n",
        "  return dataset_multi_hot\n",
        "\n",
        "X_train = multi_hot_encoder(X_train,num_words)\n",
        "X_test = multi_hot_encoder(X_test,num_words)\n",
        "X_valid = multi_hot_encoder(X_valid,num_words)"
      ],
      "execution_count": 3,
      "outputs": []
    },
    {
      "cell_type": "markdown",
      "metadata": {
        "id": "jGUg8TexZMNf"
      },
      "source": [
        "### Define the model:\n",
        "\n",
        "Let's build a Sequential model (keras.models.Sequential) and add four layers to it by calling its add() method:\n",
        "\n",
        "\n",
        "*   a input layer (tf.keras.Input) that is the first layer in your model. With this layer you should specify the input_shape argument, leaving out the batch size: (num_words,);\n",
        "*  a Dense layer (keras.layers.Dense) with 16 neurons, and the \"relu\" activation function;\n",
        "* another Dense layer with 16 neurons, also with the \"relu\" activation function;\n",
        "* a final Dense layer with 1 output neurons, and with the \"sigmoid\" activation (since we considering a binary classification task)."
      ]
    },
    {
      "cell_type": "code",
      "metadata": {
        "id": "OaoEISyaZL56"
      },
      "source": [
        "model = keras.models.Sequential()\n",
        "model.add(tf.keras.Input(shape=(num_words,)))\n",
        "model.add(keras.layers.Dense(16, activation=\"relu\"))\n",
        "model.add(keras.layers.Dense(16, activation=\"relu\"))\n",
        "model.add(keras.layers.Dense(1, activation=\"sigmoid\"))\n",
        "\n"
      ],
      "execution_count": 4,
      "outputs": []
    },
    {
      "cell_type": "markdown",
      "metadata": {
        "id": "fYfxUOQVZljh"
      },
      "source": [
        "Call the model's summary() method to check if the model has been built correctly. Also, try using keras.utils.plot_model() to save an image of your model's architecture."
      ]
    },
    {
      "cell_type": "code",
      "metadata": {
        "id": "IpGkQl5dZoWq",
        "colab": {
          "base_uri": "https://localhost:8080/"
        },
        "outputId": "c9709f62-2097-4c5d-d36f-c0eddacf65be"
      },
      "source": [
        "model.summary()"
      ],
      "execution_count": 5,
      "outputs": [
        {
          "output_type": "stream",
          "text": [
            "Model: \"sequential\"\n",
            "_________________________________________________________________\n",
            "Layer (type)                 Output Shape              Param #   \n",
            "=================================================================\n",
            "dense (Dense)                (None, 16)                16016     \n",
            "_________________________________________________________________\n",
            "dense_1 (Dense)              (None, 16)                272       \n",
            "_________________________________________________________________\n",
            "dense_2 (Dense)              (None, 1)                 17        \n",
            "=================================================================\n",
            "Total params: 16,305\n",
            "Trainable params: 16,305\n",
            "Non-trainable params: 0\n",
            "_________________________________________________________________\n"
          ],
          "name": "stdout"
        }
      ]
    },
    {
      "cell_type": "code",
      "metadata": {
        "id": "b1NbkrXRZwOA",
        "colab": {
          "base_uri": "https://localhost:8080/",
          "height": 422
        },
        "outputId": "cc191dac-e5b7-4be6-af7f-cd7d89698136"
      },
      "source": [
        "keras.utils.plot_model(model, \"my_imdb_model.png\", show_shapes=True)"
      ],
      "execution_count": 6,
      "outputs": [
        {
          "output_type": "execute_result",
          "data": {
            "image/png": "[encoded data removed]",
            "text/plain": [
              "<IPython.core.display.Image object>"
            ]
          },
          "metadata": {
            "tags": []
          },
          "execution_count": 6
        }
      ]
    },
    {
      "cell_type": "markdown",
      "metadata": {
        "id": "Mc3xzuA-33WH"
      },
      "source": [
        "As you can see, the first dimension of each layer is not defined (?), indeed this dimension in each layer is variable and depends on the batch size."
      ]
    },
    {
      "cell_type": "markdown",
      "metadata": {
        "id": "6FAjFixuHSA_"
      },
      "source": [
        "Instaed of using *add()* method it is also possibile to define the model using the following syntax"
      ]
    },
    {
      "cell_type": "code",
      "metadata": {
        "id": "yOhr57M9GPHy",
        "colab": {
          "base_uri": "https://localhost:8080/",
          "height": 658
        },
        "outputId": "64299c46-4aea-42e6-ad0c-53a82052a7c6"
      },
      "source": [
        "model = keras.models.Sequential([\n",
        "    tf.keras.Input(shape=(num_words,)),\n",
        "    keras.layers.Dense(16, activation=\"relu\"),\n",
        "    keras.layers.Dense(16, activation=\"relu\"),\n",
        "    keras.layers.Dense(1, activation=\"sigmoid\")\n",
        "])\n",
        "model.summary()\n",
        "keras.utils.plot_model(model, \"my_imdb_model.png\", show_shapes=True)"
      ],
      "execution_count": 7,
      "outputs": [
        {
          "output_type": "stream",
          "text": [
            "Model: \"sequential_1\"\n",
            "_________________________________________________________________\n",
            "Layer (type)                 Output Shape              Param #   \n",
            "=================================================================\n",
            "dense_3 (Dense)              (None, 16)                16016     \n",
            "_________________________________________________________________\n",
            "dense_4 (Dense)              (None, 16)                272       \n",
            "_________________________________________________________________\n",
            "dense_5 (Dense)              (None, 1)                 17        \n",
            "=================================================================\n",
            "Total params: 16,305\n",
            "Trainable params: 16,305\n",
            "Non-trainable params: 0\n",
            "_________________________________________________________________\n"
          ],
          "name": "stdout"
        },
        {
          "output_type": "execute_result",
          "data": {
            "image/png": "[encoded data removed]",
            "text/plain": [
              "<IPython.core.display.Image object>"
            ]
          },
          "metadata": {
            "tags": []
          },
          "execution_count": 7
        }
      ]
    },
    {
      "cell_type": "markdown",
      "metadata": {
        "id": "2ySdJmzxaSuz"
      },
      "source": [
        "### Optimize the model:\n",
        "\n",
        "After the model has been created, you must call its compile() method to specify the loss function and the optimizer to use.\n",
        "\n",
        "Since the model performs a binary classification task, we use the bynary cross-entropy as loss. As optimizer we use Adam.\n",
        "\n",
        "Moreover, you can optionally specify a list of additional metrics that should be measured during training. In this case we specify metrics=[\"accuracy\"]."
      ]
    },
    {
      "cell_type": "code",
      "metadata": {
        "id": "x3bbsY3uaeh5"
      },
      "source": [
        "model.compile(loss=\"binary_crossentropy\",\n",
        "              optimizer=keras.optimizers.Adam(learning_rate=1e-4),\n",
        "              metrics=[\"accuracy\"])"
      ],
      "execution_count": 8,
      "outputs": []
    },
    {
      "cell_type": "markdown",
      "metadata": {
        "id": "NB9SV0MpaeTg"
      },
      "source": [
        "Now our model is ready to be trained. Call its fit() method, passing to it the input features (X_train) and the target classes (y_train). Set the number of epochs to 20. \n",
        "In order to validate our model we will also pass the validation data by setting validation_data=(X_valid, y_valid). Keras will compute the loss and the additional metrics (the accuracy in this case) on the validation set at the end of each epoch. If the loss on the training set is much lower than the one on the validation set, your model is probably overfitting the training set. Note: the fit() method will return a History object containing training stats."
      ]
    },
    {
      "cell_type": "code",
      "metadata": {
        "id": "5whx-LU3aoKn",
        "colab": {
          "base_uri": "https://localhost:8080/"
        },
        "outputId": "898b2435-4dbb-4ef8-bc26-8cf3f836c86c"
      },
      "source": [
        "history = model.fit(X_train, y_train, epochs=20,\n",
        "                    validation_data=(X_valid, y_valid))"
      ],
      "execution_count": 9,
      "outputs": [
        {
          "output_type": "stream",
          "text": [
            "Epoch 1/20\n",
            "782/782 [==============================] - 3s 3ms/step - loss: 0.6691 - accuracy: 0.5917 - val_loss: 0.5086 - val_accuracy: 0.7899\n",
            "Epoch 2/20\n",
            "782/782 [==============================] - 1s 2ms/step - loss: 0.4609 - accuracy: 0.8105 - val_loss: 0.3856 - val_accuracy: 0.8406\n",
            "Epoch 3/20\n",
            "782/782 [==============================] - 1s 2ms/step - loss: 0.3556 - accuracy: 0.8580 - val_loss: 0.3534 - val_accuracy: 0.8515\n",
            "Epoch 4/20\n",
            "782/782 [==============================] - 1s 2ms/step - loss: 0.3298 - accuracy: 0.8647 - val_loss: 0.3407 - val_accuracy: 0.8543\n",
            "Epoch 5/20\n",
            "782/782 [==============================] - 1s 2ms/step - loss: 0.3148 - accuracy: 0.8714 - val_loss: 0.3377 - val_accuracy: 0.8555\n",
            "Epoch 6/20\n",
            "782/782 [==============================] - 1s 2ms/step - loss: 0.3055 - accuracy: 0.8712 - val_loss: 0.3344 - val_accuracy: 0.8565\n",
            "Epoch 7/20\n",
            "782/782 [==============================] - 1s 2ms/step - loss: 0.2989 - accuracy: 0.8771 - val_loss: 0.3344 - val_accuracy: 0.8562\n",
            "Epoch 8/20\n",
            "782/782 [==============================] - 1s 2ms/step - loss: 0.3030 - accuracy: 0.8742 - val_loss: 0.3344 - val_accuracy: 0.8557\n",
            "Epoch 9/20\n",
            "782/782 [==============================] - 1s 2ms/step - loss: 0.2970 - accuracy: 0.8784 - val_loss: 0.3352 - val_accuracy: 0.8549\n",
            "Epoch 10/20\n",
            "782/782 [==============================] - 2s 2ms/step - loss: 0.2928 - accuracy: 0.8781 - val_loss: 0.3355 - val_accuracy: 0.8552\n",
            "Epoch 11/20\n",
            "782/782 [==============================] - 1s 2ms/step - loss: 0.2966 - accuracy: 0.8797 - val_loss: 0.3366 - val_accuracy: 0.8539\n",
            "Epoch 12/20\n",
            "782/782 [==============================] - 1s 2ms/step - loss: 0.2865 - accuracy: 0.8849 - val_loss: 0.3373 - val_accuracy: 0.8549\n",
            "Epoch 13/20\n",
            "782/782 [==============================] - 2s 2ms/step - loss: 0.2954 - accuracy: 0.8803 - val_loss: 0.3393 - val_accuracy: 0.8543\n",
            "Epoch 14/20\n",
            "782/782 [==============================] - 1s 2ms/step - loss: 0.2856 - accuracy: 0.8837 - val_loss: 0.3387 - val_accuracy: 0.8536\n",
            "Epoch 15/20\n",
            "782/782 [==============================] - 1s 2ms/step - loss: 0.2884 - accuracy: 0.8822 - val_loss: 0.3398 - val_accuracy: 0.8538\n",
            "Epoch 16/20\n",
            "782/782 [==============================] - 1s 2ms/step - loss: 0.2878 - accuracy: 0.8806 - val_loss: 0.3405 - val_accuracy: 0.8534\n",
            "Epoch 17/20\n",
            "782/782 [==============================] - 1s 2ms/step - loss: 0.2871 - accuracy: 0.8821 - val_loss: 0.3418 - val_accuracy: 0.8546\n",
            "Epoch 18/20\n",
            "782/782 [==============================] - 1s 2ms/step - loss: 0.2822 - accuracy: 0.8861 - val_loss: 0.3427 - val_accuracy: 0.8542\n",
            "Epoch 19/20\n",
            "782/782 [==============================] - 2s 2ms/step - loss: 0.2847 - accuracy: 0.8863 - val_loss: 0.3433 - val_accuracy: 0.8526\n",
            "Epoch 20/20\n",
            "782/782 [==============================] - 1s 2ms/step - loss: 0.2792 - accuracy: 0.8863 - val_loss: 0.3445 - val_accuracy: 0.8531\n"
          ],
          "name": "stdout"
        }
      ]
    },
    {
      "cell_type": "markdown",
      "metadata": {
        "id": "EPxiw8iCADr-"
      },
      "source": [
        "Let's plot the loss and the accuracy trends on both training and validation sets. We define the \"plot_learning_acc_and_loss\" function because we will reuse it in the next steps."
      ]
    },
    {
      "cell_type": "code",
      "metadata": {
        "id": "AJg-F7mUa7st",
        "colab": {
          "base_uri": "https://localhost:8080/",
          "height": 320
        },
        "outputId": "bb1b9dfd-603e-418e-e388-68f3e2aeb9c8"
      },
      "source": [
        "def plot_learning_acc_and_loss(history):\n",
        "    pd.DataFrame(history.history).plot(figsize=(8, 5))\n",
        "    plt.grid(True)\n",
        "    plt.show()\n",
        "plot_learning_acc_and_loss(history)"
      ],
      "execution_count": 10,
      "outputs": [
        {
          "output_type": "display_data",
          "data": {
            "image/png": "[encoded data removed]",
            "text/plain": [
              "<Figure size 576x360 with 1 Axes>"
            ]
          },
          "metadata": {
            "tags": [],
            "needs_background": "light"
          }
        }
      ]
    },
    {
      "cell_type": "markdown",
      "metadata": {
        "id": "9O3-sLmxansJ"
      },
      "source": [
        "### Evaluate the model:\n",
        "\n",
        "Now, our model has been optimized on the training set, and as you can see the performance on the validation set in quite similar (so it does not overfit the training data). Let's now evaluate the performance of our model using the test set."
      ]
    },
    {
      "cell_type": "code",
      "metadata": {
        "id": "q-ZvJEcObdyB",
        "colab": {
          "base_uri": "https://localhost:8080/"
        },
        "outputId": "c2849d68-044c-42c6-c1e0-f19b51fc3bbc"
      },
      "source": [
        "model.evaluate(X_test, y_test)"
      ],
      "execution_count": 11,
      "outputs": [
        {
          "output_type": "stream",
          "text": [
            "391/391 [==============================] - 0s 1ms/step - loss: 0.3227 - accuracy: 0.8662\n"
          ],
          "name": "stdout"
        },
        {
          "output_type": "execute_result",
          "data": {
            "text/plain": [
              "[0.32265689969062805, 0.8662400245666504]"
            ]
          },
          "metadata": {
            "tags": []
          },
          "execution_count": 11
        }
      ]
    },
    {
      "cell_type": "markdown",
      "metadata": {
        "id": "KTSxlnwrII-n"
      },
      "source": [
        "Why is it important to use test and validation, and why is it important to evaluate the model on the test set instead of the validation set? which is the usefulness of the validation set?\n",
        "\n",
        "\n",
        "Validation and test set are important in order to find the best model wich is not overfitting the training set (without them it woudn't be possible to achieve using only the training set since the lowest error on it would correspond to an overfitted model). In order to obtain this result we train on the training set the same algorithm with different hyper-parameters, the validation set is used to pick the best hypotesis among the considered ones, instead the test set is used to estimate the true risk and it is not involved in the choice of the best hypothesis. For this reason it is a valid evaluation of the true error that the validation set would not be able to give.\n",
        "\n"
      ]
    },
    {
      "cell_type": "markdown",
      "metadata": {
        "id": "aeGlzKe864Gq"
      },
      "source": [
        "## Exercise 2.2: Overfiting\n",
        "\n",
        "A common problem that occurs when you train a deep neural network is overfittig. Overfitting occurs when you achieve a good fit of your model on the training data, while it does not generalize well on new, unseen data. In other words, the model learned patterns specific to the training data, which are irrelevant in other data.\n",
        "As we have seen in the previous exercise, our model does not overfit the training data. In this exercise, we try to modify the training parameters in order to have a model that overfits.\n",
        "Overfitting can have many causes and usually is a combination of some of them, for instance: too many parameters/ layers, too few training samples, wrong learning rate (usualy too high), etc..\n",
        "\n",
        "In the next cell define a new model (similar to the previuos one) that overfits the training data; then plot the trend of the loss in training and validation set."
      ]
    },
    {
      "cell_type": "code",
      "metadata": {
        "id": "T2B2DFEC8f88",
        "colab": {
          "base_uri": "https://localhost:8080/"
        },
        "outputId": "d88b3000-da07-49fa-9b3b-4da760bfcb08"
      },
      "source": [
        "model = keras.models.Sequential()\n",
        "#modified model wich gives overfitting\n",
        "\n",
        "model.add(tf.keras.Input(shape=(num_words,)))\n",
        "model.add(keras.layers.Dense(32, activation=\"relu\"))\n",
        "model.add(keras.layers.Dense(32, activation=\"relu\"))\n",
        "model.add(keras.layers.Dense(16, activation=\"relu\"))\n",
        "model.add(keras.layers.Dense(1, activation=\"sigmoid\"))\n",
        "\n",
        "model.compile(loss=\"binary_crossentropy\",\n",
        "              optimizer=keras.optimizers.Adam(learning_rate=0.01),\n",
        "              metrics=[\"accuracy\"])\n",
        "\n",
        "history = model.fit(X_train, y_train, epochs=20,\n",
        "                    validation_data=(X_valid, y_valid))\n",
        "\n",
        "print(\"Model Evaluation\")\n",
        "model.evaluate(X_test, y_test)"
      ],
      "execution_count": 12,
      "outputs": [
        {
          "output_type": "stream",
          "text": [
            "Epoch 1/20\n",
            "782/782 [==============================] - 2s 2ms/step - loss: 0.4176 - accuracy: 0.8047 - val_loss: 0.3383 - val_accuracy: 0.8454\n",
            "Epoch 2/20\n",
            "782/782 [==============================] - 2s 2ms/step - loss: 0.3214 - accuracy: 0.8587 - val_loss: 0.3377 - val_accuracy: 0.8481\n",
            "Epoch 3/20\n",
            "782/782 [==============================] - 2s 2ms/step - loss: 0.2831 - accuracy: 0.8784 - val_loss: 0.3605 - val_accuracy: 0.8474\n",
            "Epoch 4/20\n",
            "782/782 [==============================] - 2s 2ms/step - loss: 0.2713 - accuracy: 0.8814 - val_loss: 0.3627 - val_accuracy: 0.8470\n",
            "Epoch 5/20\n",
            "782/782 [==============================] - 2s 2ms/step - loss: 0.2469 - accuracy: 0.8973 - val_loss: 0.3754 - val_accuracy: 0.8485\n",
            "Epoch 6/20\n",
            "782/782 [==============================] - 2s 2ms/step - loss: 0.2235 - accuracy: 0.9063 - val_loss: 0.3747 - val_accuracy: 0.8430\n",
            "Epoch 7/20\n",
            "782/782 [==============================] - 2s 2ms/step - loss: 0.2066 - accuracy: 0.9145 - val_loss: 0.4218 - val_accuracy: 0.8393\n",
            "Epoch 8/20\n",
            "782/782 [==============================] - 2s 2ms/step - loss: 0.1902 - accuracy: 0.9224 - val_loss: 0.4596 - val_accuracy: 0.8356\n",
            "Epoch 9/20\n",
            "782/782 [==============================] - 2s 2ms/step - loss: 0.1651 - accuracy: 0.9340 - val_loss: 0.5151 - val_accuracy: 0.8319\n",
            "Epoch 10/20\n",
            "782/782 [==============================] - 2s 2ms/step - loss: 0.1515 - accuracy: 0.9404 - val_loss: 0.5282 - val_accuracy: 0.8329\n",
            "Epoch 11/20\n",
            "782/782 [==============================] - 2s 2ms/step - loss: 0.1406 - accuracy: 0.9454 - val_loss: 0.5679 - val_accuracy: 0.8325\n",
            "Epoch 12/20\n",
            "782/782 [==============================] - 2s 2ms/step - loss: 0.1273 - accuracy: 0.9510 - val_loss: 0.6334 - val_accuracy: 0.8261\n",
            "Epoch 13/20\n",
            "782/782 [==============================] - 2s 2ms/step - loss: 0.1244 - accuracy: 0.9553 - val_loss: 0.6797 - val_accuracy: 0.8292\n",
            "Epoch 14/20\n",
            "782/782 [==============================] - 2s 2ms/step - loss: 0.1130 - accuracy: 0.9572 - val_loss: 0.6932 - val_accuracy: 0.8252\n",
            "Epoch 15/20\n",
            "782/782 [==============================] - 2s 2ms/step - loss: 0.1070 - accuracy: 0.9605 - val_loss: 0.7180 - val_accuracy: 0.8232\n",
            "Epoch 16/20\n",
            "782/782 [==============================] - 2s 2ms/step - loss: 0.1039 - accuracy: 0.9595 - val_loss: 0.6657 - val_accuracy: 0.8252\n",
            "Epoch 17/20\n",
            "782/782 [==============================] - 2s 2ms/step - loss: 0.0943 - accuracy: 0.9642 - val_loss: 0.7696 - val_accuracy: 0.8235\n",
            "Epoch 18/20\n",
            "782/782 [==============================] - 2s 2ms/step - loss: 0.0860 - accuracy: 0.9684 - val_loss: 0.8323 - val_accuracy: 0.8214\n",
            "Epoch 19/20\n",
            "782/782 [==============================] - 2s 2ms/step - loss: 0.0822 - accuracy: 0.9696 - val_loss: 0.8529 - val_accuracy: 0.8213\n",
            "Epoch 20/20\n",
            "782/782 [==============================] - 2s 2ms/step - loss: 0.0808 - accuracy: 0.9703 - val_loss: 0.7766 - val_accuracy: 0.8193\n",
            "Model Evaluation\n",
            "391/391 [==============================] - 0s 986us/step - loss: 0.7480 - accuracy: 0.8235\n"
          ],
          "name": "stdout"
        },
        {
          "output_type": "execute_result",
          "data": {
            "text/plain": [
              "[0.7479862570762634, 0.8235200047492981]"
            ]
          },
          "metadata": {
            "tags": []
          },
          "execution_count": 12
        }
      ]
    },
    {
      "cell_type": "markdown",
      "metadata": {
        "id": "LDH-4uYXz5tr"
      },
      "source": [
        "In order to obtain overfitting the following modifications on the model are made:\n",
        "\n",
        "\n",
        "1.   learning rate increase (multiplying it by 10)\n",
        "2.   number of layer increased (on added)\n",
        "3.   number of neurons increased in the hidden layers (so also the number of parameter, thus the model complexity)\n",
        "\n"
      ]
    },
    {
      "cell_type": "markdown",
      "metadata": {
        "id": "MS0fujEqh_m3"
      },
      "source": [
        "Define the plot_learning_curves function that plots inly the losses (not the accuracy)."
      ]
    },
    {
      "cell_type": "code",
      "metadata": {
        "id": "q5EsklC0DZYH",
        "colab": {
          "base_uri": "https://localhost:8080/",
          "height": 336
        },
        "outputId": "c9ac29fe-3f70-4e9d-9f3c-5bb1c2719ea6"
      },
      "source": [
        "def plot_learning_curves(history):\n",
        "    plt.figure(figsize=(8, 5))\n",
        "    plt.plot(history.epoch,history.history['loss'], label='train loss')\n",
        "    plt.plot(history.epoch,history.history['val_loss'], label='valid loss')\n",
        "    plt.legend()\n",
        "    plt.title('loss')\n",
        "    plt.grid(True)\n",
        "    plt.show()\n",
        "plot_learning_curves(history)"
      ],
      "execution_count": 13,
      "outputs": [
        {
          "output_type": "display_data",
          "data": {
            "image/png": "[encoded data removed]",
            "text/plain": [
              "<Figure size 576x360 with 1 Axes>"
            ]
          },
          "metadata": {
            "tags": [],
            "needs_background": "light"
          }
        }
      ]
    },
    {
      "cell_type": "markdown",
      "metadata": {
        "id": "zoOX96Ds0rRL"
      },
      "source": [
        "Here we can easily see the occurence of overfitting: the training loss decrease but at the same time the validation loss increases, meaning the model is learning patterns from the training set that are not meaningful in order to predict the target."
      ]
    },
    {
      "cell_type": "markdown",
      "metadata": {
        "id": "OW4Kf4fgDfOs"
      },
      "source": [
        "### L1 norm\n",
        "\n",
        "One possible way to solve the overitting issue is by using regularization methods. The two most common regularization methods in Deep Learning are the L1-norm regularization and the L2-norm regularization. Both These techniques are based on limiting the capacity of models, by adding a parameter norm penalty to the objective function $\\mathcal{J}$:\n",
        "$$\n",
        "\\hat{\\mathcal{J}}(\\theta,\\mathbf{X},\\mathbf{y}) = \\mathcal{J}(\\theta,\\mathbf{X},\\mathbf{y}) + \\alpha \\Omega(\\theta)\n",
        "$$\n",
        "where $\\alpha$ is a hyperparameter that weighs the relative contribution of the norm penalty $\\Omega$.\n",
        "Lets start by considering the L1-norm regularization where the regularization term is defined as:\n",
        "$$\n",
        " \\Omega(\\theta)=||\\mathbf{W}||_1=\\sum_i |\\mathbf{w}|\n",
        "$$\n",
        "Let's find the values for the $\\alpha$ parameters that allow to remove the overfitting effect."
      ]
    },
    {
      "cell_type": "code",
      "metadata": {
        "id": "QzD8520dDgw3",
        "colab": {
          "base_uri": "https://localhost:8080/",
          "height": 1000
        },
        "outputId": "c85acea3-9483-4251-8de3-6afa080d169a"
      },
      "source": [
        "#In Keras is neccesary to add the regularizer by using the attribute kernel_regularizer\n",
        "#to each layer whose weights will be considered in the Omega function.\n",
        "#is it also possibile to consider the bias by using the attribute bias_regularizer \n",
        "#tf.keras.regularizers.l1(alpha) perfroms the L1-norm regularization\n",
        "\n",
        "#[TO COMPLETE] copy the model that you previously defined that overfits the \n",
        "#trainnig data, and add the L1-norm regularization. Use a proper value for the\n",
        "#alpha hyper-parameter, that prevents the model from overfitting. The results  \n",
        "#reached by the model in terms of loss and accuracy (in all data sets) should be\n",
        "#comparable with the ones obtained by the initial model defined in Exercise 2.1 \n",
        "\n",
        "#In general, a layer that exploits L1-norm regularization is defined as follows:\n",
        "\n",
        "#model.add(keras.layers.Dense(units=[TO COMPLETE], activation=[TO COMPLETE], kernel_regularizer=tf.keras.regularizers.l1([TO COMPLETE]))) \n",
        "from tensorflow.keras import regularizers\n",
        "\n",
        "model = keras.models.Sequential()\n",
        "\n",
        "model.add(tf.keras.Input(shape=(num_words,)))\n",
        "model.add(keras.layers.Dense(units=32, activation=\"relu\", kernel_regularizer=regularizers.l1(0.001)))\n",
        "model.add(keras.layers.Dense(units=32, activation=\"relu\", kernel_regularizer=regularizers.l1(0.001)))\n",
        "model.add(keras.layers.Dense(units=16, activation=\"relu\", kernel_regularizer=regularizers.l1(0.001)))\n",
        "model.add(keras.layers.Dense(units=1, activation=\"sigmoid\"))\n",
        "\n",
        "model.compile(loss=\"binary_crossentropy\",\n",
        "              optimizer=keras.optimizers.Adam(learning_rate=0.0005),\n",
        "              metrics=[\"accuracy\"])\n",
        "\n",
        "history = model.fit(X_train, y_train, epochs=40,\n",
        "                    validation_data=(X_valid, y_valid))\n",
        "\n",
        "print(\"Model Evaluation\")\n",
        "model.evaluate(X_test, y_test)\n",
        "plot_learning_curves(history)"
      ],
      "execution_count": 14,
      "outputs": [
        {
          "output_type": "stream",
          "text": [
            "Epoch 1/40\n",
            "782/782 [==============================] - 3s 2ms/step - loss: 1.2291 - accuracy: 0.7336 - val_loss: 0.5865 - val_accuracy: 0.8509\n",
            "Epoch 2/40\n",
            "782/782 [==============================] - 2s 2ms/step - loss: 0.5657 - accuracy: 0.8521 - val_loss: 0.5261 - val_accuracy: 0.8506\n",
            "Epoch 3/40\n",
            "782/782 [==============================] - 2s 2ms/step - loss: 0.5003 - accuracy: 0.8632 - val_loss: 0.5029 - val_accuracy: 0.8464\n",
            "Epoch 4/40\n",
            "782/782 [==============================] - 2s 2ms/step - loss: 0.4754 - accuracy: 0.8598 - val_loss: 0.4892 - val_accuracy: 0.8442\n",
            "Epoch 5/40\n",
            "782/782 [==============================] - 2s 2ms/step - loss: 0.4526 - accuracy: 0.8633 - val_loss: 0.4701 - val_accuracy: 0.8464\n",
            "Epoch 6/40\n",
            "782/782 [==============================] - 2s 2ms/step - loss: 0.4378 - accuracy: 0.8643 - val_loss: 0.4439 - val_accuracy: 0.8535\n",
            "Epoch 7/40\n",
            "782/782 [==============================] - 2s 2ms/step - loss: 0.4164 - accuracy: 0.8712 - val_loss: 0.4369 - val_accuracy: 0.8541\n",
            "Epoch 8/40\n",
            "782/782 [==============================] - 2s 2ms/step - loss: 0.4145 - accuracy: 0.8685 - val_loss: 0.4257 - val_accuracy: 0.8546\n",
            "Epoch 9/40\n",
            "782/782 [==============================] - 2s 2ms/step - loss: 0.3991 - accuracy: 0.8720 - val_loss: 0.4215 - val_accuracy: 0.8562\n",
            "Epoch 10/40\n",
            "782/782 [==============================] - 2s 2ms/step - loss: 0.3931 - accuracy: 0.8719 - val_loss: 0.4217 - val_accuracy: 0.8538\n",
            "Epoch 11/40\n",
            "782/782 [==============================] - 2s 2ms/step - loss: 0.3936 - accuracy: 0.8702 - val_loss: 0.4162 - val_accuracy: 0.8549\n",
            "Epoch 12/40\n",
            "782/782 [==============================] - 2s 2ms/step - loss: 0.3798 - accuracy: 0.8780 - val_loss: 0.4171 - val_accuracy: 0.8514\n",
            "Epoch 13/40\n",
            "782/782 [==============================] - 2s 2ms/step - loss: 0.3880 - accuracy: 0.8710 - val_loss: 0.4114 - val_accuracy: 0.8544\n",
            "Epoch 14/40\n",
            "782/782 [==============================] - 2s 2ms/step - loss: 0.3776 - accuracy: 0.8750 - val_loss: 0.4132 - val_accuracy: 0.8507\n",
            "Epoch 15/40\n",
            "782/782 [==============================] - 2s 2ms/step - loss: 0.3812 - accuracy: 0.8712 - val_loss: 0.4062 - val_accuracy: 0.8546\n",
            "Epoch 16/40\n",
            "782/782 [==============================] - 2s 2ms/step - loss: 0.3776 - accuracy: 0.8733 - val_loss: 0.4080 - val_accuracy: 0.8532\n",
            "Epoch 17/40\n",
            "782/782 [==============================] - 2s 2ms/step - loss: 0.3784 - accuracy: 0.8705 - val_loss: 0.4062 - val_accuracy: 0.8548\n",
            "Epoch 18/40\n",
            "782/782 [==============================] - 2s 2ms/step - loss: 0.3747 - accuracy: 0.8706 - val_loss: 0.4045 - val_accuracy: 0.8526\n",
            "Epoch 19/40\n",
            "782/782 [==============================] - 2s 2ms/step - loss: 0.3758 - accuracy: 0.8721 - val_loss: 0.4006 - val_accuracy: 0.8546\n",
            "Epoch 20/40\n",
            "782/782 [==============================] - 2s 2ms/step - loss: 0.3703 - accuracy: 0.8755 - val_loss: 0.4055 - val_accuracy: 0.8534\n",
            "Epoch 21/40\n",
            "782/782 [==============================] - 2s 2ms/step - loss: 0.3717 - accuracy: 0.8757 - val_loss: 0.4027 - val_accuracy: 0.8516\n",
            "Epoch 22/40\n",
            "782/782 [==============================] - 2s 2ms/step - loss: 0.3718 - accuracy: 0.8708 - val_loss: 0.3991 - val_accuracy: 0.8554\n",
            "Epoch 23/40\n",
            "782/782 [==============================] - 2s 2ms/step - loss: 0.3642 - accuracy: 0.8770 - val_loss: 0.4013 - val_accuracy: 0.8547\n",
            "Epoch 24/40\n",
            "782/782 [==============================] - 2s 2ms/step - loss: 0.3648 - accuracy: 0.8733 - val_loss: 0.4001 - val_accuracy: 0.8530\n",
            "Epoch 25/40\n",
            "782/782 [==============================] - 2s 2ms/step - loss: 0.3621 - accuracy: 0.8753 - val_loss: 0.3981 - val_accuracy: 0.8526\n",
            "Epoch 26/40\n",
            "782/782 [==============================] - 2s 2ms/step - loss: 0.3662 - accuracy: 0.8765 - val_loss: 0.4092 - val_accuracy: 0.8494\n",
            "Epoch 27/40\n",
            "782/782 [==============================] - 2s 2ms/step - loss: 0.3653 - accuracy: 0.8729 - val_loss: 0.3995 - val_accuracy: 0.8520\n",
            "Epoch 28/40\n",
            "782/782 [==============================] - 2s 2ms/step - loss: 0.3580 - accuracy: 0.8790 - val_loss: 0.4002 - val_accuracy: 0.8527\n",
            "Epoch 29/40\n",
            "782/782 [==============================] - 2s 2ms/step - loss: 0.3588 - accuracy: 0.8762 - val_loss: 0.3972 - val_accuracy: 0.8553\n",
            "Epoch 30/40\n",
            "782/782 [==============================] - 2s 2ms/step - loss: 0.3604 - accuracy: 0.8794 - val_loss: 0.4038 - val_accuracy: 0.8513\n",
            "Epoch 31/40\n",
            "782/782 [==============================] - 2s 2ms/step - loss: 0.3582 - accuracy: 0.8764 - val_loss: 0.3965 - val_accuracy: 0.8550\n",
            "Epoch 32/40\n",
            "782/782 [==============================] - 2s 2ms/step - loss: 0.3618 - accuracy: 0.8792 - val_loss: 0.3953 - val_accuracy: 0.8548\n",
            "Epoch 33/40\n",
            "782/782 [==============================] - 2s 2ms/step - loss: 0.3571 - accuracy: 0.8782 - val_loss: 0.3987 - val_accuracy: 0.8529\n",
            "Epoch 34/40\n",
            "782/782 [==============================] - 2s 2ms/step - loss: 0.3622 - accuracy: 0.8745 - val_loss: 0.4075 - val_accuracy: 0.8486\n",
            "Epoch 35/40\n",
            "782/782 [==============================] - 2s 2ms/step - loss: 0.3525 - accuracy: 0.8791 - val_loss: 0.4015 - val_accuracy: 0.8517\n",
            "Epoch 36/40\n",
            "782/782 [==============================] - 2s 2ms/step - loss: 0.3627 - accuracy: 0.8747 - val_loss: 0.3989 - val_accuracy: 0.8538\n",
            "Epoch 37/40\n",
            "782/782 [==============================] - 2s 2ms/step - loss: 0.3560 - accuracy: 0.8770 - val_loss: 0.4034 - val_accuracy: 0.8509\n",
            "Epoch 38/40\n",
            "782/782 [==============================] - 2s 2ms/step - loss: 0.3521 - accuracy: 0.8786 - val_loss: 0.4023 - val_accuracy: 0.8510\n",
            "Epoch 39/40\n",
            "782/782 [==============================] - 2s 2ms/step - loss: 0.3585 - accuracy: 0.8766 - val_loss: 0.4010 - val_accuracy: 0.8532\n",
            "Epoch 40/40\n",
            "782/782 [==============================] - 2s 2ms/step - loss: 0.3515 - accuracy: 0.8797 - val_loss: 0.4013 - val_accuracy: 0.8524\n",
            "Model Evaluation\n",
            "391/391 [==============================] - 0s 1ms/step - loss: 0.3813 - accuracy: 0.8617\n"
          ],
          "name": "stdout"
        },
        {
          "output_type": "display_data",
          "data": {
            "image/png": "[encoded data removed]",
            "text/plain": [
              "<Figure size 576x360 with 1 Axes>"
            ]
          },
          "metadata": {
            "tags": [],
            "needs_background": "light"
          }
        }
      ]
    },
    {
      "cell_type": "markdown",
      "metadata": {
        "id": "CgnCGYUvDqbC"
      },
      "source": [
        "### L2-norm\n",
        "\n",
        "L2-norm regularization is also known as weight decay. This strategy drives the weights closer to the origin by adding the regularization term omega which is defined as:\n",
        "$$\n",
        " \\Omega(\\theta)=\\frac{1}{2}||\\mathbf{W}||_2^2\n",
        "$$\n",
        "\n",
        "Let's find the values for the $\\alpha$ parameters that allow removing remove the overfitting effect with L2-norm."
      ]
    },
    {
      "cell_type": "code",
      "metadata": {
        "id": "qqNhu350DtJo",
        "colab": {
          "base_uri": "https://localhost:8080/",
          "height": 1000
        },
        "outputId": "fb054fb9-c234-44a2-b08a-5ea06415b8e1"
      },
      "source": [
        "model = keras.models.Sequential()\n",
        "model.add(tf.keras.Input(shape=(num_words,)))\n",
        "model.add(keras.layers.Dense(32, activation=\"relu\", kernel_regularizer=tf.keras.regularizers.l2(0.01)))\n",
        "model.add(keras.layers.Dense(32, activation=\"relu\", kernel_regularizer=tf.keras.regularizers.l2(0.01)))\n",
        "model.add(keras.layers.Dense(16, activation=\"relu\", kernel_regularizer=tf.keras.regularizers.l2(0.01)))\n",
        "model.add(keras.layers.Dense(1, activation=\"sigmoid\"))\n",
        "\n",
        "\n",
        "model.compile(loss=\"binary_crossentropy\",\n",
        "              optimizer=keras.optimizers.Adam(learning_rate=0.0001),\n",
        "              metrics=[\"accuracy\"])\n",
        "\n",
        "history = model.fit(X_train, y_train, epochs=30,\n",
        "                    validation_data=(X_valid, y_valid))\n",
        "\n",
        "print(\"Model Evaluation\")\n",
        "model.evaluate(X_test, y_test)\n",
        "plot_learning_curves(history)"
      ],
      "execution_count": 25,
      "outputs": [
        {
          "output_type": "stream",
          "text": [
            "Epoch 1/30\n",
            "782/782 [==============================] - 3s 2ms/step - loss: 1.5894 - accuracy: 0.6415 - val_loss: 1.0097 - val_accuracy: 0.8282\n",
            "Epoch 2/30\n",
            "782/782 [==============================] - 2s 2ms/step - loss: 0.9180 - accuracy: 0.8468 - val_loss: 0.7606 - val_accuracy: 0.8482\n",
            "Epoch 3/30\n",
            "782/782 [==============================] - 2s 2ms/step - loss: 0.7000 - accuracy: 0.8683 - val_loss: 0.6495 - val_accuracy: 0.8506\n",
            "Epoch 4/30\n",
            "782/782 [==============================] - 2s 2ms/step - loss: 0.6056 - accuracy: 0.8666 - val_loss: 0.5925 - val_accuracy: 0.8478\n",
            "Epoch 5/30\n",
            "782/782 [==============================] - 2s 2ms/step - loss: 0.5468 - accuracy: 0.8729 - val_loss: 0.5448 - val_accuracy: 0.8554\n",
            "Epoch 6/30\n",
            "782/782 [==============================] - 2s 2ms/step - loss: 0.5092 - accuracy: 0.8719 - val_loss: 0.5184 - val_accuracy: 0.8572\n",
            "Epoch 7/30\n",
            "782/782 [==============================] - 2s 2ms/step - loss: 0.4841 - accuracy: 0.8752 - val_loss: 0.5063 - val_accuracy: 0.8518\n",
            "Epoch 8/30\n",
            "782/782 [==============================] - 2s 2ms/step - loss: 0.4738 - accuracy: 0.8722 - val_loss: 0.4869 - val_accuracy: 0.8578\n",
            "Epoch 9/30\n",
            "782/782 [==============================] - 2s 2ms/step - loss: 0.4565 - accuracy: 0.8729 - val_loss: 0.4764 - val_accuracy: 0.8579\n",
            "Epoch 10/30\n",
            "782/782 [==============================] - 2s 2ms/step - loss: 0.4449 - accuracy: 0.8711 - val_loss: 0.4665 - val_accuracy: 0.8570\n",
            "Epoch 11/30\n",
            "782/782 [==============================] - 2s 2ms/step - loss: 0.4392 - accuracy: 0.8724 - val_loss: 0.4594 - val_accuracy: 0.8556\n",
            "Epoch 12/30\n",
            "782/782 [==============================] - 2s 2ms/step - loss: 0.4252 - accuracy: 0.8773 - val_loss: 0.4527 - val_accuracy: 0.8561\n",
            "Epoch 13/30\n",
            "782/782 [==============================] - 2s 2ms/step - loss: 0.4276 - accuracy: 0.8708 - val_loss: 0.4480 - val_accuracy: 0.8566\n",
            "Epoch 14/30\n",
            "782/782 [==============================] - 2s 2ms/step - loss: 0.4146 - accuracy: 0.8755 - val_loss: 0.4427 - val_accuracy: 0.8552\n",
            "Epoch 15/30\n",
            "782/782 [==============================] - 2s 2ms/step - loss: 0.4133 - accuracy: 0.8743 - val_loss: 0.4378 - val_accuracy: 0.8576\n",
            "Epoch 16/30\n",
            "782/782 [==============================] - 2s 2ms/step - loss: 0.4095 - accuracy: 0.8709 - val_loss: 0.4356 - val_accuracy: 0.8554\n",
            "Epoch 17/30\n",
            "782/782 [==============================] - 2s 2ms/step - loss: 0.4072 - accuracy: 0.8734 - val_loss: 0.4334 - val_accuracy: 0.8563\n",
            "Epoch 18/30\n",
            "782/782 [==============================] - 2s 2ms/step - loss: 0.4015 - accuracy: 0.8738 - val_loss: 0.4304 - val_accuracy: 0.8547\n",
            "Epoch 19/30\n",
            "782/782 [==============================] - 2s 2ms/step - loss: 0.4024 - accuracy: 0.8739 - val_loss: 0.4249 - val_accuracy: 0.8582\n",
            "Epoch 20/30\n",
            "782/782 [==============================] - 2s 2ms/step - loss: 0.3951 - accuracy: 0.8755 - val_loss: 0.4232 - val_accuracy: 0.8569\n",
            "Epoch 21/30\n",
            "782/782 [==============================] - 2s 2ms/step - loss: 0.3961 - accuracy: 0.8746 - val_loss: 0.4208 - val_accuracy: 0.8563\n",
            "Epoch 22/30\n",
            "782/782 [==============================] - 2s 2ms/step - loss: 0.3922 - accuracy: 0.8721 - val_loss: 0.4184 - val_accuracy: 0.8575\n",
            "Epoch 23/30\n",
            "782/782 [==============================] - 2s 2ms/step - loss: 0.3844 - accuracy: 0.8772 - val_loss: 0.4184 - val_accuracy: 0.8549\n",
            "Epoch 24/30\n",
            "782/782 [==============================] - 2s 2ms/step - loss: 0.3835 - accuracy: 0.8768 - val_loss: 0.4158 - val_accuracy: 0.8578\n",
            "Epoch 25/30\n",
            "782/782 [==============================] - 2s 2ms/step - loss: 0.3796 - accuracy: 0.8773 - val_loss: 0.4139 - val_accuracy: 0.8560\n",
            "Epoch 26/30\n",
            "782/782 [==============================] - 2s 2ms/step - loss: 0.3827 - accuracy: 0.8763 - val_loss: 0.4207 - val_accuracy: 0.8507\n",
            "Epoch 27/30\n",
            "782/782 [==============================] - 2s 2ms/step - loss: 0.3799 - accuracy: 0.8721 - val_loss: 0.4104 - val_accuracy: 0.8573\n",
            "Epoch 28/30\n",
            "782/782 [==============================] - 2s 2ms/step - loss: 0.3731 - accuracy: 0.8781 - val_loss: 0.4097 - val_accuracy: 0.8575\n",
            "Epoch 29/30\n",
            "782/782 [==============================] - 2s 2ms/step - loss: 0.3716 - accuracy: 0.8780 - val_loss: 0.4078 - val_accuracy: 0.8568\n",
            "Epoch 30/30\n",
            "782/782 [==============================] - 2s 2ms/step - loss: 0.3721 - accuracy: 0.8789 - val_loss: 0.4089 - val_accuracy: 0.8562\n",
            "Model Evaluation\n",
            "391/391 [==============================] - 0s 1ms/step - loss: 0.3926 - accuracy: 0.8641\n"
          ],
          "name": "stdout"
        },
        {
          "output_type": "display_data",
          "data": {
            "image/png": "[encoded data removed]",
            "text/plain": [
              "<Figure size 576x360 with 1 Axes>"
            ]
          },
          "metadata": {
            "tags": [],
            "needs_background": "light"
          }
        }
      ]
    },
    {
      "cell_type": "markdown",
      "metadata": {
        "id": "ZbAQhVLEUaWS"
      },
      "source": [
        "In both the two type of regularization (l1 and l2 norm) the results on the test set are comparable with the ones obtained with the first model without overfitting, proved also by the losses evolution where the validation one doesn't increasewhile the training one is decreasing."
      ]
    },
    {
      "cell_type": "markdown",
      "metadata": {
        "id": "xvyKPb4DD25G"
      },
      "source": [
        "### Early stopping\n",
        "\n",
        "Early Stopping is a form of regularization used to avoid overfitting. It is designed to monitor the generalization error of one model and stop training when generalization error begins to degrade. In order to evaluate the generalization error, early stopping requires that a validation dataset is evaluated during training. Then, when the validation error does not improve for a specific number of epochs (patience hyper-parameter), it stops the training phase."
      ]
    },
    {
      "cell_type": "code",
      "metadata": {
        "id": "MqNOOZ11D7cq",
        "colab": {
          "base_uri": "https://localhost:8080/",
          "height": 759
        },
        "outputId": "1714b096-c9e6-46d8-a42d-122fc1286c0d"
      },
      "source": [
        "model = keras.models.Sequential()\n",
        "\n",
        "model.add(tf.keras.Input(shape=(num_words,)))\n",
        "model.add(keras.layers.Dense(32, activation=\"relu\"))\n",
        "model.add(keras.layers.Dense(32, activation=\"relu\"))\n",
        "model.add(keras.layers.Dense(16, activation=\"relu\"))\n",
        "model.add(keras.layers.Dense(1, activation=\"sigmoid\"))\n",
        "\n",
        "\n",
        "model.compile(loss=\"binary_crossentropy\",\n",
        "              optimizer=keras.optimizers.Adam(learning_rate=0.0001),\n",
        "              metrics=[\"accuracy\"])\n",
        "\n",
        "#Let's define a log dir in order to save the checkpoint file\n",
        "logdir = os.path.join(os.curdir, \"my_logs\", \"run_{}\".format(time.time()))\n",
        "\n",
        "#In Keras the Eraly stopping is manage by using the callbacks argument.\n",
        "callbacks = [\n",
        "    keras.callbacks.TensorBoard(logdir),\n",
        "    keras.callbacks.EarlyStopping(patience=5),\n",
        "\n",
        "\n",
        "    #Saving the checkpoints file allows to load the \"best\" model when the Early \n",
        "    #stopping detect that the generalization error degrade (after 'patience' epochs)\n",
        "    keras.callbacks.ModelCheckpoint(\"my_mnist_model.h5\", save_best_only=True),\n",
        "]\n",
        "\n",
        "history = model.fit(X_train, y_train, epochs=30,\n",
        "                    validation_data=(X_valid, y_valid),\n",
        "                    callbacks=callbacks)\n",
        "\n",
        "print(\"Model Evaluation\")\n",
        "#The early stopping stopped training after few epochs without progress, so your\n",
        "#model may already have started to overfit the training set. Since the \n",
        "#ModelCheckpoint callback only saved the best models (on the validation set) the\n",
        "#last saved model is the best on the validation set.\n",
        "model = keras.models.load_model(\"my_mnist_model.h5\")\n",
        "model.evaluate(X_test, y_test)\n",
        "plot_learning_curves(history)"
      ],
      "execution_count": 30,
      "outputs": [
        {
          "output_type": "stream",
          "text": [
            "Epoch 1/30\n",
            "782/782 [==============================] - 2s 2ms/step - loss: 0.6372 - accuracy: 0.6215 - val_loss: 0.4080 - val_accuracy: 0.8243\n",
            "Epoch 2/30\n",
            "782/782 [==============================] - 2s 2ms/step - loss: 0.3785 - accuracy: 0.8363 - val_loss: 0.3488 - val_accuracy: 0.8511\n",
            "Epoch 3/30\n",
            "782/782 [==============================] - 2s 2ms/step - loss: 0.3165 - accuracy: 0.8696 - val_loss: 0.3429 - val_accuracy: 0.8521\n",
            "Epoch 4/30\n",
            "782/782 [==============================] - 2s 2ms/step - loss: 0.3080 - accuracy: 0.8734 - val_loss: 0.3429 - val_accuracy: 0.8526\n",
            "Epoch 5/30\n",
            "782/782 [==============================] - 2s 2ms/step - loss: 0.2988 - accuracy: 0.8794 - val_loss: 0.3391 - val_accuracy: 0.8542\n",
            "Epoch 6/30\n",
            "782/782 [==============================] - 2s 2ms/step - loss: 0.2898 - accuracy: 0.8794 - val_loss: 0.3389 - val_accuracy: 0.8546\n",
            "Epoch 7/30\n",
            "782/782 [==============================] - 2s 2ms/step - loss: 0.2849 - accuracy: 0.8827 - val_loss: 0.3441 - val_accuracy: 0.8518\n",
            "Epoch 8/30\n",
            "782/782 [==============================] - 2s 2ms/step - loss: 0.2871 - accuracy: 0.8826 - val_loss: 0.3425 - val_accuracy: 0.8532\n",
            "Epoch 9/30\n",
            "782/782 [==============================] - 2s 2ms/step - loss: 0.2789 - accuracy: 0.8874 - val_loss: 0.3458 - val_accuracy: 0.8524\n",
            "Epoch 10/30\n",
            "782/782 [==============================] - 2s 2ms/step - loss: 0.2709 - accuracy: 0.8869 - val_loss: 0.3458 - val_accuracy: 0.8504\n",
            "Epoch 11/30\n",
            "782/782 [==============================] - 2s 2ms/step - loss: 0.2694 - accuracy: 0.8909 - val_loss: 0.3505 - val_accuracy: 0.8497\n",
            "Model Evaluation\n",
            "391/391 [==============================] - 1s 1ms/step - loss: 0.3174 - accuracy: 0.8674\n"
          ],
          "name": "stdout"
        },
        {
          "output_type": "display_data",
          "data": {
            "image/png": "[encoded data removed]",
            "text/plain": [
              "<Figure size 576x360 with 1 Axes>"
            ]
          },
          "metadata": {
            "tags": [],
            "needs_background": "light"
          }
        }
      ]
    },
    {
      "cell_type": "markdown",
      "metadata": {
        "id": "EAA5Njh2Uz6h"
      },
      "source": [
        "Also in this case it is obtanided a model that avoid overfitting."
      ]
    },
    {
      "cell_type": "markdown",
      "metadata": {
        "id": "DCV8pwVzl9GK"
      },
      "source": [
        "## Exercise 2.3: Model Selection\n",
        "\n",
        "Hyperparameters are the parameters of the learning method itself which we have to specify a priori, i.e., before model fitting. In contrast, model parameters are parameters which arise as a result of the fit (the network weights). The aim of model selection is selecting the best hyperparameters for our deep network. Finding the right hyperparameters for a model can be crucial for the model performance on given data. For istance lets consider our model trained by using different values for the learning rate: "
      ]
    },
    {
      "cell_type": "code",
      "metadata": {
        "id": "Fw8Hs-AEmLKh"
      },
      "source": [
        "learning_rates = [1e-4, 1e-2, 1e-1]"
      ],
      "execution_count": 31,
      "outputs": []
    },
    {
      "cell_type": "code",
      "metadata": {
        "id": "mym4GOgUmWqD",
        "colab": {
          "base_uri": "https://localhost:8080/"
        },
        "outputId": "3178996b-c06d-44fb-e17a-ccbb39fb5012"
      },
      "source": [
        "histories = []\n",
        "for learning_rate in learning_rates:\n",
        "    model = keras.models.Sequential([\n",
        "                                    tf.keras.Input(shape=(num_words,)),\n",
        "                                    keras.layers.Dense(16, activation=\"relu\"),\n",
        "                                    keras.layers.Dense(16, activation=\"relu\"),\n",
        "                                    keras.layers.Dense(1, activation=\"sigmoid\")\n",
        "                                     ])\n",
        "    model.compile(loss=\"binary_crossentropy\",\n",
        "              optimizer=keras.optimizers.Adam(learning_rate=learning_rate),\n",
        "              metrics=[\"accuracy\"])\n",
        "              \n",
        "    callbacks = [keras.callbacks.EarlyStopping(patience=2)]\n",
        "\n",
        "    history = model.fit(X_train, y_train,\n",
        "                        validation_data=(X_valid, y_valid), epochs=10,\n",
        "                        callbacks=callbacks)\n",
        "    histories.append(history)\n",
        "    print(\"evaluation on test set\")\n",
        "    model.evaluate(X_test, y_test)"
      ],
      "execution_count": 32,
      "outputs": [
        {
          "output_type": "stream",
          "text": [
            "Epoch 1/10\n",
            "782/782 [==============================] - 2s 2ms/step - loss: 0.6782 - accuracy: 0.5569 - val_loss: 0.5269 - val_accuracy: 0.7895\n",
            "Epoch 2/10\n",
            "782/782 [==============================] - 2s 2ms/step - loss: 0.4761 - accuracy: 0.8126 - val_loss: 0.3841 - val_accuracy: 0.8456\n",
            "Epoch 3/10\n",
            "782/782 [==============================] - 1s 2ms/step - loss: 0.3583 - accuracy: 0.8561 - val_loss: 0.3516 - val_accuracy: 0.8538\n",
            "Epoch 4/10\n",
            "782/782 [==============================] - 2s 2ms/step - loss: 0.3295 - accuracy: 0.8643 - val_loss: 0.3381 - val_accuracy: 0.8580\n",
            "Epoch 5/10\n",
            "782/782 [==============================] - 1s 2ms/step - loss: 0.3152 - accuracy: 0.8708 - val_loss: 0.3359 - val_accuracy: 0.8590\n",
            "Epoch 6/10\n",
            "782/782 [==============================] - 2s 2ms/step - loss: 0.3053 - accuracy: 0.8735 - val_loss: 0.3327 - val_accuracy: 0.8600\n",
            "Epoch 7/10\n",
            "782/782 [==============================] - 1s 2ms/step - loss: 0.2994 - accuracy: 0.8795 - val_loss: 0.3327 - val_accuracy: 0.8594\n",
            "Epoch 8/10\n",
            "782/782 [==============================] - 1s 2ms/step - loss: 0.3039 - accuracy: 0.8754 - val_loss: 0.3331 - val_accuracy: 0.8583\n",
            "evaluation on test set\n",
            "391/391 [==============================] - 0s 985us/step - loss: 0.3154 - accuracy: 0.8662\n",
            "Epoch 1/10\n",
            "782/782 [==============================] - 2s 2ms/step - loss: 0.4172 - accuracy: 0.8018 - val_loss: 0.3344 - val_accuracy: 0.8494\n",
            "Epoch 2/10\n",
            "782/782 [==============================] - 1s 2ms/step - loss: 0.3172 - accuracy: 0.8629 - val_loss: 0.3397 - val_accuracy: 0.8518\n",
            "Epoch 3/10\n",
            "782/782 [==============================] - 2s 2ms/step - loss: 0.2844 - accuracy: 0.8781 - val_loss: 0.3509 - val_accuracy: 0.8474\n",
            "evaluation on test set\n",
            "391/391 [==============================] - 0s 973us/step - loss: 0.3277 - accuracy: 0.8591\n",
            "Epoch 1/10\n",
            "782/782 [==============================] - 2s 2ms/step - loss: 0.7656 - accuracy: 0.4992 - val_loss: 0.6932 - val_accuracy: 0.5054\n",
            "Epoch 2/10\n",
            "782/782 [==============================] - 1s 2ms/step - loss: 0.6963 - accuracy: 0.5025 - val_loss: 0.6931 - val_accuracy: 0.5053\n",
            "Epoch 3/10\n",
            "782/782 [==============================] - 1s 2ms/step - loss: 0.7420 - accuracy: 0.4927 - val_loss: 0.7040 - val_accuracy: 0.4947\n",
            "Epoch 4/10\n",
            "782/782 [==============================] - 1s 2ms/step - loss: 0.6951 - accuracy: 0.5018 - val_loss: 0.6972 - val_accuracy: 0.4947\n",
            "evaluation on test set\n",
            "391/391 [==============================] - 0s 1ms/step - loss: 0.6955 - accuracy: 0.5053\n"
          ],
          "name": "stdout"
        }
      ]
    },
    {
      "cell_type": "markdown",
      "metadata": {
        "id": "RzTSjfwptkHJ"
      },
      "source": [
        "Let's plot the results"
      ]
    },
    {
      "cell_type": "code",
      "metadata": {
        "id": "cIlN1vlioIYh",
        "colab": {
          "base_uri": "https://localhost:8080/",
          "height": 978
        },
        "outputId": "de5061be-758c-4b6b-a85f-0c216c7c5e62"
      },
      "source": [
        "for learning_rate, history in zip(learning_rates, histories):\n",
        "    print(\"Learning rate:\", learning_rate)\n",
        "    plot_learning_acc_and_loss(history)"
      ],
      "execution_count": 19,
      "outputs": [
        {
          "output_type": "stream",
          "text": [
            "Learning rate: 0.0001\n"
          ],
          "name": "stdout"
        },
        {
          "output_type": "display_data",
          "data": {
            "image/png": "[encoded data removed]",
            "text/plain": [
              "<Figure size 576x360 with 1 Axes>"
            ]
          },
          "metadata": {
            "tags": [],
            "needs_background": "light"
          }
        },
        {
          "output_type": "stream",
          "text": [
            "Learning rate: 0.01\n"
          ],
          "name": "stdout"
        },
        {
          "output_type": "display_data",
          "data": {
            "image/png": "[encoded data removed]",
            "text/plain": [
              "<Figure size 576x360 with 1 Axes>"
            ]
          },
          "metadata": {
            "tags": [],
            "needs_background": "light"
          }
        },
        {
          "output_type": "stream",
          "text": [
            "Learning rate: 0.1\n"
          ],
          "name": "stdout"
        },
        {
          "output_type": "display_data",
          "data": {
            "image/png": "[encoded data removed]",
            "text/plain": [
              "<Figure size 576x360 with 1 Axes>"
            ]
          },
          "metadata": {
            "tags": [],
            "needs_background": "light"
          }
        }
      ]
    },
    {
      "cell_type": "markdown",
      "metadata": {
        "id": "_JntujSWq3e5"
      },
      "source": [
        "### GRID Search:\n",
        "\n",
        "Since a deep net has many hyperparameters, in order to find the best ones, we have to consider all the possible combinations of all of the possible values. One common method to perform this complex task is Grid-Search.\n",
        "Given a set of values for each hyper-parameter, Grid-Search will build a model on each parameter combination possible. It iterates through every parameter combination and stores a model for each combination. Finally, the model that obtained the best result on the validation set will be select.\n",
        "\n",
        "In order to perfrom Grid-Search we will use the GridSearchCV method from scikit-learn."
      ]
    },
    {
      "cell_type": "markdown",
      "metadata": {
        "id": "CPz629YSrDhN"
      },
      "source": [
        "Let's Create a build_model() function that takes two arguments, n_neurons, learning_rate, and builds, compiles and returns a model with the given number of of neurons and the given learning rate.\n",
        "In order to limit the time requirements of the process we will consider only these two hyper-paramters.\n",
        "\n",
        "[TO COMPLETE] in the following code cell define the build_model function."
      ]
    },
    {
      "cell_type": "code",
      "metadata": {
        "id": "oGSKWTTtqxZ4"
      },
      "source": [
        "def build_model(n_units=30, learning_rate=1e-3):\n",
        "\n",
        "    model = keras.models.Sequential([                                    \n",
        "      tf.keras.Input(shape=(num_words,)),\n",
        "      keras.layers.Dense(n_units, activation=\"relu\"),\n",
        "      keras.layers.Dense(n_units, activation=\"relu\"),\n",
        "      keras.layers.Dense(1, activation=\"sigmoid\")                         ])\n",
        "    \n",
        "    model.compile(loss=\"binary_crossentropy\",\n",
        "              optimizer=keras.optimizers.Adam(learning_rate=learning_rate),\n",
        "              metrics=[\"accuracy\"])\n",
        "\n",
        "    return model\n",
        "\n",
        "    \n",
        "#Create a keras.wrappers.scikit_learn.KerasRegressor and pass the build_model \n",
        "#function to the constructor. This gives you a Scikit-Learn compatible predictor\n",
        "keras_reg = keras.wrappers.scikit_learn.KerasRegressor(build_model)"
      ],
      "execution_count": 42,
      "outputs": []
    },
    {
      "cell_type": "markdown",
      "metadata": {
        "id": "PS6W3A2LxDg5"
      },
      "source": [
        "Let's define the lists of hyper-parameters' values. Also in this case, we use a very limited size lists, but in a real-world scenario a reasonable amount of possible values should be considered (try to add some values and check how much the time required to perform the Grid-Search increases)"
      ]
    },
    {
      "cell_type": "code",
      "metadata": {
        "id": "y-uldCW3ru24"
      },
      "source": [
        "param_distribs = {\n",
        "    \"n_units\": [8, 16, 32],\n",
        "    \"learning_rate\": [1e-2, 1e-3, 1e-4] \n",
        "    #Check how the time required to perform GRID search increases when increasing the number of values for each hyper-parameter.\n",
        "}"
      ],
      "execution_count": 43,
      "outputs": []
    },
    {
      "cell_type": "markdown",
      "metadata": {
        "id": "bEiBxVYtx_sK"
      },
      "source": [
        "Use a sklearn.model_selection.GridSearchCV to search the hyperparameter space of your KerasRegressor"
      ]
    },
    {
      "cell_type": "code",
      "metadata": {
        "id": "iobF2Bvdr9ER"
      },
      "source": [
        "from sklearn.model_selection import GridSearchCV\n",
        "\n",
        "grid_search = GridSearchCV(keras_reg, param_distribs)"
      ],
      "execution_count": 44,
      "outputs": []
    },
    {
      "cell_type": "markdown",
      "metadata": {
        "id": "LVGMcZz_yKSX"
      },
      "source": [
        "Run the Grid-Search"
      ]
    },
    {
      "cell_type": "code",
      "metadata": {
        "id": "-BA3vgTjr-hw",
        "colab": {
          "base_uri": "https://localhost:8080/"
        },
        "outputId": "18c9e120-fc78-4c76-c3be-9f143dd13e66"
      },
      "source": [
        "\n",
        "grid_search.fit(X_train.numpy(), y_train, epochs=5,#The number of epochs can be modified (check what happens by increasing it)\n",
        "                validation_data=(X_valid.numpy(), y_valid))"
      ],
      "execution_count": 45,
      "outputs": [
        {
          "output_type": "stream",
          "text": [
            "Epoch 1/5\n",
            "625/625 [==============================] - 2s 2ms/step - loss: 0.4453 - accuracy: 0.7889 - val_loss: 0.3402 - val_accuracy: 0.8506\n",
            "Epoch 2/5\n",
            "625/625 [==============================] - 1s 2ms/step - loss: 0.3119 - accuracy: 0.8680 - val_loss: 0.3397 - val_accuracy: 0.8506\n",
            "Epoch 3/5\n",
            "625/625 [==============================] - 1s 2ms/step - loss: 0.2889 - accuracy: 0.8798 - val_loss: 0.3494 - val_accuracy: 0.8459\n",
            "Epoch 4/5\n",
            "625/625 [==============================] - 1s 2ms/step - loss: 0.2813 - accuracy: 0.8788 - val_loss: 0.3499 - val_accuracy: 0.8480\n",
            "Epoch 5/5\n",
            "625/625 [==============================] - 1s 2ms/step - loss: 0.2617 - accuracy: 0.8867 - val_loss: 0.3589 - val_accuracy: 0.8446\n",
            "157/157 [==============================] - 0s 1ms/step - loss: 0.3586 - accuracy: 0.8498\n",
            "Epoch 1/5\n",
            "625/625 [==============================] - 2s 2ms/step - loss: 0.4463 - accuracy: 0.7839 - val_loss: 0.3378 - val_accuracy: 0.8508\n",
            "Epoch 2/5\n",
            "625/625 [==============================] - 1s 2ms/step - loss: 0.3055 - accuracy: 0.8700 - val_loss: 0.3369 - val_accuracy: 0.8530\n",
            "Epoch 3/5\n",
            "625/625 [==============================] - 1s 2ms/step - loss: 0.2917 - accuracy: 0.8760 - val_loss: 0.3723 - val_accuracy: 0.8348\n",
            "Epoch 4/5\n",
            "625/625 [==============================] - 1s 2ms/step - loss: 0.2765 - accuracy: 0.8841 - val_loss: 0.3627 - val_accuracy: 0.8378\n",
            "Epoch 5/5\n",
            "625/625 [==============================] - 1s 2ms/step - loss: 0.2567 - accuracy: 0.8927 - val_loss: 0.3661 - val_accuracy: 0.8450\n",
            "157/157 [==============================] - 0s 959us/step - loss: 0.3526 - accuracy: 0.8548\n",
            "Epoch 1/5\n",
            "625/625 [==============================] - 2s 2ms/step - loss: 0.4325 - accuracy: 0.7986 - val_loss: 0.3362 - val_accuracy: 0.8541\n",
            "Epoch 2/5\n",
            "625/625 [==============================] - 1s 2ms/step - loss: 0.3106 - accuracy: 0.8685 - val_loss: 0.3353 - val_accuracy: 0.8528\n",
            "Epoch 3/5\n",
            "625/625 [==============================] - 1s 2ms/step - loss: 0.2931 - accuracy: 0.8745 - val_loss: 0.3481 - val_accuracy: 0.8486\n",
            "Epoch 4/5\n",
            "625/625 [==============================] - 1s 2ms/step - loss: 0.2799 - accuracy: 0.8809 - val_loss: 0.3501 - val_accuracy: 0.8480\n",
            "Epoch 5/5\n",
            "625/625 [==============================] - 1s 2ms/step - loss: 0.2648 - accuracy: 0.8874 - val_loss: 0.3504 - val_accuracy: 0.8469\n",
            "157/157 [==============================] - 0s 961us/step - loss: 0.3496 - accuracy: 0.8506\n",
            "Epoch 1/5\n",
            "625/625 [==============================] - 2s 2ms/step - loss: 0.4234 - accuracy: 0.8047 - val_loss: 0.3481 - val_accuracy: 0.8444\n",
            "Epoch 2/5\n",
            "625/625 [==============================] - 1s 2ms/step - loss: 0.3099 - accuracy: 0.8681 - val_loss: 0.3397 - val_accuracy: 0.8505\n",
            "Epoch 3/5\n",
            "625/625 [==============================] - 1s 2ms/step - loss: 0.2921 - accuracy: 0.8724 - val_loss: 0.3535 - val_accuracy: 0.8490\n",
            "Epoch 4/5\n",
            "625/625 [==============================] - 1s 2ms/step - loss: 0.2809 - accuracy: 0.8757 - val_loss: 0.3489 - val_accuracy: 0.8507\n",
            "Epoch 5/5\n",
            "625/625 [==============================] - 1s 2ms/step - loss: 0.2614 - accuracy: 0.8833 - val_loss: 0.3612 - val_accuracy: 0.8470\n",
            "157/157 [==============================] - 0s 952us/step - loss: 0.3558 - accuracy: 0.8536\n",
            "Epoch 1/5\n",
            "625/625 [==============================] - 2s 2ms/step - loss: 0.6940 - accuracy: 0.5009 - val_loss: 0.6931 - val_accuracy: 0.5053\n",
            "Epoch 2/5\n",
            "625/625 [==============================] - 1s 2ms/step - loss: 0.5305 - accuracy: 0.7183 - val_loss: 0.3685 - val_accuracy: 0.8434\n",
            "Epoch 3/5\n",
            "625/625 [==============================] - 1s 2ms/step - loss: 0.3293 - accuracy: 0.8649 - val_loss: 0.3692 - val_accuracy: 0.8454\n",
            "Epoch 4/5\n",
            "625/625 [==============================] - 1s 2ms/step - loss: 0.3190 - accuracy: 0.8700 - val_loss: 0.3519 - val_accuracy: 0.8494\n",
            "Epoch 5/5\n",
            "625/625 [==============================] - 1s 2ms/step - loss: 0.3075 - accuracy: 0.8758 - val_loss: 0.3506 - val_accuracy: 0.8477\n",
            "157/157 [==============================] - 0s 1ms/step - loss: 0.3342 - accuracy: 0.8594\n",
            "Epoch 1/5\n",
            "625/625 [==============================] - 2s 2ms/step - loss: 0.4586 - accuracy: 0.7779 - val_loss: 0.3385 - val_accuracy: 0.8502\n",
            "Epoch 2/5\n",
            "625/625 [==============================] - 1s 2ms/step - loss: 0.3054 - accuracy: 0.8714 - val_loss: 0.3456 - val_accuracy: 0.8502\n",
            "Epoch 3/5\n",
            "625/625 [==============================] - 1s 2ms/step - loss: 0.2881 - accuracy: 0.8771 - val_loss: 0.3462 - val_accuracy: 0.8509\n",
            "Epoch 4/5\n",
            "625/625 [==============================] - 1s 2ms/step - loss: 0.2799 - accuracy: 0.8812 - val_loss: 0.3512 - val_accuracy: 0.8477\n",
            "Epoch 5/5\n",
            "625/625 [==============================] - 1s 2ms/step - loss: 0.2636 - accuracy: 0.8879 - val_loss: 0.3672 - val_accuracy: 0.8452\n",
            "157/157 [==============================] - 0s 1ms/step - loss: 0.3650 - accuracy: 0.8474\n",
            "Epoch 1/5\n",
            "625/625 [==============================] - 2s 2ms/step - loss: 0.4350 - accuracy: 0.7991 - val_loss: 0.3352 - val_accuracy: 0.8553\n",
            "Epoch 2/5\n",
            "625/625 [==============================] - 1s 2ms/step - loss: 0.3067 - accuracy: 0.8736 - val_loss: 0.3404 - val_accuracy: 0.8528\n",
            "Epoch 3/5\n",
            "625/625 [==============================] - 1s 2ms/step - loss: 0.2928 - accuracy: 0.8725 - val_loss: 0.3584 - val_accuracy: 0.8436\n",
            "Epoch 4/5\n",
            "625/625 [==============================] - 1s 2ms/step - loss: 0.2811 - accuracy: 0.8789 - val_loss: 0.3562 - val_accuracy: 0.8450\n",
            "Epoch 5/5\n",
            "625/625 [==============================] - 1s 2ms/step - loss: 0.2629 - accuracy: 0.8873 - val_loss: 0.3655 - val_accuracy: 0.8486\n",
            "157/157 [==============================] - 0s 945us/step - loss: 0.3501 - accuracy: 0.8570\n",
            "Epoch 1/5\n",
            "625/625 [==============================] - 2s 2ms/step - loss: 0.4199 - accuracy: 0.8061 - val_loss: 0.3414 - val_accuracy: 0.8447\n",
            "Epoch 2/5\n",
            "625/625 [==============================] - 2s 2ms/step - loss: 0.3062 - accuracy: 0.8676 - val_loss: 0.3401 - val_accuracy: 0.8525\n",
            "Epoch 3/5\n",
            "625/625 [==============================] - 1s 2ms/step - loss: 0.2818 - accuracy: 0.8820 - val_loss: 0.3471 - val_accuracy: 0.8468\n",
            "Epoch 4/5\n",
            "625/625 [==============================] - 1s 2ms/step - loss: 0.2572 - accuracy: 0.8947 - val_loss: 0.3579 - val_accuracy: 0.8450\n",
            "Epoch 5/5\n",
            "625/625 [==============================] - 1s 2ms/step - loss: 0.2336 - accuracy: 0.9036 - val_loss: 0.3787 - val_accuracy: 0.8374\n",
            "157/157 [==============================] - 0s 1ms/step - loss: 0.3761 - accuracy: 0.8378\n",
            "Epoch 1/5\n",
            "625/625 [==============================] - 2s 2ms/step - loss: 0.4213 - accuracy: 0.8038 - val_loss: 0.3622 - val_accuracy: 0.8343\n",
            "Epoch 2/5\n",
            "625/625 [==============================] - 1s 2ms/step - loss: 0.3062 - accuracy: 0.8652 - val_loss: 0.3384 - val_accuracy: 0.8486\n",
            "Epoch 3/5\n",
            "625/625 [==============================] - 1s 2ms/step - loss: 0.2840 - accuracy: 0.8766 - val_loss: 0.3439 - val_accuracy: 0.8470\n",
            "Epoch 4/5\n",
            "625/625 [==============================] - 1s 2ms/step - loss: 0.2667 - accuracy: 0.8909 - val_loss: 0.3578 - val_accuracy: 0.8440\n",
            "Epoch 5/5\n",
            "625/625 [==============================] - 1s 2ms/step - loss: 0.2425 - accuracy: 0.9013 - val_loss: 0.3806 - val_accuracy: 0.8371\n",
            "157/157 [==============================] - 0s 1ms/step - loss: 0.3639 - accuracy: 0.8458\n",
            "Epoch 1/5\n",
            "625/625 [==============================] - 2s 2ms/step - loss: 0.4239 - accuracy: 0.8073 - val_loss: 0.3663 - val_accuracy: 0.8354\n",
            "Epoch 2/5\n",
            "625/625 [==============================] - 1s 2ms/step - loss: 0.3150 - accuracy: 0.8642 - val_loss: 0.3494 - val_accuracy: 0.8468\n",
            "Epoch 3/5\n",
            "625/625 [==============================] - 1s 2ms/step - loss: 0.2920 - accuracy: 0.8732 - val_loss: 0.3653 - val_accuracy: 0.8431\n",
            "Epoch 4/5\n",
            "625/625 [==============================] - 1s 2ms/step - loss: 0.2781 - accuracy: 0.8828 - val_loss: 0.3576 - val_accuracy: 0.8489\n",
            "Epoch 5/5\n",
            "625/625 [==============================] - 1s 2ms/step - loss: 0.2502 - accuracy: 0.8978 - val_loss: 0.3640 - val_accuracy: 0.8409\n",
            "157/157 [==============================] - 0s 1ms/step - loss: 0.3529 - accuracy: 0.8500\n",
            "Epoch 1/5\n",
            "625/625 [==============================] - 2s 2ms/step - loss: 0.4374 - accuracy: 0.7909 - val_loss: 0.3358 - val_accuracy: 0.8497\n",
            "Epoch 2/5\n",
            "625/625 [==============================] - 1s 2ms/step - loss: 0.3042 - accuracy: 0.8699 - val_loss: 0.3387 - val_accuracy: 0.8508\n",
            "Epoch 3/5\n",
            "625/625 [==============================] - 1s 2ms/step - loss: 0.2804 - accuracy: 0.8775 - val_loss: 0.3455 - val_accuracy: 0.8496\n",
            "Epoch 4/5\n",
            "625/625 [==============================] - 1s 2ms/step - loss: 0.2630 - accuracy: 0.8846 - val_loss: 0.3616 - val_accuracy: 0.8502\n",
            "Epoch 5/5\n",
            "625/625 [==============================] - 1s 2ms/step - loss: 0.2360 - accuracy: 0.8945 - val_loss: 0.4172 - val_accuracy: 0.8399\n",
            "157/157 [==============================] - 0s 1ms/step - loss: 0.4131 - accuracy: 0.8498\n",
            "Epoch 1/5\n",
            "625/625 [==============================] - 2s 2ms/step - loss: 0.4443 - accuracy: 0.7894 - val_loss: 0.3430 - val_accuracy: 0.8442\n",
            "Epoch 2/5\n",
            "625/625 [==============================] - 1s 2ms/step - loss: 0.3062 - accuracy: 0.8704 - val_loss: 0.3407 - val_accuracy: 0.8534\n",
            "Epoch 3/5\n",
            "625/625 [==============================] - 1s 2ms/step - loss: 0.2829 - accuracy: 0.8796 - val_loss: 0.3543 - val_accuracy: 0.8461\n",
            "Epoch 4/5\n",
            "625/625 [==============================] - 1s 2ms/step - loss: 0.2595 - accuracy: 0.8935 - val_loss: 0.3881 - val_accuracy: 0.8325\n",
            "Epoch 5/5\n",
            "625/625 [==============================] - 1s 2ms/step - loss: 0.2317 - accuracy: 0.9071 - val_loss: 0.3699 - val_accuracy: 0.8446\n",
            "157/157 [==============================] - 0s 984us/step - loss: 0.3572 - accuracy: 0.8468\n",
            "Epoch 1/5\n",
            "625/625 [==============================] - 2s 2ms/step - loss: 0.4201 - accuracy: 0.8054 - val_loss: 0.3407 - val_accuracy: 0.8479\n",
            "Epoch 2/5\n",
            "625/625 [==============================] - 1s 2ms/step - loss: 0.3111 - accuracy: 0.8664 - val_loss: 0.3370 - val_accuracy: 0.8533\n",
            "Epoch 3/5\n",
            "625/625 [==============================] - 1s 2ms/step - loss: 0.2816 - accuracy: 0.8775 - val_loss: 0.3526 - val_accuracy: 0.8493\n",
            "Epoch 4/5\n",
            "625/625 [==============================] - 1s 2ms/step - loss: 0.2529 - accuracy: 0.8919 - val_loss: 0.3845 - val_accuracy: 0.8438\n",
            "Epoch 5/5\n",
            "625/625 [==============================] - 1s 2ms/step - loss: 0.2125 - accuracy: 0.9118 - val_loss: 0.3816 - val_accuracy: 0.8398\n",
            "157/157 [==============================] - 0s 1ms/step - loss: 0.3774 - accuracy: 0.8398\n",
            "Epoch 1/5\n",
            "625/625 [==============================] - 2s 2ms/step - loss: 0.4198 - accuracy: 0.8054 - val_loss: 0.3694 - val_accuracy: 0.8362\n",
            "Epoch 2/5\n",
            "625/625 [==============================] - 1s 2ms/step - loss: 0.3051 - accuracy: 0.8684 - val_loss: 0.3372 - val_accuracy: 0.8489\n",
            "Epoch 3/5\n",
            "625/625 [==============================] - 1s 2ms/step - loss: 0.2807 - accuracy: 0.8814 - val_loss: 0.3505 - val_accuracy: 0.8472\n",
            "Epoch 4/5\n",
            "625/625 [==============================] - 1s 2ms/step - loss: 0.2555 - accuracy: 0.8921 - val_loss: 0.3708 - val_accuracy: 0.8458\n",
            "Epoch 5/5\n",
            "625/625 [==============================] - 1s 2ms/step - loss: 0.2135 - accuracy: 0.9145 - val_loss: 0.4087 - val_accuracy: 0.8397\n",
            "157/157 [==============================] - 0s 1ms/step - loss: 0.4058 - accuracy: 0.8466\n",
            "Epoch 1/5\n",
            "625/625 [==============================] - 2s 2ms/step - loss: 0.4265 - accuracy: 0.7961 - val_loss: 0.3532 - val_accuracy: 0.8418\n",
            "Epoch 2/5\n",
            "625/625 [==============================] - 1s 2ms/step - loss: 0.3119 - accuracy: 0.8650 - val_loss: 0.3388 - val_accuracy: 0.8490\n",
            "Epoch 3/5\n",
            "625/625 [==============================] - 1s 2ms/step - loss: 0.2772 - accuracy: 0.8799 - val_loss: 0.3665 - val_accuracy: 0.8452\n",
            "Epoch 4/5\n",
            "625/625 [==============================] - 1s 2ms/step - loss: 0.2451 - accuracy: 0.8986 - val_loss: 0.3863 - val_accuracy: 0.8425\n",
            "Epoch 5/5\n",
            "625/625 [==============================] - 1s 2ms/step - loss: 0.2016 - accuracy: 0.9163 - val_loss: 0.3859 - val_accuracy: 0.8361\n",
            "157/157 [==============================] - 0s 1ms/step - loss: 0.3712 - accuracy: 0.8426\n",
            "Epoch 1/5\n",
            "625/625 [==============================] - 2s 2ms/step - loss: 0.5111 - accuracy: 0.7490 - val_loss: 0.3405 - val_accuracy: 0.8554\n",
            "Epoch 2/5\n",
            "625/625 [==============================] - 1s 2ms/step - loss: 0.3098 - accuracy: 0.8728 - val_loss: 0.3422 - val_accuracy: 0.8532\n",
            "Epoch 3/5\n",
            "625/625 [==============================] - 1s 2ms/step - loss: 0.3043 - accuracy: 0.8743 - val_loss: 0.3476 - val_accuracy: 0.8523\n",
            "Epoch 4/5\n",
            "625/625 [==============================] - 1s 2ms/step - loss: 0.3035 - accuracy: 0.8736 - val_loss: 0.3443 - val_accuracy: 0.8516\n",
            "Epoch 5/5\n",
            "625/625 [==============================] - 1s 2ms/step - loss: 0.2884 - accuracy: 0.8806 - val_loss: 0.3624 - val_accuracy: 0.8448\n",
            "157/157 [==============================] - 0s 1ms/step - loss: 0.3573 - accuracy: 0.8536\n",
            "Epoch 1/5\n",
            "625/625 [==============================] - 2s 2ms/step - loss: 0.5184 - accuracy: 0.7286 - val_loss: 0.3388 - val_accuracy: 0.8547\n",
            "Epoch 2/5\n",
            "625/625 [==============================] - 1s 2ms/step - loss: 0.3124 - accuracy: 0.8708 - val_loss: 0.3371 - val_accuracy: 0.8537\n",
            "Epoch 3/5\n",
            "625/625 [==============================] - 1s 2ms/step - loss: 0.3074 - accuracy: 0.8731 - val_loss: 0.3448 - val_accuracy: 0.8478\n",
            "Epoch 4/5\n",
            "625/625 [==============================] - 1s 2ms/step - loss: 0.2966 - accuracy: 0.8773 - val_loss: 0.3366 - val_accuracy: 0.8538\n",
            "Epoch 5/5\n",
            "625/625 [==============================] - 1s 2ms/step - loss: 0.2738 - accuracy: 0.8864 - val_loss: 0.3434 - val_accuracy: 0.8478\n",
            "157/157 [==============================] - 0s 1ms/step - loss: 0.3341 - accuracy: 0.8578\n",
            "Epoch 1/5\n",
            "625/625 [==============================] - 2s 2ms/step - loss: 0.5090 - accuracy: 0.7407 - val_loss: 0.3384 - val_accuracy: 0.8535\n",
            "Epoch 2/5\n",
            "625/625 [==============================] - 1s 2ms/step - loss: 0.3123 - accuracy: 0.8721 - val_loss: 0.3379 - val_accuracy: 0.8534\n",
            "Epoch 3/5\n",
            "625/625 [==============================] - 1s 2ms/step - loss: 0.3063 - accuracy: 0.8718 - val_loss: 0.3440 - val_accuracy: 0.8504\n",
            "Epoch 4/5\n",
            "625/625 [==============================] - 1s 2ms/step - loss: 0.2970 - accuracy: 0.8771 - val_loss: 0.3350 - val_accuracy: 0.8510\n",
            "Epoch 5/5\n",
            "625/625 [==============================] - 1s 2ms/step - loss: 0.2802 - accuracy: 0.8786 - val_loss: 0.3341 - val_accuracy: 0.8512\n",
            "157/157 [==============================] - 0s 1ms/step - loss: 0.3377 - accuracy: 0.8528\n",
            "Epoch 1/5\n",
            "625/625 [==============================] - 2s 2ms/step - loss: 0.5357 - accuracy: 0.7177 - val_loss: 0.3413 - val_accuracy: 0.8539\n",
            "Epoch 2/5\n",
            "625/625 [==============================] - 1s 2ms/step - loss: 0.3109 - accuracy: 0.8701 - val_loss: 0.3381 - val_accuracy: 0.8550\n",
            "Epoch 3/5\n",
            "625/625 [==============================] - 1s 2ms/step - loss: 0.3028 - accuracy: 0.8731 - val_loss: 0.3455 - val_accuracy: 0.8506\n",
            "Epoch 4/5\n",
            "625/625 [==============================] - 1s 2ms/step - loss: 0.2965 - accuracy: 0.8822 - val_loss: 0.3469 - val_accuracy: 0.8522\n",
            "Epoch 5/5\n",
            "625/625 [==============================] - 1s 2ms/step - loss: 0.2781 - accuracy: 0.8858 - val_loss: 0.3535 - val_accuracy: 0.8487\n",
            "157/157 [==============================] - 0s 1ms/step - loss: 0.3439 - accuracy: 0.8552\n",
            "Epoch 1/5\n",
            "625/625 [==============================] - 2s 2ms/step - loss: 0.5258 - accuracy: 0.7209 - val_loss: 0.3508 - val_accuracy: 0.8492\n",
            "Epoch 2/5\n",
            "625/625 [==============================] - 1s 2ms/step - loss: 0.3218 - accuracy: 0.8670 - val_loss: 0.3446 - val_accuracy: 0.8511\n",
            "Epoch 3/5\n",
            "625/625 [==============================] - 1s 2ms/step - loss: 0.3106 - accuracy: 0.8686 - val_loss: 0.3522 - val_accuracy: 0.8480\n",
            "Epoch 4/5\n",
            "625/625 [==============================] - 1s 2ms/step - loss: 0.3103 - accuracy: 0.8718 - val_loss: 0.3430 - val_accuracy: 0.8511\n",
            "Epoch 5/5\n",
            "625/625 [==============================] - 1s 2ms/step - loss: 0.2980 - accuracy: 0.8768 - val_loss: 0.3418 - val_accuracy: 0.8517\n",
            "157/157 [==============================] - 0s 1ms/step - loss: 0.3296 - accuracy: 0.8602\n",
            "Epoch 1/5\n",
            "625/625 [==============================] - 2s 2ms/step - loss: 0.5002 - accuracy: 0.7495 - val_loss: 0.3417 - val_accuracy: 0.8540\n",
            "Epoch 2/5\n",
            "625/625 [==============================] - 1s 2ms/step - loss: 0.3077 - accuracy: 0.8719 - val_loss: 0.3425 - val_accuracy: 0.8538\n",
            "Epoch 3/5\n",
            "625/625 [==============================] - 1s 2ms/step - loss: 0.2890 - accuracy: 0.8800 - val_loss: 0.3479 - val_accuracy: 0.8482\n",
            "Epoch 4/5\n",
            "625/625 [==============================] - 1s 2ms/step - loss: 0.2705 - accuracy: 0.8868 - val_loss: 0.3438 - val_accuracy: 0.8475\n",
            "Epoch 5/5\n",
            "625/625 [==============================] - 1s 2ms/step - loss: 0.2349 - accuracy: 0.9046 - val_loss: 0.3964 - val_accuracy: 0.8356\n",
            "157/157 [==============================] - 0s 943us/step - loss: 0.3792 - accuracy: 0.8476\n",
            "Epoch 1/5\n",
            "625/625 [==============================] - 2s 2ms/step - loss: 0.4930 - accuracy: 0.7528 - val_loss: 0.3403 - val_accuracy: 0.8524\n",
            "Epoch 2/5\n",
            "625/625 [==============================] - 1s 2ms/step - loss: 0.3126 - accuracy: 0.8730 - val_loss: 0.3379 - val_accuracy: 0.8549\n",
            "Epoch 3/5\n",
            "625/625 [==============================] - 1s 2ms/step - loss: 0.2999 - accuracy: 0.8764 - val_loss: 0.3552 - val_accuracy: 0.8448\n",
            "Epoch 4/5\n",
            "625/625 [==============================] - 1s 2ms/step - loss: 0.2827 - accuracy: 0.8829 - val_loss: 0.3387 - val_accuracy: 0.8532\n",
            "Epoch 5/5\n",
            "625/625 [==============================] - 1s 2ms/step - loss: 0.2518 - accuracy: 0.8960 - val_loss: 0.3480 - val_accuracy: 0.8484\n",
            "157/157 [==============================] - 0s 1ms/step - loss: 0.3408 - accuracy: 0.8536\n",
            "Epoch 1/5\n",
            "625/625 [==============================] - 2s 2ms/step - loss: 0.4887 - accuracy: 0.7543 - val_loss: 0.3396 - val_accuracy: 0.8524\n",
            "Epoch 2/5\n",
            "625/625 [==============================] - 1s 2ms/step - loss: 0.3097 - accuracy: 0.8698 - val_loss: 0.3374 - val_accuracy: 0.8518\n",
            "Epoch 3/5\n",
            "625/625 [==============================] - 1s 2ms/step - loss: 0.2917 - accuracy: 0.8785 - val_loss: 0.3560 - val_accuracy: 0.8480\n",
            "Epoch 4/5\n",
            "625/625 [==============================] - 1s 2ms/step - loss: 0.2726 - accuracy: 0.8895 - val_loss: 0.3470 - val_accuracy: 0.8481\n",
            "Epoch 5/5\n",
            "625/625 [==============================] - 1s 2ms/step - loss: 0.2364 - accuracy: 0.9038 - val_loss: 0.3665 - val_accuracy: 0.8438\n",
            "157/157 [==============================] - 0s 1ms/step - loss: 0.3662 - accuracy: 0.8470\n",
            "Epoch 1/5\n",
            "625/625 [==============================] - 2s 2ms/step - loss: 0.4845 - accuracy: 0.7586 - val_loss: 0.3502 - val_accuracy: 0.8495\n",
            "Epoch 2/5\n",
            "625/625 [==============================] - 1s 2ms/step - loss: 0.3100 - accuracy: 0.8708 - val_loss: 0.3345 - val_accuracy: 0.8549\n",
            "Epoch 3/5\n",
            "625/625 [==============================] - 1s 2ms/step - loss: 0.2963 - accuracy: 0.8746 - val_loss: 0.3427 - val_accuracy: 0.8504\n",
            "Epoch 4/5\n",
            "625/625 [==============================] - 1s 2ms/step - loss: 0.2820 - accuracy: 0.8818 - val_loss: 0.3380 - val_accuracy: 0.8531\n",
            "Epoch 5/5\n",
            "625/625 [==============================] - 1s 2ms/step - loss: 0.2522 - accuracy: 0.8933 - val_loss: 0.3499 - val_accuracy: 0.8482\n",
            "157/157 [==============================] - 0s 1ms/step - loss: 0.3446 - accuracy: 0.8580\n",
            "Epoch 1/5\n",
            "625/625 [==============================] - 2s 2ms/step - loss: 0.4864 - accuracy: 0.7582 - val_loss: 0.3528 - val_accuracy: 0.8454\n",
            "Epoch 2/5\n",
            "625/625 [==============================] - 1s 2ms/step - loss: 0.3140 - accuracy: 0.8673 - val_loss: 0.3392 - val_accuracy: 0.8507\n",
            "Epoch 3/5\n",
            "625/625 [==============================] - 1s 2ms/step - loss: 0.2920 - accuracy: 0.8747 - val_loss: 0.3497 - val_accuracy: 0.8481\n",
            "Epoch 4/5\n",
            "625/625 [==============================] - 1s 2ms/step - loss: 0.2776 - accuracy: 0.8850 - val_loss: 0.3438 - val_accuracy: 0.8512\n",
            "Epoch 5/5\n",
            "625/625 [==============================] - 1s 2ms/step - loss: 0.2520 - accuracy: 0.8946 - val_loss: 0.3530 - val_accuracy: 0.8472\n",
            "157/157 [==============================] - 0s 1ms/step - loss: 0.3349 - accuracy: 0.8570\n",
            "Epoch 1/5\n",
            "625/625 [==============================] - 2s 2ms/step - loss: 0.4732 - accuracy: 0.7673 - val_loss: 0.3380 - val_accuracy: 0.8520\n",
            "Epoch 2/5\n",
            "625/625 [==============================] - 1s 2ms/step - loss: 0.3030 - accuracy: 0.8730 - val_loss: 0.3396 - val_accuracy: 0.8490\n",
            "Epoch 3/5\n",
            "625/625 [==============================] - 1s 2ms/step - loss: 0.2777 - accuracy: 0.8837 - val_loss: 0.3448 - val_accuracy: 0.8472\n",
            "Epoch 4/5\n",
            "625/625 [==============================] - 1s 2ms/step - loss: 0.2494 - accuracy: 0.8973 - val_loss: 0.3571 - val_accuracy: 0.8454\n",
            "Epoch 5/5\n",
            "625/625 [==============================] - 1s 2ms/step - loss: 0.1899 - accuracy: 0.9243 - val_loss: 0.3997 - val_accuracy: 0.8367\n",
            "157/157 [==============================] - 0s 1ms/step - loss: 0.3822 - accuracy: 0.8524\n",
            "Epoch 1/5\n",
            "625/625 [==============================] - 2s 2ms/step - loss: 0.4906 - accuracy: 0.7458 - val_loss: 0.3383 - val_accuracy: 0.8536\n",
            "Epoch 2/5\n",
            "625/625 [==============================] - 1s 2ms/step - loss: 0.3027 - accuracy: 0.8761 - val_loss: 0.3374 - val_accuracy: 0.8541\n",
            "Epoch 3/5\n",
            "625/625 [==============================] - 1s 2ms/step - loss: 0.2746 - accuracy: 0.8866 - val_loss: 0.3473 - val_accuracy: 0.8489\n",
            "Epoch 4/5\n",
            "625/625 [==============================] - 1s 2ms/step - loss: 0.2317 - accuracy: 0.9086 - val_loss: 0.3674 - val_accuracy: 0.8427\n",
            "Epoch 5/5\n",
            "625/625 [==============================] - 1s 2ms/step - loss: 0.1634 - accuracy: 0.9390 - val_loss: 0.4209 - val_accuracy: 0.8351\n",
            "157/157 [==============================] - 0s 1ms/step - loss: 0.3983 - accuracy: 0.8452\n",
            "Epoch 1/5\n",
            "625/625 [==============================] - 2s 2ms/step - loss: 0.4777 - accuracy: 0.7602 - val_loss: 0.3381 - val_accuracy: 0.8519\n",
            "Epoch 2/5\n",
            "625/625 [==============================] - 1s 2ms/step - loss: 0.3051 - accuracy: 0.8724 - val_loss: 0.3326 - val_accuracy: 0.8554\n",
            "Epoch 3/5\n",
            "625/625 [==============================] - 1s 2ms/step - loss: 0.2817 - accuracy: 0.8834 - val_loss: 0.3495 - val_accuracy: 0.8476\n",
            "Epoch 4/5\n",
            "625/625 [==============================] - 1s 2ms/step - loss: 0.2523 - accuracy: 0.8968 - val_loss: 0.3483 - val_accuracy: 0.8489\n",
            "Epoch 5/5\n",
            "625/625 [==============================] - 1s 2ms/step - loss: 0.2069 - accuracy: 0.9174 - val_loss: 0.3625 - val_accuracy: 0.8436\n",
            "157/157 [==============================] - 0s 1ms/step - loss: 0.3677 - accuracy: 0.8482\n",
            "Epoch 1/5\n",
            "625/625 [==============================] - 2s 2ms/step - loss: 0.4737 - accuracy: 0.7638 - val_loss: 0.3503 - val_accuracy: 0.8454\n",
            "Epoch 2/5\n",
            "625/625 [==============================] - 1s 2ms/step - loss: 0.3035 - accuracy: 0.8721 - val_loss: 0.3328 - val_accuracy: 0.8534\n",
            "Epoch 3/5\n",
            "625/625 [==============================] - 1s 2ms/step - loss: 0.2734 - accuracy: 0.8842 - val_loss: 0.3498 - val_accuracy: 0.8479\n",
            "Epoch 4/5\n",
            "625/625 [==============================] - 1s 2ms/step - loss: 0.2356 - accuracy: 0.9051 - val_loss: 0.3650 - val_accuracy: 0.8448\n",
            "Epoch 5/5\n",
            "625/625 [==============================] - 1s 2ms/step - loss: 0.1729 - accuracy: 0.9328 - val_loss: 0.4077 - val_accuracy: 0.8352\n",
            "157/157 [==============================] - 0s 1ms/step - loss: 0.3956 - accuracy: 0.8418\n",
            "Epoch 1/5\n",
            "625/625 [==============================] - 2s 2ms/step - loss: 0.4598 - accuracy: 0.7810 - val_loss: 0.3581 - val_accuracy: 0.8417\n",
            "Epoch 2/5\n",
            "625/625 [==============================] - 1s 2ms/step - loss: 0.3100 - accuracy: 0.8678 - val_loss: 0.3371 - val_accuracy: 0.8509\n",
            "Epoch 3/5\n",
            "625/625 [==============================] - 1s 2ms/step - loss: 0.2760 - accuracy: 0.8798 - val_loss: 0.3550 - val_accuracy: 0.8446\n",
            "Epoch 4/5\n",
            "625/625 [==============================] - 1s 2ms/step - loss: 0.2363 - accuracy: 0.9053 - val_loss: 0.3648 - val_accuracy: 0.8480\n",
            "Epoch 5/5\n",
            "625/625 [==============================] - 1s 2ms/step - loss: 0.1791 - accuracy: 0.9280 - val_loss: 0.4119 - val_accuracy: 0.8395\n",
            "157/157 [==============================] - 0s 1ms/step - loss: 0.3934 - accuracy: 0.8476\n",
            "Epoch 1/5\n",
            "625/625 [==============================] - 2s 2ms/step - loss: 0.6841 - accuracy: 0.5569 - val_loss: 0.5774 - val_accuracy: 0.7478\n",
            "Epoch 2/5\n",
            "625/625 [==============================] - 1s 2ms/step - loss: 0.5316 - accuracy: 0.7811 - val_loss: 0.4465 - val_accuracy: 0.8199\n",
            "Epoch 3/5\n",
            "625/625 [==============================] - 1s 2ms/step - loss: 0.4177 - accuracy: 0.8358 - val_loss: 0.3886 - val_accuracy: 0.8402\n",
            "Epoch 4/5\n",
            "625/625 [==============================] - 1s 2ms/step - loss: 0.3611 - accuracy: 0.8567 - val_loss: 0.3633 - val_accuracy: 0.8474\n",
            "Epoch 5/5\n",
            "625/625 [==============================] - 1s 2ms/step - loss: 0.3298 - accuracy: 0.8653 - val_loss: 0.3513 - val_accuracy: 0.8520\n",
            "157/157 [==============================] - 0s 1ms/step - loss: 0.3459 - accuracy: 0.8570\n",
            "Epoch 1/5\n",
            "625/625 [==============================] - 2s 2ms/step - loss: 0.6817 - accuracy: 0.5572 - val_loss: 0.5708 - val_accuracy: 0.7523\n",
            "Epoch 2/5\n",
            "625/625 [==============================] - 1s 2ms/step - loss: 0.5144 - accuracy: 0.7926 - val_loss: 0.4380 - val_accuracy: 0.8182\n",
            "Epoch 3/5\n",
            "625/625 [==============================] - 1s 2ms/step - loss: 0.4117 - accuracy: 0.8347 - val_loss: 0.3880 - val_accuracy: 0.8384\n",
            "Epoch 4/5\n",
            "625/625 [==============================] - 1s 2ms/step - loss: 0.3613 - accuracy: 0.8560 - val_loss: 0.3642 - val_accuracy: 0.8471\n",
            "Epoch 5/5\n",
            "625/625 [==============================] - 1s 2ms/step - loss: 0.3349 - accuracy: 0.8639 - val_loss: 0.3523 - val_accuracy: 0.8514\n",
            "157/157 [==============================] - 0s 1ms/step - loss: 0.3403 - accuracy: 0.8560\n",
            "Epoch 1/5\n",
            "625/625 [==============================] - 2s 2ms/step - loss: 0.6815 - accuracy: 0.5631 - val_loss: 0.5736 - val_accuracy: 0.7566\n",
            "Epoch 2/5\n",
            "625/625 [==============================] - 1s 2ms/step - loss: 0.5296 - accuracy: 0.7820 - val_loss: 0.4550 - val_accuracy: 0.8230\n",
            "Epoch 3/5\n",
            "625/625 [==============================] - 1s 2ms/step - loss: 0.4297 - accuracy: 0.8309 - val_loss: 0.3993 - val_accuracy: 0.8406\n",
            "Epoch 4/5\n",
            "625/625 [==============================] - 1s 2ms/step - loss: 0.3747 - accuracy: 0.8482 - val_loss: 0.3714 - val_accuracy: 0.8460\n",
            "Epoch 5/5\n",
            "625/625 [==============================] - 1s 2ms/step - loss: 0.3459 - accuracy: 0.8600 - val_loss: 0.3558 - val_accuracy: 0.8509\n",
            "157/157 [==============================] - 0s 1ms/step - loss: 0.3589 - accuracy: 0.8526\n",
            "Epoch 1/5\n",
            "625/625 [==============================] - 2s 2ms/step - loss: 0.6677 - accuracy: 0.5941 - val_loss: 0.5502 - val_accuracy: 0.7600\n",
            "Epoch 2/5\n",
            "625/625 [==============================] - 1s 2ms/step - loss: 0.5031 - accuracy: 0.7916 - val_loss: 0.4402 - val_accuracy: 0.8163\n",
            "Epoch 3/5\n",
            "625/625 [==============================] - 1s 2ms/step - loss: 0.4131 - accuracy: 0.8295 - val_loss: 0.3897 - val_accuracy: 0.8360\n",
            "Epoch 4/5\n",
            "625/625 [==============================] - 1s 2ms/step - loss: 0.3625 - accuracy: 0.8482 - val_loss: 0.3652 - val_accuracy: 0.8454\n",
            "Epoch 5/5\n",
            "625/625 [==============================] - 1s 2ms/step - loss: 0.3333 - accuracy: 0.8644 - val_loss: 0.3520 - val_accuracy: 0.8499\n",
            "157/157 [==============================] - 0s 1ms/step - loss: 0.3450 - accuracy: 0.8560\n",
            "Epoch 1/5\n",
            "625/625 [==============================] - 2s 2ms/step - loss: 0.6667 - accuracy: 0.5916 - val_loss: 0.5421 - val_accuracy: 0.7562\n",
            "Epoch 2/5\n",
            "625/625 [==============================] - 1s 2ms/step - loss: 0.4959 - accuracy: 0.7965 - val_loss: 0.4367 - val_accuracy: 0.8188\n",
            "Epoch 3/5\n",
            "625/625 [==============================] - 1s 2ms/step - loss: 0.4103 - accuracy: 0.8329 - val_loss: 0.3894 - val_accuracy: 0.8353\n",
            "Epoch 4/5\n",
            "625/625 [==============================] - 1s 2ms/step - loss: 0.3622 - accuracy: 0.8521 - val_loss: 0.3652 - val_accuracy: 0.8465\n",
            "Epoch 5/5\n",
            "625/625 [==============================] - 1s 2ms/step - loss: 0.3383 - accuracy: 0.8595 - val_loss: 0.3525 - val_accuracy: 0.8516\n",
            "157/157 [==============================] - 0s 1ms/step - loss: 0.3456 - accuracy: 0.8580\n",
            "Epoch 1/5\n",
            "625/625 [==============================] - 2s 2ms/step - loss: 0.6751 - accuracy: 0.5823 - val_loss: 0.5343 - val_accuracy: 0.7770\n",
            "Epoch 2/5\n",
            "625/625 [==============================] - 1s 2ms/step - loss: 0.4770 - accuracy: 0.8099 - val_loss: 0.4051 - val_accuracy: 0.8334\n",
            "Epoch 3/5\n",
            "625/625 [==============================] - 1s 2ms/step - loss: 0.3702 - accuracy: 0.8542 - val_loss: 0.3656 - val_accuracy: 0.8457\n",
            "Epoch 4/5\n",
            "625/625 [==============================] - 1s 2ms/step - loss: 0.3348 - accuracy: 0.8656 - val_loss: 0.3502 - val_accuracy: 0.8514\n",
            "Epoch 5/5\n",
            "625/625 [==============================] - 1s 2ms/step - loss: 0.3096 - accuracy: 0.8722 - val_loss: 0.3438 - val_accuracy: 0.8533\n",
            "157/157 [==============================] - 0s 1ms/step - loss: 0.3408 - accuracy: 0.8580\n",
            "Epoch 1/5\n",
            "625/625 [==============================] - 2s 2ms/step - loss: 0.6786 - accuracy: 0.5498 - val_loss: 0.5382 - val_accuracy: 0.7590\n",
            "Epoch 2/5\n",
            "625/625 [==============================] - 1s 2ms/step - loss: 0.4784 - accuracy: 0.7932 - val_loss: 0.4054 - val_accuracy: 0.8286\n",
            "Epoch 3/5\n",
            "625/625 [==============================] - 1s 2ms/step - loss: 0.3760 - accuracy: 0.8446 - val_loss: 0.3644 - val_accuracy: 0.8455\n",
            "Epoch 4/5\n",
            "625/625 [==============================] - 1s 2ms/step - loss: 0.3342 - accuracy: 0.8611 - val_loss: 0.3489 - val_accuracy: 0.8519\n",
            "Epoch 5/5\n",
            "625/625 [==============================] - 1s 2ms/step - loss: 0.3112 - accuracy: 0.8750 - val_loss: 0.3424 - val_accuracy: 0.8547\n",
            "157/157 [==============================] - 0s 1ms/step - loss: 0.3352 - accuracy: 0.8546\n",
            "Epoch 1/5\n",
            "625/625 [==============================] - 2s 2ms/step - loss: 0.6739 - accuracy: 0.5742 - val_loss: 0.5339 - val_accuracy: 0.7650\n",
            "Epoch 2/5\n",
            "625/625 [==============================] - 1s 2ms/step - loss: 0.4783 - accuracy: 0.7970 - val_loss: 0.4001 - val_accuracy: 0.8313\n",
            "Epoch 3/5\n",
            "625/625 [==============================] - 1s 2ms/step - loss: 0.3742 - accuracy: 0.8438 - val_loss: 0.3606 - val_accuracy: 0.8487\n",
            "Epoch 4/5\n",
            "625/625 [==============================] - 1s 2ms/step - loss: 0.3339 - accuracy: 0.8619 - val_loss: 0.3461 - val_accuracy: 0.8536\n",
            "Epoch 5/5\n",
            "625/625 [==============================] - 1s 2ms/step - loss: 0.3103 - accuracy: 0.8722 - val_loss: 0.3397 - val_accuracy: 0.8544\n",
            "157/157 [==============================] - 0s 1ms/step - loss: 0.3416 - accuracy: 0.8510\n",
            "Epoch 1/5\n",
            "625/625 [==============================] - 2s 2ms/step - loss: 0.6739 - accuracy: 0.5830 - val_loss: 0.5249 - val_accuracy: 0.7743\n",
            "Epoch 2/5\n",
            "625/625 [==============================] - 1s 2ms/step - loss: 0.4712 - accuracy: 0.8067 - val_loss: 0.4039 - val_accuracy: 0.8354\n",
            "Epoch 3/5\n",
            "625/625 [==============================] - 1s 2ms/step - loss: 0.3766 - accuracy: 0.8444 - val_loss: 0.3640 - val_accuracy: 0.8480\n",
            "Epoch 4/5\n",
            "625/625 [==============================] - 1s 2ms/step - loss: 0.3400 - accuracy: 0.8575 - val_loss: 0.3480 - val_accuracy: 0.8523\n",
            "Epoch 5/5\n",
            "625/625 [==============================] - 1s 2ms/step - loss: 0.3150 - accuracy: 0.8688 - val_loss: 0.3413 - val_accuracy: 0.8549\n",
            "157/157 [==============================] - 0s 1ms/step - loss: 0.3360 - accuracy: 0.8610\n",
            "Epoch 1/5\n",
            "625/625 [==============================] - 2s 2ms/step - loss: 0.6789 - accuracy: 0.5651 - val_loss: 0.5492 - val_accuracy: 0.7660\n",
            "Epoch 2/5\n",
            "625/625 [==============================] - 1s 2ms/step - loss: 0.4941 - accuracy: 0.8084 - val_loss: 0.4095 - val_accuracy: 0.8296\n",
            "Epoch 3/5\n",
            "625/625 [==============================] - 1s 2ms/step - loss: 0.3811 - accuracy: 0.8460 - val_loss: 0.3651 - val_accuracy: 0.8439\n",
            "Epoch 4/5\n",
            "625/625 [==============================] - 1s 2ms/step - loss: 0.3390 - accuracy: 0.8622 - val_loss: 0.3488 - val_accuracy: 0.8514\n",
            "Epoch 5/5\n",
            "625/625 [==============================] - 1s 2ms/step - loss: 0.3173 - accuracy: 0.8710 - val_loss: 0.3423 - val_accuracy: 0.8526\n",
            "157/157 [==============================] - 0s 1ms/step - loss: 0.3338 - accuracy: 0.8618\n",
            "Epoch 1/5\n",
            "625/625 [==============================] - 2s 3ms/step - loss: 0.6656 - accuracy: 0.5877 - val_loss: 0.4865 - val_accuracy: 0.7986\n",
            "Epoch 2/5\n",
            "625/625 [==============================] - 1s 2ms/step - loss: 0.4243 - accuracy: 0.8286 - val_loss: 0.3749 - val_accuracy: 0.8422\n",
            "Epoch 3/5\n",
            "625/625 [==============================] - 1s 2ms/step - loss: 0.3414 - accuracy: 0.8627 - val_loss: 0.3518 - val_accuracy: 0.8516\n",
            "Epoch 4/5\n",
            "625/625 [==============================] - 1s 2ms/step - loss: 0.3143 - accuracy: 0.8693 - val_loss: 0.3461 - val_accuracy: 0.8550\n",
            "Epoch 5/5\n",
            "625/625 [==============================] - 1s 2ms/step - loss: 0.2955 - accuracy: 0.8787 - val_loss: 0.3443 - val_accuracy: 0.8548\n",
            "157/157 [==============================] - 0s 1ms/step - loss: 0.3395 - accuracy: 0.8602\n",
            "Epoch 1/5\n",
            "625/625 [==============================] - 2s 3ms/step - loss: 0.6533 - accuracy: 0.6165 - val_loss: 0.4666 - val_accuracy: 0.8113\n",
            "Epoch 2/5\n",
            "625/625 [==============================] - 1s 2ms/step - loss: 0.4156 - accuracy: 0.8324 - val_loss: 0.3690 - val_accuracy: 0.8449\n",
            "Epoch 3/5\n",
            "625/625 [==============================] - 1s 2ms/step - loss: 0.3443 - accuracy: 0.8591 - val_loss: 0.3469 - val_accuracy: 0.8500\n",
            "Epoch 4/5\n",
            "625/625 [==============================] - 1s 2ms/step - loss: 0.3173 - accuracy: 0.8679 - val_loss: 0.3408 - val_accuracy: 0.8531\n",
            "Epoch 5/5\n",
            "625/625 [==============================] - 1s 2ms/step - loss: 0.2984 - accuracy: 0.8787 - val_loss: 0.3381 - val_accuracy: 0.8565\n",
            "157/157 [==============================] - 0s 1ms/step - loss: 0.3310 - accuracy: 0.8586\n",
            "Epoch 1/5\n",
            "625/625 [==============================] - 2s 2ms/step - loss: 0.6475 - accuracy: 0.6231 - val_loss: 0.4530 - val_accuracy: 0.8125\n",
            "Epoch 2/5\n",
            "625/625 [==============================] - 1s 2ms/step - loss: 0.4034 - accuracy: 0.8385 - val_loss: 0.3652 - val_accuracy: 0.8480\n",
            "Epoch 3/5\n",
            "625/625 [==============================] - 1s 2ms/step - loss: 0.3398 - accuracy: 0.8590 - val_loss: 0.3454 - val_accuracy: 0.8553\n",
            "Epoch 4/5\n",
            "625/625 [==============================] - 1s 2ms/step - loss: 0.3124 - accuracy: 0.8697 - val_loss: 0.3400 - val_accuracy: 0.8574\n",
            "Epoch 5/5\n",
            "625/625 [==============================] - 1s 2ms/step - loss: 0.2979 - accuracy: 0.8768 - val_loss: 0.3375 - val_accuracy: 0.8564\n",
            "157/157 [==============================] - 0s 1ms/step - loss: 0.3392 - accuracy: 0.8544\n",
            "Epoch 1/5\n",
            "625/625 [==============================] - 2s 2ms/step - loss: 0.6428 - accuracy: 0.6227 - val_loss: 0.4503 - val_accuracy: 0.8069\n",
            "Epoch 2/5\n",
            "625/625 [==============================] - 1s 2ms/step - loss: 0.4000 - accuracy: 0.8360 - val_loss: 0.3701 - val_accuracy: 0.8418\n",
            "Epoch 3/5\n",
            "625/625 [==============================] - 1s 2ms/step - loss: 0.3398 - accuracy: 0.8554 - val_loss: 0.3460 - val_accuracy: 0.8538\n",
            "Epoch 4/5\n",
            "625/625 [==============================] - 1s 2ms/step - loss: 0.3176 - accuracy: 0.8686 - val_loss: 0.3399 - val_accuracy: 0.8564\n",
            "Epoch 5/5\n",
            "625/625 [==============================] - 1s 2ms/step - loss: 0.2981 - accuracy: 0.8766 - val_loss: 0.3385 - val_accuracy: 0.8546\n",
            "157/157 [==============================] - 0s 1ms/step - loss: 0.3354 - accuracy: 0.8624\n",
            "Epoch 1/5\n",
            "625/625 [==============================] - 2s 2ms/step - loss: 0.6407 - accuracy: 0.6440 - val_loss: 0.4547 - val_accuracy: 0.8050\n",
            "Epoch 2/5\n",
            "625/625 [==============================] - 1s 2ms/step - loss: 0.4058 - accuracy: 0.8319 - val_loss: 0.3705 - val_accuracy: 0.8397\n",
            "Epoch 3/5\n",
            "625/625 [==============================] - 1s 2ms/step - loss: 0.3405 - accuracy: 0.8553 - val_loss: 0.3489 - val_accuracy: 0.8495\n",
            "Epoch 4/5\n",
            "625/625 [==============================] - 1s 2ms/step - loss: 0.3164 - accuracy: 0.8687 - val_loss: 0.3420 - val_accuracy: 0.8532\n",
            "Epoch 5/5\n",
            "625/625 [==============================] - 1s 2ms/step - loss: 0.3038 - accuracy: 0.8763 - val_loss: 0.3418 - val_accuracy: 0.8532\n",
            "157/157 [==============================] - 0s 1ms/step - loss: 0.3343 - accuracy: 0.8596\n",
            "Epoch 1/5\n",
            "782/782 [==============================] - 2s 2ms/step - loss: 0.6297 - accuracy: 0.6439 - val_loss: 0.4197 - val_accuracy: 0.8246\n",
            "Epoch 2/5\n",
            "782/782 [==============================] - 2s 2ms/step - loss: 0.3883 - accuracy: 0.8363 - val_loss: 0.3549 - val_accuracy: 0.8490\n",
            "Epoch 3/5\n",
            "782/782 [==============================] - 2s 2ms/step - loss: 0.3226 - accuracy: 0.8635 - val_loss: 0.3418 - val_accuracy: 0.8562\n",
            "Epoch 4/5\n",
            "782/782 [==============================] - 2s 2ms/step - loss: 0.3112 - accuracy: 0.8688 - val_loss: 0.3394 - val_accuracy: 0.8570\n",
            "Epoch 5/5\n",
            "782/782 [==============================] - 2s 2ms/step - loss: 0.3013 - accuracy: 0.8769 - val_loss: 0.3372 - val_accuracy: 0.8562\n"
          ],
          "name": "stdout"
        },
        {
          "output_type": "execute_result",
          "data": {
            "text/plain": [
              "GridSearchCV(cv=None, error_score=nan,\n",
              "             estimator=<tensorflow.python.keras.wrappers.scikit_learn.KerasRegressor object at 0x7f8d3fdfb050>,\n",
              "             iid='deprecated', n_jobs=None,\n",
              "             param_grid={'learning_rate': [0.01, 0.001, 0.0001],\n",
              "                         'n_units': [8, 16, 32]},\n",
              "             pre_dispatch='2*n_jobs', refit=True, return_train_score=False,\n",
              "             scoring=None, verbose=0)"
            ]
          },
          "metadata": {
            "tags": []
          },
          "execution_count": 45
        }
      ]
    },
    {
      "cell_type": "markdown",
      "metadata": {
        "id": "aadmkiOoyM94"
      },
      "source": [
        "Print the best hyper-parameters, and evealuate the best model on the test set."
      ]
    },
    {
      "cell_type": "code",
      "metadata": {
        "id": "b0nL5OZkylNX",
        "colab": {
          "base_uri": "https://localhost:8080/"
        },
        "outputId": "433d7fb1-5378-45c7-d3b5-b97440eda741"
      },
      "source": [
        "print(grid_search.best_params_)\n",
        "\n",
        "model = grid_search.best_estimator_.model\n",
        "model.evaluate(X_test, y_test)"
      ],
      "execution_count": 46,
      "outputs": [
        {
          "output_type": "stream",
          "text": [
            "{'learning_rate': 0.0001, 'n_units': 32}\n",
            "391/391 [==============================] - 0s 997us/step - loss: 0.3199 - accuracy: 0.8653\n"
          ],
          "name": "stdout"
        },
        {
          "output_type": "execute_result",
          "data": {
            "text/plain": [
              "[0.31987273693084717, 0.8652799725532532]"
            ]
          },
          "metadata": {
            "tags": []
          },
          "execution_count": 46
        }
      ]
    },
    {
      "cell_type": "markdown",
      "metadata": {
        "id": "jMxlgmMZsE8w"
      },
      "source": [
        "the best result coincides with the most complex model (the one with highest number of units) combined with the lower learning rate that gives more regularization. This is the case where the model complexity is not high enough to give overfitting as in the model previously provosed. In fact in the previous the model complexity is increased too much as a consequence of the presence of a third hidden layer that gives too many new parameters to tune."
      ]
    }
  ]
}