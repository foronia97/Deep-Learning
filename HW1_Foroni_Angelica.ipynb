{
  "nbformat": 4,
  "nbformat_minor": 0,
  "metadata": {
    "colab": {
      "name": "HW1.ipynb",
      "provenance": [],
      "collapsed_sections": [],
      "toc_visible": true
    },
    "kernelspec": {
      "name": "python3",
      "display_name": "Python 3"
    }
  },
  "cells": [
    {
      "cell_type": "markdown",
      "metadata": {
        "id": "d8MTQQX3WaFa"
      },
      "source": [
        "#**HW 1 : From Perceptron to DNN**\n",
        "\n",
        "In this first homework, we are going to write our own simple feedforward neural network using just Python and NumPy (the standard numeric library for Python). We will start by implementing just a simple neuron, or perceptron, then we define the training algorithm for this simple model.\n",
        "The second part consists in defining a simple neural network to perform digits classification.\n"
      ]
    },
    {
      "cell_type": "markdown",
      "metadata": {
        "id": "-bEFm73cYFQy"
      },
      "source": [
        "## Exercise 1.1: Perceptron\n",
        "\n",
        "In this first exercise, we will implement a simple neuron, or perceptron, as visualized below. We will have just three inputs and one output neuron (we will skip the bias for now).\n",
        "Notice how the perceptron just performs a sum of the individual inputs multiplied by the corresponding weights mapped through an activation function $f(\\cdot)$.  This can also be expressed as a dot product of the weight vector $\\textbf{W}$ and the input vector $\\textbf{x}$. Thus: $\\hat{y}=f(\\textbf{W}^T \\textbf{x})$."
      ]
    },
    {
      "cell_type": "markdown",
      "metadata": {
        "id": "hDlidWmiYuKB"
      },
      "source": [
        "In this first part we will implement the perpetron by using [numpy](https://docs.scipy.org/doc/numpy/reference/) library."
      ]
    },
    {
      "cell_type": "code",
      "metadata": {
        "id": "i0UCur_TYckH"
      },
      "source": [
        "import numpy as np"
      ],
      "execution_count": 240,
      "outputs": []
    },
    {
      "cell_type": "markdown",
      "metadata": {
        "id": "JQONq1k6Y1Zx"
      },
      "source": [
        "### Training data\n",
        "\n",
        "Let's consider a very simple dataset. The dataset is composed of the inputs value $x \\in \\mathbb{R}^3$ and the desired target values. Below, each row is a single example: the first three columns the input and the last column the target output.\n",
        "\n",
        "    0 0 1  0  \n",
        "    0 1 1  0  \n",
        "    1 0 1  1  \n",
        "    1 1 1  1  \n",
        "\n",
        "Note that our target outputs are equal to the first column of the input. Therefore the task that the model should learn is very simple. We will see if it can learn that just from the data.\n",
        "\n",
        "Now let's define the `X` and `y` matrices."
      ]
    },
    {
      "cell_type": "code",
      "metadata": {
        "id": "u1FzAUxhY9PA",
        "colab": {
          "base_uri": "https://localhost:8080/"
        },
        "outputId": "96648f87-3bd7-4cfb-f1a7-355af5ad5b0a"
      },
      "source": [
        "# Our input data is a matrix, each row is one input sample\n",
        "X = np.array([[0,0,1],\n",
        "              [0,1,1],\n",
        "              [1,0,1],\n",
        "              [1,1,1]])\n",
        "    \n",
        "# The target output as a column vector in 2-D array format (.T means transpose)\n",
        "y = np.array([[0,0,1,1]]).T\n",
        "\n",
        "print('X=',X)\n",
        "print('y=',y)"
      ],
      "execution_count": 241,
      "outputs": [
        {
          "output_type": "stream",
          "text": [
            "X= [[0 0 1]\n",
            " [0 1 1]\n",
            " [1 0 1]\n",
            " [1 1 1]]\n",
            "y= [[0]\n",
            " [0]\n",
            " [1]\n",
            " [1]]\n"
          ],
          "name": "stdout"
        }
      ]
    },
    {
      "cell_type": "markdown",
      "metadata": {
        "id": "z-W8wMnoZH71"
      },
      "source": [
        "### Activation function\n",
        "\n",
        "As we said before, in order to define a perceptro we need to define the activation function $f(\\cdot)$. There are many possibile activation function that can be use. Let's plot some commonly used activation functions.\n",
        "\n",
        "\n"
      ]
    },
    {
      "cell_type": "code",
      "metadata": {
        "id": "Fi5ZK9zKZssu",
        "colab": {
          "base_uri": "https://localhost:8080/",
          "height": 281
        },
        "outputId": "b9968cad-eb0e-49aa-cc7f-0f9f9dbcafbf"
      },
      "source": [
        "import matplotlib.pyplot as plt \n",
        "x = np.arange(-4,4,.01)\n",
        "plt.figure()\n",
        "plt.plot(x, np.maximum(x,0), label='ReLu')\n",
        "plt.plot(x, 1/(1+np.exp(-x)), label='sigmoid')\n",
        "plt.plot(x, np.tanh(x), label='tanh')\n",
        "plt.axis([-4, 4, -1.1, 1.1])\n",
        "plt.title('Activation functions')\n",
        "l = plt.legend()\n",
        "\n",
        "# Delete temporary variables, so not to cause any confusion later :-)\n",
        "del x, l"
      ],
      "execution_count": 242,
      "outputs": [
        {
          "output_type": "display_data",
          "data": {
            "image/png": "[encoded data removed]",
            "text/plain": [
              "<Figure size 432x288 with 1 Axes>"
            ]
          },
          "metadata": {
            "tags": [],
            "needs_background": "light"
          }
        }
      ]
    },
    {
      "cell_type": "markdown",
      "metadata": {
        "id": "jdmJ6-qaZjuZ"
      },
      "source": [
        "In this particular case we will use the sigmoid function. So, let's define $f(\\cdot)$ as the sigmoid function\n",
        "\n",
        "$\\sigma(x)=\\frac{1}{1+\\exp^{-x}}$"
      ]
    },
    {
      "cell_type": "code",
      "metadata": {
        "id": "wwnk5RgKZRox"
      },
      "source": [
        "def f(x):\n",
        "    return 1/(1+np.exp(-x))"
      ],
      "execution_count": 243,
      "outputs": []
    },
    {
      "cell_type": "markdown",
      "metadata": {
        "id": "vX-62n3Io0XU"
      },
      "source": [
        "### Weight initialization\n",
        "\n",
        "We have to initialise our weights. Let's initialize them randomly, so that their mean is zero. The weights matrix map the input space into the output space, therefore in our case $\\mathbf{W} \\in \\mathbb{R}^{3 \\times 1}$"
      ]
    },
    {
      "cell_type": "code",
      "metadata": {
        "id": "9f83YkaNtd5h",
        "colab": {
          "base_uri": "https://localhost:8080/"
        },
        "outputId": "f871bdc5-8050-4c4d-c3f1-5eda7ea051c0"
      },
      "source": [
        "np.random.seed([42])\n",
        "\n",
        "# initialize weights randomly with mean 0\n",
        "W = 2*np.random.random((3,1)) - 1\n",
        "\n",
        "print('W=', W)"
      ],
      "execution_count": 244,
      "outputs": [
        {
          "output_type": "stream",
          "text": [
            "W= [[ 0.2788536 ]\n",
            " [-0.94997849]\n",
            " [-0.44994136]]\n"
          ],
          "name": "stdout"
        }
      ]
    },
    {
      "cell_type": "markdown",
      "metadata": {
        "id": "pZd-aQxAuX49"
      },
      "source": [
        "### Forward propagation\n",
        "\n",
        "Now let's try one round of forward propagation.  This means taking an input sample and moving it forward through the network, finally calculating the output of the network.\n",
        "\n",
        "For our single neuron this is simply $\\hat{\\mathbf{y}} = f(\\mathbf{W}^T \\mathbf{x})$, where $\\mathbf{x}$ is one input vector.\n",
        "\n",
        "each input sample is arranged as a row of the matrix `X`, therefore we can access the first row by `X[0]`. Let's store it in the variable `X0` for easier access. We'll use `reshape` to make sure it's expressed as a column vector."
      ]
    },
    {
      "cell_type": "code",
      "metadata": {
        "id": "9gTx4QxUumvQ",
        "colab": {
          "base_uri": "https://localhost:8080/"
        },
        "outputId": "9e4bf2a2-3541-4657-8b9a-8a13e3d9d523"
      },
      "source": [
        "X0=np.reshape(X[0], (3,1))\n",
        "print(X0)"
      ],
      "execution_count": 245,
      "outputs": [
        {
          "output_type": "stream",
          "text": [
            "[[0]\n",
            " [0]\n",
            " [1]]\n"
          ],
          "name": "stdout"
        }
      ]
    },
    {
      "cell_type": "markdown",
      "metadata": {
        "id": "IpDCnmxWurjC"
      },
      "source": [
        "The output $\\hat{y}$ for the first input can be calculated according to the formula given above"
      ]
    },
    {
      "cell_type": "code",
      "metadata": {
        "id": "idDZfTVKuyPf",
        "colab": {
          "base_uri": "https://localhost:8080/"
        },
        "outputId": "e12c6f68-9bb2-4105-d205-3e6b9ab0328f"
      },
      "source": [
        "y_out = f(np.dot(W.T, X0))\n",
        "\n",
        "print('y_out=', y_out)"
      ],
      "execution_count": 246,
      "outputs": [
        {
          "output_type": "stream",
          "text": [
            "y_out= [[0.38937471]]\n"
          ],
          "name": "stdout"
        }
      ]
    },
    {
      "cell_type": "markdown",
      "metadata": {
        "id": "Oda3Y3btu8Uz"
      },
      "source": [
        "the target result is stored in `y[0]`.  If you check back, you can see we defined it to be 0. You can see that our network is pretty far away from the right answer. This is why we need to backpropagate the error, to adjust the weights in the right direction."
      ]
    },
    {
      "cell_type": "markdown",
      "metadata": {
        "id": "oGvgZCDFu-EM"
      },
      "source": [
        "### Backpropagation\n",
        "\n",
        "The next step is to update the weights by propagating the error backward in the network.  Exactly how this is done depends on the activation function, or more specifically its derivative. The activation function of the considered model is the sigmoid, its derivative is:\n",
        "\n",
        "$\\sigma(x) \\cdot (1-\\sigma(x))$\n",
        "\n",
        "Recall that the weight update is given as $\\Delta w_{ji} = -\\epsilon \\delta_j x_i$. Our network has only one layer, so $x_i$ is just the input, i.e., and a single output neuron so there is no need for index $j$. \n",
        "\n",
        "In matrix form we can calculate this for all the weights:\n",
        "\n",
        "$$\\Delta \\textbf{W} = -\\epsilon \\delta \\textbf{x}_0$$\n",
        "where $\\delta$ is the gradient (grad in the code) and $\\textbf{x}_0$ is our first input sample in variable `X0`.\n",
        "\n",
        "Recall that $y$ is the desired output, i.e. `y[0]` in the Python code, and $\\hat{y}$ is `y_out` here."
      ]
    },
    {
      "cell_type": "code",
      "metadata": {
        "id": "bs0EG3n9ve6J",
        "colab": {
          "base_uri": "https://localhost:8080/"
        },
        "outputId": "797743a2-ca23-46d5-fa4c-64b76a260127"
      },
      "source": [
        "# the learning rate determines the step size in the gradient descent, you can experiment with different values if you want\n",
        "learning_rate = 0.5 \n",
        "\n",
        "# compute the gradient term\n",
        "grad = (y_out - y[0])*y_out*(1 - y_out)\n",
        "\n",
        "# Calculate the weight update\n",
        "W_delta = -learning_rate * grad * X0\n",
        "\n",
        "print(W_delta)\n",
        "\n",
        "# Update the weights\n",
        "W += W_delta"
      ],
      "execution_count": 247,
      "outputs": [
        {
          "output_type": "stream",
          "text": [
            "[[-0.        ]\n",
            " [-0.        ]\n",
            " [-0.04628926]]\n"
          ],
          "name": "stdout"
        }
      ]
    },
    {
      "cell_type": "markdown",
      "metadata": {
        "id": "Ha1gJ0n9v2oV"
      },
      "source": [
        "Let's try a forward propagation again with the same input."
      ]
    },
    {
      "cell_type": "code",
      "metadata": {
        "id": "fh40oHl2v6rs",
        "colab": {
          "base_uri": "https://localhost:8080/"
        },
        "outputId": "d0198d1d-67f1-4a52-f119-fe2cd77e1511"
      },
      "source": [
        "y_out=f(np.dot(W.T, X0))\n",
        "\n",
        "print('y_out=', y_out)"
      ],
      "execution_count": 248,
      "outputs": [
        {
          "output_type": "stream",
          "text": [
            "y_out= [[0.37842689]]\n"
          ],
          "name": "stdout"
        }
      ]
    },
    {
      "cell_type": "markdown",
      "metadata": {
        "id": "lHc3os_AL54y"
      },
      "source": [
        "You should notice that the result has moved (very slightly) towards the correct answer (that is zero). In order to converge to the right value we have to perform more iterations!"
      ]
    },
    {
      "cell_type": "markdown",
      "metadata": {
        "id": "8INLy50fyORN"
      },
      "source": [
        "### Training iterations \n",
        "\n",
        "Let's define a complete training procedure for our model. In each iteration we have to perform the forward propagation, then we'll check how much the output differs from the target and propagate the error back (backward propagation).  We'll do this for each sample data point and then iterate this over and over again using a for loop."
      ]
    },
    {
      "cell_type": "code",
      "metadata": {
        "id": "PPXJwQm4ycgH",
        "colab": {
          "base_uri": "https://localhost:8080/"
        },
        "outputId": "b09e0c71-56b1-489f-e216-c62c82593fd5"
      },
      "source": [
        "# For the training we need to iterate over the data set several times\n",
        "num_iters = 1000\n",
        "\n",
        "learning_rate = 0.5\n",
        "\n",
        "# We'll also calculate the mean square error (MSE) in every round so we can see how it develops,\n",
        "# mse is just an array to store these for each round\n",
        "mse = np.zeros(num_iters)\n",
        "\n",
        "# For-loop for the iterations\n",
        "for it in range(num_iters):\n",
        "    \n",
        "    # For-loop going over each sample in X\n",
        "    for n in range(len(X)):\n",
        "        # Extract the n_th sample and the corresponding desired output\n",
        "        x_n = np.reshape(X[n], (3,1))\n",
        "        # Get the correponding target value\n",
        "        y_target = y[n]\n",
        "        \n",
        "        # Forward propagation\n",
        "        y_out = f(np.dot(W.T, x_n))\n",
        "\n",
        "        # Let's keep track of the sum of squared errors\n",
        "        mse[it] += (y_out - y_target)**2\n",
        "    \n",
        "        # compute the gradient\n",
        "        grad = (y_out - y_target)*y_out*(1 - y_out) \n",
        "    \n",
        "        # Calculate the weights update\n",
        "        W_delta = -learning_rate * grad * x_n\n",
        "\n",
        "        # Update the weights\n",
        "        W += W_delta\n",
        "\n",
        "\n",
        "\n",
        "    # Divide by the number of elements to get the mean of the squared errors\n",
        "    mse[it] /= len(X)\n",
        "\n",
        "y_out = f(np.dot(X, W))\n",
        "print(\"Output after training, y_out\")\n",
        "print(y_out)\n",
        "print(\"Target output, y\")\n",
        "print(y)"
      ],
      "execution_count": 249,
      "outputs": [
        {
          "output_type": "stream",
          "text": [
            "Output after training, y_out\n",
            "[[0.04636779]\n",
            " [0.03694572]\n",
            " [0.97020561]\n",
            " [0.96253637]]\n",
            "Target output, y\n",
            "[[0]\n",
            " [0]\n",
            " [1]\n",
            " [1]]\n"
          ],
          "name": "stdout"
        }
      ]
    },
    {
      "cell_type": "markdown",
      "metadata": {
        "id": "yT1qLBvBzpDc"
      },
      "source": [
        "After the training phase, the output of the network is pretty close to the target output. \n",
        "\n",
        "How many iterations were required in order to obtain this result? We have set the number of the iteration to 1000, but it is interesting to study the trend of the error trought the iterations. In the next homework, we will analyze how to select the right number of epochs."
      ]
    },
    {
      "cell_type": "code",
      "metadata": {
        "id": "a6RsKlA7zrw3",
        "colab": {
          "base_uri": "https://localhost:8080/",
          "height": 265
        },
        "outputId": "c287c7a5-8842-4914-a11d-de92f50d4e36"
      },
      "source": [
        "plt.figure()\n",
        "plt.plot(range(num_iters), mse, label=\"MSE\")\n",
        "l = plt.legend()"
      ],
      "execution_count": 250,
      "outputs": [
        {
          "output_type": "display_data",
          "data": {
            "image/png": "[encoded data removed]",
            "text/plain": [
              "<Figure size 432x288 with 1 Axes>"
            ]
          },
          "metadata": {
            "tags": [],
            "needs_background": "light"
          }
        }
      ]
    },
    {
      "cell_type": "markdown",
      "metadata": {
        "id": "hiS6hr-eMWR1"
      },
      "source": [
        "You should see the error going down pretty quickly in the beginning and then slowing down."
      ]
    },
    {
      "cell_type": "markdown",
      "metadata": {
        "id": "Zoz4y02rxorc"
      },
      "source": [
        "### Batch training\n",
        "\n",
        "With real-world data it is very slow to handle each example one-by-one like we did above.  Instead one typically uses so called mini batches of several input examples at once.\n",
        "\n",
        "Lets consider a subset of samples from the training set. Each of these samples is one row in $\\textbf{X}$, instead of a single column vector as before. The forward propagation step looks a bit different mathematically: $\\hat{\\textbf{y}} = f(\\textbf{X}\\textbf{W})$."
      ]
    },
    {
      "cell_type": "code",
      "metadata": {
        "id": "pwc6hfIlxspG",
        "colab": {
          "base_uri": "https://localhost:8080/"
        },
        "outputId": "713ce6ba-ec37-4055-afa9-8a269409926b"
      },
      "source": [
        "y_out = f(np.dot(X, W))\n",
        "print(y_out)"
      ],
      "execution_count": 251,
      "outputs": [
        {
          "output_type": "stream",
          "text": [
            "[[0.04636779]\n",
            " [0.03694572]\n",
            " [0.97020561]\n",
            " [0.96253637]]\n"
          ],
          "name": "stdout"
        }
      ]
    },
    {
      "cell_type": "markdown",
      "metadata": {
        "id": "H8pBN8voyLGv"
      },
      "source": [
        "Then we will get the corresponding output (each value in `y_out`) for each input (each row in `X`) in single matrix multiplication.  The error and weight updates can similarly all be calculated in a single go using matrix multiplications similarly to the steps we did above with single vectors.\n",
        "\n",
        "In these exercises, we'll stick to just doing one sample at a time, as the batch mode makes it a bit more complicated to understand."
      ]
    },
    {
      "cell_type": "markdown",
      "metadata": {
        "id": "7wv8Vplo1F7E"
      },
      "source": [
        "## Exercise 1.2. The XOR problem"
      ]
    },
    {
      "cell_type": "markdown",
      "metadata": {
        "id": "oiI7bIaY1OVI"
      },
      "source": [
        "Now let's try a slightly more difficult example. We'll use the same input data, but a different desired output. \n",
        "\n",
        "    0 0 1  0  \n",
        "    0 1 1  1  \n",
        "    1 0 1  1  \n",
        "    1 1 1  0 \n",
        "\n",
        "In particular, the new input-output configuration represents the XOR problem (the last column of the input data is just ones, and thus irrelevant). This problem is interesting because it can not be solved by using a single layer perceptron. Indeed, you will need (at least) a two-layer network to solve it.\n",
        "In this exercise we will first show that the network that we defined in the previous exercise, can not solve the XOR problem,  then, we will define a 2 layer perceptron able to compute the correct solution."
      ]
    },
    {
      "cell_type": "code",
      "metadata": {
        "id": "MuSfKOpD1TqJ"
      },
      "source": [
        "import numpy as np\n",
        "import matplotlib.pyplot as plt \n",
        "\n",
        "np.random.seed([42])\n",
        "\n",
        "X = np.array([[0,0,1],\n",
        "              [0,1,1],\n",
        "              [1,0,1],\n",
        "              [1,1,1]])\n",
        "    \n",
        "y = np.array([[0,1,1,0]]).T"
      ],
      "execution_count": 252,
      "outputs": []
    },
    {
      "cell_type": "markdown",
      "metadata": {
        "id": "5FphvrH-1e5O"
      },
      "source": [
        "As we did in the previous exercise let's initialize the weights and define the activation function, also in this exercise we will use the sigmoid function."
      ]
    },
    {
      "cell_type": "code",
      "metadata": {
        "id": "aMeTD8cb1kNm"
      },
      "source": [
        "# Weights initialization\n",
        "W = 2*np.random.random((3,1)) - 1\n",
        "\n",
        "# Activation function (sigmoid)\n",
        "def f(x):\n",
        "    return 1/(1+np.exp(-x))"
      ],
      "execution_count": 253,
      "outputs": []
    },
    {
      "cell_type": "markdown",
      "metadata": {
        "id": "unbPv9pn3kVE"
      },
      "source": [
        "Now, let's run the network previously defined to check if it is able to solve the XOR problem."
      ]
    },
    {
      "cell_type": "code",
      "metadata": {
        "id": "PGlUPnvi31fL",
        "colab": {
          "base_uri": "https://localhost:8080/"
        },
        "outputId": "2583552e-fa72-4d22-80a2-ddbc5db38050"
      },
      "source": [
        "num_iters = 1000\n",
        "learning_rate = 0.5\n",
        "\n",
        "for it in range(num_iters):\n",
        "    for n in range(len(X)):\n",
        "        x_n = np.reshape(X[n], (3,1))\n",
        "        y_target = y[n]\n",
        "        \n",
        "        # Forward propagation\n",
        "        y_out = f(np.dot(W.T, x_n))\n",
        "\n",
        "        # Compute the Gradient\n",
        "        grad = (y_out - y_target)*y_out*(1 - y_out)\n",
        "    \n",
        "        # Calculate the weights update\n",
        "        W_delta = -learning_rate * grad * x_n\n",
        "\n",
        "        # Update the weights\n",
        "        W += W_delta\n",
        "\n",
        "\n",
        "# Now let's see the output for each input sample with the trained weights\n",
        "# Using batch mode we can do this in a single line\n",
        "y_out = f(np.dot(X, W))\n",
        "print(\"Output after training, y_out\")\n",
        "print(y_out)\n",
        "print(\"Desired output, y\")\n",
        "print(y)\n",
        "\n"
      ],
      "execution_count": 254,
      "outputs": [
        {
          "output_type": "stream",
          "text": [
            "Output after training, y_out\n",
            "[[0.516106  ]\n",
            " [0.5       ]\n",
            " [0.483894  ]\n",
            " [0.46782138]]\n",
            "Desired output, y\n",
            "[[0]\n",
            " [1]\n",
            " [1]\n",
            " [0]]\n"
          ],
          "name": "stdout"
        }
      ]
    },
    {
      "cell_type": "markdown",
      "metadata": {
        "id": "myYbripS39R-"
      },
      "source": [
        "### Two layers network \n",
        "As you can see the network is not able to solve the problem, it's not even close. You can try to increase the number of iterations, but it won't help.\n",
        "Let's add a single hidden layer, for example with 4 hidden nodes (you can experiment with this number).\n",
        "The input to the network is $\\mathbf{x}$ as before.  The first hidden layer calculates $\\textbf{h} = f(\\textbf{W}_1^Tx)$, note that $\\textbf{W}_1$ is now $\\in \\mathbb{R}^{3 \\times 4}$.  The output layer calculates $\\hat{y} = f(\\textbf{W}_2^T\\textbf{h})$ (note that $\\hat{y}$ is named y_out in th code), where ${W}_2 \\in \\mathbb{R}^{4 \\times 1}$.\n",
        "\n",
        "We'll start by initializing the weights randomly."
      ]
    },
    {
      "cell_type": "code",
      "metadata": {
        "id": "Llke92kx4MRR"
      },
      "source": [
        "num_hidden = 4\n",
        "\n",
        "# initialize weights randomly with mean 0\n",
        "W_1 = 2*np.random.random((3,num_hidden)) - 1\n",
        "W_2 = 2*np.random.random((num_hidden,1)) - 1"
      ],
      "execution_count": 255,
      "outputs": []
    },
    {
      "cell_type": "markdown",
      "metadata": {
        "id": "QnQfHhXV7dO0"
      },
      "source": [
        "We have to define the training procedure in order to manage the two layers"
      ]
    },
    {
      "cell_type": "code",
      "metadata": {
        "id": "slOBh8IJ4tSK",
        "colab": {
          "base_uri": "https://localhost:8080/"
        },
        "outputId": "484caa65-361f-43dc-acf1-2f281db3e6f1"
      },
      "source": [
        "num_iters = 2000\n",
        "eps = 0.5\n",
        "\n",
        "mse = np.zeros(num_iters)\n",
        "\n",
        "for it in range(num_iters):\n",
        "    for n in range(len(X)):\n",
        "        x_n = np.reshape(X[n], (3,1))\n",
        "        y_target = y[n]        \n",
        "        \n",
        "        # Forward propagation\n",
        "        h = f(np.dot(x_n.T, W_1))\n",
        "        y_out = f(np.dot(h, W_2))\n",
        "\n",
        "        # Let's keep track of the sum of squared errors\n",
        "        mse[it] += (y_target - y_out)**2 \n",
        "\n",
        "        # Compute the Gradient\n",
        "        # NOTE: made in the more compact way with vectorial notation instead than using two loops\n",
        "        \n",
        "        # gradients for hidden to output weights\n",
        "        grad_2 =  (y_target - y_out) * y_out * (1 - y_out)\n",
        "        # gradients for input to hidden weights\n",
        "        grad_1 = np.dot((y_target - y_out) * y_out * (1 - y_out), W_2.T) * (h * (1 - h))\n",
        "        \n",
        "        # Calculate the weight update\n",
        "        W_2_delta = learning_rate * np.dot(h.T, grad_2)\n",
        "        W_1_delta = learning_rate * np.dot(x_n, grad_1)\n",
        "\n",
        "        # Update weights\n",
        "        W_2 += W_2_delta\n",
        "        W_1 += W_1_delta\n",
        "      \n",
        "    # Divide by the number of elements to get the mean of the squared errors\n",
        "    mse[it] /= len(X)\n",
        "\n",
        "y_out = f(np.dot(f(np.dot(X, W_1)), W_2))\n",
        "print(\"Output after training, y_out\")\n",
        "print(y_out)\n",
        "print(\"Target output, y\")\n",
        "print(y)"
      ],
      "execution_count": 256,
      "outputs": [
        {
          "output_type": "stream",
          "text": [
            "Output after training, y_out\n",
            "[[0.04787119]\n",
            " [0.93728544]\n",
            " [0.95632231]\n",
            " [0.05788845]]\n",
            "Target output, y\n",
            "[[0]\n",
            " [1]\n",
            " [1]\n",
            " [0]]\n"
          ],
          "name": "stdout"
        }
      ]
    },
    {
      "cell_type": "markdown",
      "metadata": {
        "id": "1nYoyoR2fANg"
      },
      "source": [
        "Now you should see outputs very similar to the desired ones "
      ]
    },
    {
      "cell_type": "code",
      "metadata": {
        "id": "YKuG4wee9kIc",
        "colab": {
          "base_uri": "https://localhost:8080/",
          "height": 265
        },
        "outputId": "028507b3-b505-4ffe-d15f-ed033899d4e6"
      },
      "source": [
        "plt.figure()\n",
        "plt.plot(range(num_iters), mse, label=\"MSE\")\n",
        "l = plt.legend()"
      ],
      "execution_count": 257,
      "outputs": [
        {
          "output_type": "display_data",
          "data": {
            "image/png": "[encoded data removed]",
            "text/plain": [
              "<Figure size 432x288 with 1 Axes>"
            ]
          },
          "metadata": {
            "tags": [],
            "needs_background": "light"
          }
        }
      ]
    },
    {
      "cell_type": "markdown",
      "metadata": {
        "id": "cAmf-t0PurMP"
      },
      "source": [
        "## Exercise 1.3: handwritten digits classification\n",
        "In this exercise, we try to apply what we learned in the previous exercise in a real-world scenario. In particular, we consider a simple digits classification problem. The model turns out to be similar to the perceptron implemented in Exercise 1.1, but here we will use softmax activation function and cross-entropy loss function. The idea is to create a model that has in input an image of a handwritten digit and that return a vector of 10 probabilities (one for each possible digit 0 - 9). "
      ]
    },
    {
      "cell_type": "markdown",
      "metadata": {
        "id": "IAYb_cd8vkG-"
      },
      "source": [
        "### Dataset:\n",
        "The dataset that we will use in this exercise is contained in [scikit-learn](https://scikit-learn.org/stable/). The dataset contains several samples. Each sample is composed of the image of the handwritten digit, a numeric representation of the image  (that will be the input of our model) and the target (the digit itself). \n",
        "\n",
        "Let's start by plotting one of this handwritten digit:"
      ]
    },
    {
      "cell_type": "code",
      "metadata": {
        "id": "MGrkAeWtufMk",
        "colab": {
          "base_uri": "https://localhost:8080/",
          "height": 244
        },
        "outputId": "866a7434-5915-4d91-c72b-585f2cc2235d"
      },
      "source": [
        "import matplotlib.pyplot as plt\n",
        "import numpy as np\n",
        "from sklearn.datasets import load_digits\n",
        "\n",
        "np.random.seed([42])\n",
        "\n",
        "digits = load_digits()\n",
        "\n",
        "sample_index = 45\n",
        "plt.figure(figsize=(3, 3))\n",
        "plt.imshow(digits.images[sample_index], cmap=plt.cm.gray_r,\n",
        "           interpolation='nearest')\n",
        "plt.title(\"image label: %d\" % digits.target[sample_index])"
      ],
      "execution_count": 258,
      "outputs": [
        {
          "output_type": "execute_result",
          "data": {
            "text/plain": [
              "Text(0.5, 1.0, 'image label: 3')"
            ]
          },
          "metadata": {
            "tags": []
          },
          "execution_count": 258
        },
        {
          "output_type": "display_data",
          "data": {
            "image/png": "[encoded data removed]",
            "text/plain": [
              "<Figure size 216x216 with 1 Axes>"
            ]
          },
          "metadata": {
            "tags": [],
            "needs_background": "light"
          }
        }
      ]
    },
    {
      "cell_type": "markdown",
      "metadata": {
        "id": "K0OsnNJbv69J"
      },
      "source": [
        "Check how an input $\\mathbf{X}$ and its related target $\\mathbf{y}$ are represented in the dataset"
      ]
    },
    {
      "cell_type": "code",
      "metadata": {
        "id": "ei9Uda4av5q2",
        "colab": {
          "base_uri": "https://localhost:8080/"
        },
        "outputId": "f8ddaa36-9d1d-4ce3-acd1-19f9d6453303"
      },
      "source": [
        "data = np.asarray(digits.data, dtype='float32')\n",
        "target = np.asarray(digits.target, dtype='int32')\n",
        "\n",
        "print(\"X:\",data)\n",
        "\n",
        "print(\"y:\",target)"
      ],
      "execution_count": 259,
      "outputs": [
        {
          "output_type": "stream",
          "text": [
            "X: [[ 0.  0.  5. ...  0.  0.  0.]\n",
            " [ 0.  0.  0. ... 10.  0.  0.]\n",
            " [ 0.  0.  0. ... 16.  9.  0.]\n",
            " ...\n",
            " [ 0.  0.  1. ...  6.  0.  0.]\n",
            " [ 0.  0.  2. ... 12.  0.  0.]\n",
            " [ 0.  0. 10. ... 12.  1.  0.]]\n",
            "y: [0 1 2 ... 8 9 8]\n"
          ],
          "name": "stdout"
        }
      ]
    },
    {
      "cell_type": "markdown",
      "metadata": {
        "id": "8Hc97pziwLKa"
      },
      "source": [
        "#### One-hot encoding\n",
        "In order to have a representation of the target that will be similar to the output of the model, we will use one-hot encoding. Basically, the one-hot encoding allows to encode a categorical integer feature using a one-of-K scheme"
      ]
    },
    {
      "cell_type": "code",
      "metadata": {
        "id": "eF6jEnOmwRUk"
      },
      "source": [
        "def one_hot(n_classes, y):\n",
        "    return np.eye(n_classes)[y]"
      ],
      "execution_count": 260,
      "outputs": []
    },
    {
      "cell_type": "code",
      "metadata": {
        "id": "r4CISmJ39lts",
        "colab": {
          "base_uri": "https://localhost:8080/"
        },
        "outputId": "c899795e-a13c-49dc-fd7f-7112bfae379d"
      },
      "source": [
        "one_hot(n_classes=10, y=3)"
      ],
      "execution_count": 261,
      "outputs": [
        {
          "output_type": "execute_result",
          "data": {
            "text/plain": [
              "array([0., 0., 0., 1., 0., 0., 0., 0., 0., 0.])"
            ]
          },
          "metadata": {
            "tags": []
          },
          "execution_count": 261
        }
      ]
    },
    {
      "cell_type": "markdown",
      "metadata": {
        "id": "gkSruP-bwkki"
      },
      "source": [
        "### Activation Function: Softmax\n",
        "As activation function we will use the Softmax function: This particular function is very useful when we have to deal with classification tasks and one-hot target because it turns numbers aka logits (pre-activations) into probabilities that sum to one. Basically, Softmax function outputs a vector that represents the probability distributions of a list of potential outcomes.\n",
        "$$\n",
        "softmax(\\mathbf{x}) = \\frac{e^{h_i}}{\\sum_{i=1}^{n}{e^{x_i}}}\n",
        "$$\n",
        "In our case we have in input a matrix $\\mathbf{X}$ where each row is a vector $\\mathbf{x}$, therefore the softmax function that we have to implements will be mathematically defined as:\n",
        "$$\n",
        "softmax(\\mathbf{x}) = \\frac{1}{\\sum_{i=1}^{n}{e^{x_i}}}\n",
        "\\cdot\n",
        "\\begin{bmatrix}\n",
        "  e^{x_1}\\\\\\\\\n",
        "  e^{x_2}\\\\\\\\\n",
        "  \\vdots\\\\\\\\\n",
        "  e^{x_n}\n",
        "\\end{bmatrix}\n",
        "$$\n"
      ]
    },
    {
      "cell_type": "code",
      "metadata": {
        "id": "9BuHFgAKws_v"
      },
      "source": [
        "def softmax(X):\n",
        "  return np.exp(X) / np.sum(np.exp(X))"
      ],
      "execution_count": 262,
      "outputs": []
    },
    {
      "cell_type": "markdown",
      "metadata": {
        "id": "KP7xOmNqsE-R"
      },
      "source": [
        "### Loss Function: Cross Entropy ###\n",
        "Usualy, a neural network-based classifier that use the softmax function in the final layer is commonly trained using Cross-Entropy as loss function."
      ]
    },
    {
      "cell_type": "code",
      "metadata": {
        "id": "UYnPJ1lWsFkP"
      },
      "source": [
        "EPSILON = 1e-8\n",
        "\n",
        "def cross_entropy(Y_true, Y_pred):\n",
        "\n",
        "    Y_true, Y_pred = np.atleast_2d(Y_true), np.atleast_2d(Y_pred)\n",
        "    loglikelihoods = np.sum(np.log(EPSILON + Y_pred) * Y_true, axis=1)\n",
        "    return -np.mean(loglikelihoods)\n"
      ],
      "execution_count": 263,
      "outputs": []
    },
    {
      "cell_type": "markdown",
      "metadata": {
        "id": "R2jR9ijztQWP"
      },
      "source": [
        "### Weights Initailiazation\n",
        "\n",
        "Similarly to what we did in previous exercises, we have to initialize the weights, but in this case, we will consider also the bias term. Therefore we have the weights $\\mathbf{W}\\in\\mathbb{R}^{m \\times n}$ and the bias $\\mathbf{b}\\in\\mathbb{R}^m$, where $n$ is the input size, and $m$ the number of classes.\n",
        "Now we can define the output of our model\n",
        "\n",
        "$\\hat{\\mathbf{y}}=softmax(\\textbf{W} \\textbf{x}+\\mathbf{b})$\n",
        "\n"
      ]
    },
    {
      "cell_type": "code",
      "metadata": {
        "id": "FtgOtaVL-4xd"
      },
      "source": [
        "input_size=data.shape[1]\n",
        "n_classes = len(np.unique(target))\n",
        "\n",
        "W = np.random.uniform(size=(input_size,n_classes), high=0.1, low=-0.1)\n",
        "b = np.random.uniform(size=n_classes, high=0.1, low=-0.1)"
      ],
      "execution_count": 264,
      "outputs": []
    },
    {
      "cell_type": "markdown",
      "metadata": {
        "id": "6Ab3_mFz-9kG"
      },
      "source": [
        "Let's consider a sample from the training set, and plot the current output of our model, before training it."
      ]
    },
    {
      "cell_type": "code",
      "metadata": {
        "id": "6VpIr1KY_CTd",
        "colab": {
          "base_uri": "https://localhost:8080/",
          "height": 281
        },
        "outputId": "ff8dceb1-cadf-450c-92bd-cc2ebc253ee3"
      },
      "source": [
        "y_out=softmax(np.dot(data[sample_index], W) + b)\n",
        "\n",
        "plt.bar(range(n_classes),y_out,label='prediction', color=\"red\")\n",
        "plt.ylim(0,1,0.1)\n",
        "plt.xticks(range(n_classes))\n",
        "plt.legend()\n",
        "plt.ylabel(\"probability\")\n",
        "plt.title(\"target:\"+str(target[sample_index]))\n",
        "plt.show()"
      ],
      "execution_count": 265,
      "outputs": [
        {
          "output_type": "display_data",
          "data": {
            "image/png": "[encoded data removed]",
            "text/plain": [
              "<Figure size 432x288 with 1 Axes>"
            ]
          },
          "metadata": {
            "tags": [],
            "needs_background": "light"
          }
        }
      ]
    },
    {
      "cell_type": "markdown",
      "metadata": {
        "id": "r4DYTEEh_QDf"
      },
      "source": [
        "### Training procedure:\n",
        "As in the previous exercise let's define a training procedure. Note that in this case, we have to compute the gradient according to the softmax function and the loss function that the training has to optimize. \n",
        "\n",
        "In this case, the gradient for the weights W is:\n",
        "\n",
        "$\\nabla_W=(\\mathbf{\\hat{y}}-\\mathbf{y}) \\cdot \\mathbf{x}$\n",
        "\n",
        "while for the bias is:\n",
        "\n",
        "$\\nabla_b=(\\mathbf{\\hat{y}}-\\mathbf{y})$\n",
        "\n",
        "During the training procedure let's compute the accuracy of the predictions and the loss value at each iteration:\n",
        "\n"
      ]
    },
    {
      "cell_type": "code",
      "metadata": {
        "id": "OcQfByoE_a6v",
        "colab": {
          "base_uri": "https://localhost:8080/"
        },
        "outputId": "f84960ab-eedc-4070-a6cf-8eb0f1fbd6a6"
      },
      "source": [
        "num_iters = 100\n",
        "learning_rate = 0.0005\n",
        "mean_acc= np.zeros(num_iters)\n",
        "mean_loss= mse = np.zeros(num_iters)\n",
        "\n",
        "for it in range(num_iters):\n",
        "    iteration_accuracy=[]\n",
        "    iteration_loss=[]\n",
        "    for i, (X, y) in enumerate(zip(data, target)):\n",
        "\n",
        "        x_n = np.reshape(X, (input_size,1))\n",
        "        \n",
        "        # Forward propagation\n",
        "        y_out = softmax(np.dot(x_n.T, W) + b)\n",
        "        \n",
        "        #Eval the output error\n",
        "        pred_err = y_out - y\n",
        "\n",
        "        # Compute the gradients\n",
        "        \n",
        "        grad_w = np.dot(x_n, np.reshape((y_out - one_hot(n_classes, y)), (n_classes, 1)).T)\n",
        "        grad_b = y_out - one_hot(n_classes,y) \n",
        "        \n",
        "        # Update the weights and the bias\n",
        "        W += -learning_rate * grad_w * x_n\n",
        "        b += -learning_rate * np.reshape(grad_b,(n_classes,))\n",
        "       \n",
        "        iteration_accuracy.append(np.argmax(y_out) == y)\n",
        "        iteration_loss.append(cross_entropy(one_hot(n_classes,y),y_out))\n",
        "\n",
        "    mean_loss[it] = np.mean(iteration_loss)\n",
        "    mean_acc[it] = np.mean(np.asarray(iteration_accuracy))\n",
        "    print(\"iteration: \",it,\" -- accuracy: \",np.mean(np.asarray(iteration_accuracy)), \" -- loss: \", np.mean(iteration_loss))\n"
      ],
      "execution_count": 266,
      "outputs": [
        {
          "output_type": "stream",
          "text": [
            "iteration:  0  -- accuracy:  0.8313856427378965  -- loss:  1.5529048937088168\n",
            "iteration:  1  -- accuracy:  0.9237618252643295  -- loss:  0.7121410140894017\n",
            "iteration:  2  -- accuracy:  0.9360044518642181  -- loss:  0.5783178474683789\n",
            "iteration:  3  -- accuracy:  0.9437952142459655  -- loss:  0.529454494272895\n",
            "iteration:  4  -- accuracy:  0.9538119087367836  -- loss:  0.4534108838396007\n",
            "iteration:  5  -- accuracy:  0.9582637729549248  -- loss:  0.32268215629908104\n",
            "iteration:  6  -- accuracy:  0.9599332220367279  -- loss:  0.3807266664669393\n",
            "iteration:  7  -- accuracy:  0.9593767390094602  -- loss:  0.37558588675033827\n",
            "iteration:  8  -- accuracy:  0.9621591541457986  -- loss:  0.33492806714814\n",
            "iteration:  9  -- accuracy:  0.9632721202003339  -- loss:  0.35238038589475745\n",
            "iteration:  10  -- accuracy:  0.9593767390094602  -- loss:  0.3141720338097103\n",
            "iteration:  11  -- accuracy:  0.9693934335002783  -- loss:  0.2846924552157768\n",
            "iteration:  12  -- accuracy:  0.9677239844184753  -- loss:  0.2779544463306182\n",
            "iteration:  13  -- accuracy:  0.9649415692821369  -- loss:  0.2564353412593508\n",
            "iteration:  14  -- accuracy:  0.9649415692821369  -- loss:  0.265000814710169\n",
            "iteration:  15  -- accuracy:  0.9649415692821369  -- loss:  0.28521019196561975\n",
            "iteration:  16  -- accuracy:  0.9721758486366165  -- loss:  0.21618286531142716\n",
            "iteration:  17  -- accuracy:  0.9677239844184753  -- loss:  0.2518560067361063\n",
            "iteration:  18  -- accuracy:  0.9788536449638287  -- loss:  0.18310903291191197\n",
            "iteration:  19  -- accuracy:  0.9682804674457429  -- loss:  0.22917715485192341\n",
            "iteration:  20  -- accuracy:  0.9744017807456873  -- loss:  0.22121349918459976\n",
            "iteration:  21  -- accuracy:  0.9744017807456873  -- loss:  0.20143366352156158\n",
            "iteration:  22  -- accuracy:  0.9827490261547023  -- loss:  0.16800646924927534\n",
            "iteration:  23  -- accuracy:  0.9771841958820257  -- loss:  0.18691289364546\n",
            "iteration:  24  -- accuracy:  0.9727323316638843  -- loss:  0.18831095939475653\n",
            "iteration:  25  -- accuracy:  0.9799666110183639  -- loss:  0.179194365402114\n",
            "iteration:  26  -- accuracy:  0.9738452977184195  -- loss:  0.14990790242109073\n",
            "iteration:  27  -- accuracy:  0.9810795770728993  -- loss:  0.1561049990121403\n",
            "iteration:  28  -- accuracy:  0.9771841958820257  -- loss:  0.16993034316676442\n",
            "iteration:  29  -- accuracy:  0.9838619922092376  -- loss:  0.13694678278663525\n",
            "iteration:  30  -- accuracy:  0.9827490261547023  -- loss:  0.14099196123759936\n",
            "iteration:  31  -- accuracy:  0.9816360601001669  -- loss:  0.14950356267625872\n",
            "iteration:  32  -- accuracy:  0.9799666110183639  -- loss:  0.14335683633347657\n",
            "iteration:  33  -- accuracy:  0.9788536449638287  -- loss:  0.14211681389775152\n",
            "iteration:  34  -- accuracy:  0.9844184752365053  -- loss:  0.12988637378617418\n",
            "iteration:  35  -- accuracy:  0.9827490261547023  -- loss:  0.1124084373822898\n",
            "iteration:  36  -- accuracy:  0.9805230940456316  -- loss:  0.15458367207434914\n",
            "iteration:  37  -- accuracy:  0.9777406789092933  -- loss:  0.16314092951566647\n",
            "iteration:  38  -- accuracy:  0.9838619922092376  -- loss:  0.10237458745118927\n",
            "iteration:  39  -- accuracy:  0.9849749582637729  -- loss:  0.09917223087920356\n",
            "iteration:  40  -- accuracy:  0.9816360601001669  -- loss:  0.14622942804793745\n",
            "iteration:  41  -- accuracy:  0.9872008903728436  -- loss:  0.0905802946561523\n",
            "iteration:  42  -- accuracy:  0.9794101279910963  -- loss:  0.1530589484929082\n",
            "iteration:  43  -- accuracy:  0.9849749582637729  -- loss:  0.12898680775852056\n",
            "iteration:  44  -- accuracy:  0.9805230940456316  -- loss:  0.12182978157703026\n",
            "iteration:  45  -- accuracy:  0.9888703394546466  -- loss:  0.07429083536684714\n",
            "iteration:  46  -- accuracy:  0.9872008903728436  -- loss:  0.1008296111296321\n",
            "iteration:  47  -- accuracy:  0.988313856427379  -- loss:  0.09064016544981786\n",
            "iteration:  48  -- accuracy:  0.9844184752365053  -- loss:  0.09366776789950493\n",
            "iteration:  49  -- accuracy:  0.9910962715637173  -- loss:  0.053754115813460596\n",
            "iteration:  50  -- accuracy:  0.9860879243183083  -- loss:  0.1041514132760697\n",
            "iteration:  51  -- accuracy:  0.9927657206455203  -- loss:  0.05015657224887294\n",
            "iteration:  52  -- accuracy:  0.9905397885364496  -- loss:  0.05879607717057524\n",
            "iteration:  53  -- accuracy:  0.9888703394546466  -- loss:  0.07054022151962137\n",
            "iteration:  54  -- accuracy:  0.9910962715637173  -- loss:  0.06387256190902578\n",
            "iteration:  55  -- accuracy:  0.9955481357818586  -- loss:  0.043572594278797755\n",
            "iteration:  56  -- accuracy:  0.9894268224819143  -- loss:  0.06354322206192074\n",
            "iteration:  57  -- accuracy:  0.9905397885364496  -- loss:  0.07154983627443727\n",
            "iteration:  58  -- accuracy:  0.9922092376182526  -- loss:  0.04730932289216459\n",
            "iteration:  59  -- accuracy:  0.9905397885364496  -- loss:  0.059486109853283564\n",
            "iteration:  60  -- accuracy:  0.988313856427379  -- loss:  0.06278913260130625\n",
            "iteration:  61  -- accuracy:  0.9955481357818586  -- loss:  0.02645984678548962\n",
            "iteration:  62  -- accuracy:  0.993322203672788  -- loss:  0.035581018318550685\n",
            "iteration:  63  -- accuracy:  0.9938786867000556  -- loss:  0.047011506611411576\n",
            "iteration:  64  -- accuracy:  0.9944351697273233  -- loss:  0.03571766429764453\n",
            "iteration:  65  -- accuracy:  0.9927657206455203  -- loss:  0.05239435831486417\n",
            "iteration:  66  -- accuracy:  0.9894268224819143  -- loss:  0.07497124944420834\n",
            "iteration:  67  -- accuracy:  0.9922092376182526  -- loss:  0.04247489096966877\n",
            "iteration:  68  -- accuracy:  0.993322203672788  -- loss:  0.042195437990694834\n",
            "iteration:  69  -- accuracy:  0.991652754590985  -- loss:  0.05525222779828249\n",
            "iteration:  70  -- accuracy:  0.9955481357818586  -- loss:  0.02121392860167534\n",
            "iteration:  71  -- accuracy:  0.9955481357818586  -- loss:  0.03701123487913173\n",
            "iteration:  72  -- accuracy:  0.9938786867000556  -- loss:  0.03558490871001584\n",
            "iteration:  73  -- accuracy:  0.9961046188091264  -- loss:  0.015920703536270172\n",
            "iteration:  74  -- accuracy:  0.9910962715637173  -- loss:  0.07186437446871476\n",
            "iteration:  75  -- accuracy:  0.996661101836394  -- loss:  0.01377572522193134\n",
            "iteration:  76  -- accuracy:  0.988313856427379  -- loss:  0.05140492467919027\n",
            "iteration:  77  -- accuracy:  0.9938786867000556  -- loss:  0.0339268078416603\n",
            "iteration:  78  -- accuracy:  0.9927657206455203  -- loss:  0.04697544538555463\n",
            "iteration:  79  -- accuracy:  0.994991652754591  -- loss:  0.029968524279369822\n",
            "iteration:  80  -- accuracy:  0.9905397885364496  -- loss:  0.059677991422562256\n",
            "iteration:  81  -- accuracy:  0.9927657206455203  -- loss:  0.05367969573818921\n",
            "iteration:  82  -- accuracy:  0.9927657206455203  -- loss:  0.026338423839619426\n",
            "iteration:  83  -- accuracy:  0.988313856427379  -- loss:  0.07227695336157186\n",
            "iteration:  84  -- accuracy:  0.9972175848636616  -- loss:  0.021549074221545315\n",
            "iteration:  85  -- accuracy:  0.994991652754591  -- loss:  0.016483261160886737\n",
            "iteration:  86  -- accuracy:  0.9938786867000556  -- loss:  0.02341212476263649\n",
            "iteration:  87  -- accuracy:  0.9922092376182526  -- loss:  0.05295800576150014\n",
            "iteration:  88  -- accuracy:  0.9961046188091264  -- loss:  0.045117781912237906\n",
            "iteration:  89  -- accuracy:  0.996661101836394  -- loss:  0.005372126135186397\n",
            "iteration:  90  -- accuracy:  0.994991652754591  -- loss:  0.017044865669408965\n",
            "iteration:  91  -- accuracy:  0.9910962715637173  -- loss:  0.03178063173314334\n",
            "iteration:  92  -- accuracy:  0.9955481357818586  -- loss:  0.025550099888979858\n",
            "iteration:  93  -- accuracy:  0.9955481357818586  -- loss:  0.021391840258136542\n",
            "iteration:  94  -- accuracy:  0.9944351697273233  -- loss:  0.02323665142547656\n",
            "iteration:  95  -- accuracy:  0.9955481357818586  -- loss:  0.02058921179606925\n",
            "iteration:  96  -- accuracy:  0.9927657206455203  -- loss:  0.031306700086681634\n",
            "iteration:  97  -- accuracy:  0.9922092376182526  -- loss:  0.042831953073454915\n",
            "iteration:  98  -- accuracy:  0.9977740678909294  -- loss:  0.01413881562365184\n",
            "iteration:  99  -- accuracy:  0.9961046188091264  -- loss:  0.02631361867975712\n"
          ],
          "name": "stdout"
        }
      ]
    },
    {
      "cell_type": "markdown",
      "metadata": {
        "id": "QnJH8lWaxtc4"
      },
      "source": [
        "As you can see during the training the accuracy increase after each iteration, while the loss function value progressively decreases.\n",
        "\n",
        "Let's now check how the prediction capability of our model change after the training:"
      ]
    },
    {
      "cell_type": "code",
      "metadata": {
        "id": "jGrzV9w6_lwz",
        "colab": {
          "base_uri": "https://localhost:8080/",
          "height": 281
        },
        "outputId": "7c51739f-84bf-46e0-9446-01608f4db9d3"
      },
      "source": [
        "y_pred=softmax(np.dot(data[sample_index], W) + b)\n",
        "plt.bar(range(n_classes), y_pred, label='prediction', color=\"red\")\n",
        "plt.ylim(0, 1, 0.1)\n",
        "plt.xticks(range(n_classes))\n",
        "plt.legend()\n",
        "plt.ylabel(\"probability\")\n",
        "plt.title(\"target:\"+str(target[sample_index]))\n",
        "plt.show()"
      ],
      "execution_count": 267,
      "outputs": [
        {
          "output_type": "display_data",
          "data": {
            "image/png": "[encoded data removed]",
            "text/plain": [
              "<Figure size 432x288 with 1 Axes>"
            ]
          },
          "metadata": {
            "tags": [],
            "needs_background": "light"
          }
        }
      ]
    },
    {
      "cell_type": "code",
      "metadata": {
        "colab": {
          "base_uri": "https://localhost:8080/",
          "height": 265
        },
        "id": "fPFRfYEW9DAv",
        "outputId": "46e850eb-52e6-4dde-cbb5-d400b2a6f075"
      },
      "source": [
        "plt.figure()\n",
        "plt.plot(range(num_iters), mean_acc, label=\"Accuracy\")\n",
        "l = plt.legend()"
      ],
      "execution_count": 268,
      "outputs": [
        {
          "output_type": "display_data",
          "data": {
            "image/png": "[encoded data removed]",
            "text/plain": [
              "<Figure size 432x288 with 1 Axes>"
            ]
          },
          "metadata": {
            "tags": [],
            "needs_background": "light"
          }
        }
      ]
    },
    {
      "cell_type": "code",
      "metadata": {
        "colab": {
          "base_uri": "https://localhost:8080/",
          "height": 265
        },
        "id": "4ZpLVeKFDUCo",
        "outputId": "b3cd9aab-a31c-456f-bd35-005dbe644d4c"
      },
      "source": [
        "plt.figure()\n",
        "plt.plot(range(num_iters), mean_loss, label=\"Loss\")\n",
        "l = plt.legend()"
      ],
      "execution_count": 269,
      "outputs": [
        {
          "output_type": "display_data",
          "data": {
            "image/png": "[encoded data removed]",
            "text/plain": [
              "<Figure size 432x288 with 1 Axes>"
            ]
          },
          "metadata": {
            "tags": [],
            "needs_background": "light"
          }
        }
      ]
    },
    {
      "cell_type": "markdown",
      "metadata": {
        "id": "TAFCjTdj0foW"
      },
      "source": [
        "FINAL CONSIDERATONS\n",
        "\n",
        "Regarding the XOR problem we have seen the single neuron architecture is only capable of separating data points with a single line but it is not efficient in this case since these inputs are not linearly separable. Instead  a multilayer perceptron, in particular only one hidden layer is enough, the network is able to correctly predict the targets thanks to the backpropagation algorithm.\n",
        "\n",
        "Regarding the digits classification problem we have seen our network reaches a convergence of a high value of accuracy (above 99%) and a low loss during the iterations (as we can observe in the last two graphs). In this case a single layer network is enough since the data are separable but in this case the number of neuron is increased since the target have 10 possible classes (as extention of the simple perceptron for binary classification used in the first exercize). Also the activation function chosen and the loss function seems to be suitable for this problem."
      ]
    }
  ]
}